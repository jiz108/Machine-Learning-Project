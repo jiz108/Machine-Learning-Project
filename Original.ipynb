{
 "cells": [
  {
   "cell_type": "markdown",
   "metadata": {
    "button": false,
    "new_sheet": false,
    "run_control": {
     "read_only": false
    }
   },
   "source": [
    "<a href=\"https://www.bigdatauniversity.com\"><img src=\"https://ibm.box.com/shared/static/cw2c7r3o20w9zn8gkecaeyjhgw3xdgbj.png\" width=\"400\" align=\"center\"></a>\n",
    "\n",
    "<h1 align=\"center\"><font size=\"6\">Classification with Python</font></h1>"
   ]
  },
  {
   "cell_type": "code",
   "execution_count": 1,
   "metadata": {
    "button": false,
    "new_sheet": false,
    "run_control": {
     "read_only": false
    }
   },
   "outputs": [],
   "source": [
    "import itertools\n",
    "import numpy as np\n",
    "import matplotlib.pyplot as plt\n",
    "from matplotlib.ticker import NullFormatter\n",
    "import pandas as pd\n",
    "import numpy as np\n",
    "import matplotlib.ticker as ticker\n",
    "from sklearn import preprocessing\n",
    "%matplotlib inline\n",
    "plt.style.use('ggplot')"
   ]
  },
  {
   "cell_type": "code",
   "execution_count": 2,
   "metadata": {},
   "outputs": [
    {
     "name": "stdout",
     "output_type": "stream",
     "text": [
      "Solving environment: done\n",
      "\n",
      "# All requested packages already installed.\n",
      "\n"
     ]
    }
   ],
   "source": [
    "# notice: installing seaborn might takes a few minutes\n",
    "!conda install -c anaconda seaborn -y"
   ]
  },
  {
   "cell_type": "markdown",
   "metadata": {
    "button": false,
    "new_sheet": false,
    "run_control": {
     "read_only": false
    }
   },
   "source": [
    "### About dataset"
   ]
  },
  {
   "cell_type": "markdown",
   "metadata": {
    "button": false,
    "new_sheet": false,
    "run_control": {
     "read_only": false
    }
   },
   "source": [
    "This dataset is about past loans. The __Loan_train.csv__ data set includes details of 346 customers whose loan are already paid off or defaulted. It includes following fields:\n",
    "\n",
    "| Field          | Description                                                                           |\n",
    "|----------------|---------------------------------------------------------------------------------------|\n",
    "| Loan_status    | Whether a loan is paid off on in collection                                           |\n",
    "| Principal      | Basic principal loan amount at the                                                    |\n",
    "| Terms          | Origination terms which can be weekly (7 days), biweekly, and monthly payoff schedule |\n",
    "| Effective_date | When the loan got originated and took effects                                         |\n",
    "| Due_date       | Since it’s one-time payoff schedule, each loan has one single due date                |\n",
    "| Age            | Age of applicant                                                                      |\n",
    "| Education      | Education of applicant                                                                |\n",
    "| Gender         | The gender of applicant                                                               |"
   ]
  },
  {
   "cell_type": "markdown",
   "metadata": {
    "button": false,
    "new_sheet": false,
    "run_control": {
     "read_only": false
    }
   },
   "source": [
    "### Lets download the dataset"
   ]
  },
  {
   "cell_type": "code",
   "execution_count": 3,
   "metadata": {
    "button": false,
    "new_sheet": false,
    "run_control": {
     "read_only": false
    }
   },
   "outputs": [
    {
     "name": "stdout",
     "output_type": "stream",
     "text": [
      "--2020-02-04 14:29:02--  https://s3-api.us-geo.objectstorage.softlayer.net/cf-courses-data/CognitiveClass/ML0101ENv3/labs/loan_train.csv\n",
      "Resolving s3-api.us-geo.objectstorage.softlayer.net (s3-api.us-geo.objectstorage.softlayer.net)... 67.228.254.196\n",
      "Connecting to s3-api.us-geo.objectstorage.softlayer.net (s3-api.us-geo.objectstorage.softlayer.net)|67.228.254.196|:443... connected.\n",
      "HTTP request sent, awaiting response... 200 OK\n",
      "Length: 23101 (23K) [text/csv]\n",
      "Saving to: ‘loan_train.csv’\n",
      "\n",
      "100%[======================================>] 23,101      --.-K/s   in 0.002s  \n",
      "\n",
      "2020-02-04 14:29:02 (12.9 MB/s) - ‘loan_train.csv’ saved [23101/23101]\n",
      "\n"
     ]
    }
   ],
   "source": [
    "!wget -O loan_train.csv https://s3-api.us-geo.objectstorage.softlayer.net/cf-courses-data/CognitiveClass/ML0101ENv3/labs/loan_train.csv"
   ]
  },
  {
   "cell_type": "markdown",
   "metadata": {
    "button": false,
    "new_sheet": false,
    "run_control": {
     "read_only": false
    }
   },
   "source": [
    "# Load Data From CSV File  "
   ]
  },
  {
   "cell_type": "code",
   "execution_count": 4,
   "metadata": {
    "button": false,
    "new_sheet": false,
    "run_control": {
     "read_only": false
    }
   },
   "outputs": [
    {
     "data": {
      "text/html": [
       "<div>\n",
       "<style scoped>\n",
       "    .dataframe tbody tr th:only-of-type {\n",
       "        vertical-align: middle;\n",
       "    }\n",
       "\n",
       "    .dataframe tbody tr th {\n",
       "        vertical-align: top;\n",
       "    }\n",
       "\n",
       "    .dataframe thead th {\n",
       "        text-align: right;\n",
       "    }\n",
       "</style>\n",
       "<table border=\"1\" class=\"dataframe\">\n",
       "  <thead>\n",
       "    <tr style=\"text-align: right;\">\n",
       "      <th></th>\n",
       "      <th>Unnamed: 0</th>\n",
       "      <th>Unnamed: 0.1</th>\n",
       "      <th>loan_status</th>\n",
       "      <th>Principal</th>\n",
       "      <th>terms</th>\n",
       "      <th>effective_date</th>\n",
       "      <th>due_date</th>\n",
       "      <th>age</th>\n",
       "      <th>education</th>\n",
       "      <th>Gender</th>\n",
       "    </tr>\n",
       "  </thead>\n",
       "  <tbody>\n",
       "    <tr>\n",
       "      <th>0</th>\n",
       "      <td>0</td>\n",
       "      <td>0</td>\n",
       "      <td>PAIDOFF</td>\n",
       "      <td>1000</td>\n",
       "      <td>30</td>\n",
       "      <td>9/8/2016</td>\n",
       "      <td>10/7/2016</td>\n",
       "      <td>45</td>\n",
       "      <td>High School or Below</td>\n",
       "      <td>male</td>\n",
       "    </tr>\n",
       "    <tr>\n",
       "      <th>1</th>\n",
       "      <td>2</td>\n",
       "      <td>2</td>\n",
       "      <td>PAIDOFF</td>\n",
       "      <td>1000</td>\n",
       "      <td>30</td>\n",
       "      <td>9/8/2016</td>\n",
       "      <td>10/7/2016</td>\n",
       "      <td>33</td>\n",
       "      <td>Bechalor</td>\n",
       "      <td>female</td>\n",
       "    </tr>\n",
       "    <tr>\n",
       "      <th>2</th>\n",
       "      <td>3</td>\n",
       "      <td>3</td>\n",
       "      <td>PAIDOFF</td>\n",
       "      <td>1000</td>\n",
       "      <td>15</td>\n",
       "      <td>9/8/2016</td>\n",
       "      <td>9/22/2016</td>\n",
       "      <td>27</td>\n",
       "      <td>college</td>\n",
       "      <td>male</td>\n",
       "    </tr>\n",
       "    <tr>\n",
       "      <th>3</th>\n",
       "      <td>4</td>\n",
       "      <td>4</td>\n",
       "      <td>PAIDOFF</td>\n",
       "      <td>1000</td>\n",
       "      <td>30</td>\n",
       "      <td>9/9/2016</td>\n",
       "      <td>10/8/2016</td>\n",
       "      <td>28</td>\n",
       "      <td>college</td>\n",
       "      <td>female</td>\n",
       "    </tr>\n",
       "    <tr>\n",
       "      <th>4</th>\n",
       "      <td>6</td>\n",
       "      <td>6</td>\n",
       "      <td>PAIDOFF</td>\n",
       "      <td>1000</td>\n",
       "      <td>30</td>\n",
       "      <td>9/9/2016</td>\n",
       "      <td>10/8/2016</td>\n",
       "      <td>29</td>\n",
       "      <td>college</td>\n",
       "      <td>male</td>\n",
       "    </tr>\n",
       "  </tbody>\n",
       "</table>\n",
       "</div>"
      ],
      "text/plain": [
       "   Unnamed: 0  Unnamed: 0.1 loan_status  Principal  terms effective_date  \\\n",
       "0           0             0     PAIDOFF       1000     30       9/8/2016   \n",
       "1           2             2     PAIDOFF       1000     30       9/8/2016   \n",
       "2           3             3     PAIDOFF       1000     15       9/8/2016   \n",
       "3           4             4     PAIDOFF       1000     30       9/9/2016   \n",
       "4           6             6     PAIDOFF       1000     30       9/9/2016   \n",
       "\n",
       "    due_date  age             education  Gender  \n",
       "0  10/7/2016   45  High School or Below    male  \n",
       "1  10/7/2016   33              Bechalor  female  \n",
       "2  9/22/2016   27               college    male  \n",
       "3  10/8/2016   28               college  female  \n",
       "4  10/8/2016   29               college    male  "
      ]
     },
     "execution_count": 4,
     "metadata": {},
     "output_type": "execute_result"
    }
   ],
   "source": [
    "df = pd.read_csv('loan_train.csv')\n",
    "df.head()"
   ]
  },
  {
   "cell_type": "code",
   "execution_count": 5,
   "metadata": {},
   "outputs": [
    {
     "data": {
      "text/plain": [
       "(346, 10)"
      ]
     },
     "execution_count": 5,
     "metadata": {},
     "output_type": "execute_result"
    }
   ],
   "source": [
    "df.shape"
   ]
  },
  {
   "cell_type": "markdown",
   "metadata": {
    "button": false,
    "new_sheet": false,
    "run_control": {
     "read_only": false
    }
   },
   "source": [
    "## Convert to date time object "
   ]
  },
  {
   "cell_type": "code",
   "execution_count": 6,
   "metadata": {
    "button": false,
    "new_sheet": false,
    "run_control": {
     "read_only": false
    }
   },
   "outputs": [
    {
     "data": {
      "text/html": [
       "<div>\n",
       "<style scoped>\n",
       "    .dataframe tbody tr th:only-of-type {\n",
       "        vertical-align: middle;\n",
       "    }\n",
       "\n",
       "    .dataframe tbody tr th {\n",
       "        vertical-align: top;\n",
       "    }\n",
       "\n",
       "    .dataframe thead th {\n",
       "        text-align: right;\n",
       "    }\n",
       "</style>\n",
       "<table border=\"1\" class=\"dataframe\">\n",
       "  <thead>\n",
       "    <tr style=\"text-align: right;\">\n",
       "      <th></th>\n",
       "      <th>Unnamed: 0</th>\n",
       "      <th>Unnamed: 0.1</th>\n",
       "      <th>loan_status</th>\n",
       "      <th>Principal</th>\n",
       "      <th>terms</th>\n",
       "      <th>effective_date</th>\n",
       "      <th>due_date</th>\n",
       "      <th>age</th>\n",
       "      <th>education</th>\n",
       "      <th>Gender</th>\n",
       "    </tr>\n",
       "  </thead>\n",
       "  <tbody>\n",
       "    <tr>\n",
       "      <th>0</th>\n",
       "      <td>0</td>\n",
       "      <td>0</td>\n",
       "      <td>PAIDOFF</td>\n",
       "      <td>1000</td>\n",
       "      <td>30</td>\n",
       "      <td>2016-09-08</td>\n",
       "      <td>2016-10-07</td>\n",
       "      <td>45</td>\n",
       "      <td>High School or Below</td>\n",
       "      <td>male</td>\n",
       "    </tr>\n",
       "    <tr>\n",
       "      <th>1</th>\n",
       "      <td>2</td>\n",
       "      <td>2</td>\n",
       "      <td>PAIDOFF</td>\n",
       "      <td>1000</td>\n",
       "      <td>30</td>\n",
       "      <td>2016-09-08</td>\n",
       "      <td>2016-10-07</td>\n",
       "      <td>33</td>\n",
       "      <td>Bechalor</td>\n",
       "      <td>female</td>\n",
       "    </tr>\n",
       "    <tr>\n",
       "      <th>2</th>\n",
       "      <td>3</td>\n",
       "      <td>3</td>\n",
       "      <td>PAIDOFF</td>\n",
       "      <td>1000</td>\n",
       "      <td>15</td>\n",
       "      <td>2016-09-08</td>\n",
       "      <td>2016-09-22</td>\n",
       "      <td>27</td>\n",
       "      <td>college</td>\n",
       "      <td>male</td>\n",
       "    </tr>\n",
       "    <tr>\n",
       "      <th>3</th>\n",
       "      <td>4</td>\n",
       "      <td>4</td>\n",
       "      <td>PAIDOFF</td>\n",
       "      <td>1000</td>\n",
       "      <td>30</td>\n",
       "      <td>2016-09-09</td>\n",
       "      <td>2016-10-08</td>\n",
       "      <td>28</td>\n",
       "      <td>college</td>\n",
       "      <td>female</td>\n",
       "    </tr>\n",
       "    <tr>\n",
       "      <th>4</th>\n",
       "      <td>6</td>\n",
       "      <td>6</td>\n",
       "      <td>PAIDOFF</td>\n",
       "      <td>1000</td>\n",
       "      <td>30</td>\n",
       "      <td>2016-09-09</td>\n",
       "      <td>2016-10-08</td>\n",
       "      <td>29</td>\n",
       "      <td>college</td>\n",
       "      <td>male</td>\n",
       "    </tr>\n",
       "  </tbody>\n",
       "</table>\n",
       "</div>"
      ],
      "text/plain": [
       "   Unnamed: 0  Unnamed: 0.1 loan_status  Principal  terms effective_date  \\\n",
       "0           0             0     PAIDOFF       1000     30     2016-09-08   \n",
       "1           2             2     PAIDOFF       1000     30     2016-09-08   \n",
       "2           3             3     PAIDOFF       1000     15     2016-09-08   \n",
       "3           4             4     PAIDOFF       1000     30     2016-09-09   \n",
       "4           6             6     PAIDOFF       1000     30     2016-09-09   \n",
       "\n",
       "    due_date  age             education  Gender  \n",
       "0 2016-10-07   45  High School or Below    male  \n",
       "1 2016-10-07   33              Bechalor  female  \n",
       "2 2016-09-22   27               college    male  \n",
       "3 2016-10-08   28               college  female  \n",
       "4 2016-10-08   29               college    male  "
      ]
     },
     "execution_count": 6,
     "metadata": {},
     "output_type": "execute_result"
    }
   ],
   "source": [
    "df['due_date'] = pd.to_datetime(df['due_date'])\n",
    "df['effective_date'] = pd.to_datetime(df['effective_date'])\n",
    "df.head()"
   ]
  },
  {
   "cell_type": "markdown",
   "metadata": {
    "button": false,
    "new_sheet": false,
    "run_control": {
     "read_only": false
    }
   },
   "source": [
    "# Data visualization and Pre-processing"
   ]
  },
  {
   "cell_type": "code",
   "execution_count": 7,
   "metadata": {
    "button": false,
    "new_sheet": false,
    "run_control": {
     "read_only": false
    }
   },
   "outputs": [
    {
     "data": {
      "text/plain": [
       "PAIDOFF       260\n",
       "COLLECTION     86\n",
       "Name: loan_status, dtype: int64"
      ]
     },
     "execution_count": 7,
     "metadata": {},
     "output_type": "execute_result"
    }
   ],
   "source": [
    "# Let’s see how many of each class is in our data set \n",
    "df['loan_status'].value_counts()"
   ]
  },
  {
   "cell_type": "markdown",
   "metadata": {
    "button": false,
    "new_sheet": false,
    "run_control": {
     "read_only": false
    }
   },
   "source": [
    "260 people have paid off the loan on time while 86 have gone into collection \n"
   ]
  },
  {
   "cell_type": "code",
   "execution_count": 8,
   "metadata": {},
   "outputs": [
    {
     "data": {
      "image/png": "[encoded data removed]",
      "text/plain": [
       "<Figure size 432x216 with 2 Axes>"
      ]
     },
     "metadata": {
      "needs_background": "light"
     },
     "output_type": "display_data"
    }
   ],
   "source": [
    "# Lets plot some columns to underestand data better:\n",
    "import seaborn as sns\n",
    "\n",
    "bins = np.linspace(df.Principal.min(), df.Principal.max(), 10)\n",
    "g = sns.FacetGrid(df, col=\"Gender\", hue=\"loan_status\", palette=\"Set1\", col_wrap=2)\n",
    "g.map(plt.hist, 'Principal', bins=bins, ec=\"k\")\n",
    "\n",
    "g.axes[-1].legend()\n",
    "plt.show()"
   ]
  },
  {
   "cell_type": "code",
   "execution_count": 9,
   "metadata": {
    "button": false,
    "new_sheet": false,
    "run_control": {
     "read_only": false
    }
   },
   "outputs": [
    {
     "data": {
      "image/png": "[encoded data removed]",
      "text/plain": [
       "<Figure size 432x216 with 2 Axes>"
      ]
     },
     "metadata": {
      "needs_background": "light"
     },
     "output_type": "display_data"
    }
   ],
   "source": [
    "bins = np.linspace(df.age.min(), df.age.max(), 10)\n",
    "g = sns.FacetGrid(df, col=\"Gender\", hue=\"loan_status\", palette=\"Set1\", col_wrap=2)\n",
    "g.map(plt.hist, 'age', bins=bins, ec=\"k\")\n",
    "\n",
    "g.axes[-1].legend()\n",
    "plt.show()"
   ]
  },
  {
   "cell_type": "markdown",
   "metadata": {
    "button": false,
    "new_sheet": false,
    "run_control": {
     "read_only": false
    }
   },
   "source": [
    "## Pre-processing:  Feature selection/extraction"
   ]
  },
  {
   "cell_type": "markdown",
   "metadata": {
    "button": false,
    "new_sheet": false,
    "run_control": {
     "read_only": false
    }
   },
   "source": [
    "### Lets look at the day of the week people get the loan "
   ]
  },
  {
   "cell_type": "code",
   "execution_count": 10,
   "metadata": {
    "button": false,
    "new_sheet": false,
    "run_control": {
     "read_only": false
    }
   },
   "outputs": [
    {
     "data": {
      "image/png": "[encoded data removed]",
      "text/plain": [
       "<Figure size 432x216 with 2 Axes>"
      ]
     },
     "metadata": {
      "needs_background": "light"
     },
     "output_type": "display_data"
    }
   ],
   "source": [
    "df['dayofweek'] = df['effective_date'].dt.dayofweek\n",
    "bins = np.linspace(df.dayofweek.min(), df.dayofweek.max(), 10)\n",
    "g = sns.FacetGrid(df, col=\"Gender\", hue=\"loan_status\", palette=\"Set1\", col_wrap=2)\n",
    "g.map(plt.hist, 'dayofweek', bins=bins, ec=\"k\")\n",
    "g.axes[-1].legend()\n",
    "plt.show()"
   ]
  },
  {
   "cell_type": "markdown",
   "metadata": {
    "button": false,
    "new_sheet": false,
    "run_control": {
     "read_only": false
    }
   },
   "source": [
    "We see that people who get the loan at the end of the week dont pay it off, so lets use Feature binarization to set a threshold values less then day 4 "
   ]
  },
  {
   "cell_type": "code",
   "execution_count": 11,
   "metadata": {
    "button": false,
    "new_sheet": false,
    "run_control": {
     "read_only": false
    }
   },
   "outputs": [
    {
     "data": {
      "text/html": [
       "<div>\n",
       "<style scoped>\n",
       "    .dataframe tbody tr th:only-of-type {\n",
       "        vertical-align: middle;\n",
       "    }\n",
       "\n",
       "    .dataframe tbody tr th {\n",
       "        vertical-align: top;\n",
       "    }\n",
       "\n",
       "    .dataframe thead th {\n",
       "        text-align: right;\n",
       "    }\n",
       "</style>\n",
       "<table border=\"1\" class=\"dataframe\">\n",
       "  <thead>\n",
       "    <tr style=\"text-align: right;\">\n",
       "      <th></th>\n",
       "      <th>Unnamed: 0</th>\n",
       "      <th>Unnamed: 0.1</th>\n",
       "      <th>loan_status</th>\n",
       "      <th>Principal</th>\n",
       "      <th>terms</th>\n",
       "      <th>effective_date</th>\n",
       "      <th>due_date</th>\n",
       "      <th>age</th>\n",
       "      <th>education</th>\n",
       "      <th>Gender</th>\n",
       "      <th>dayofweek</th>\n",
       "      <th>weekend</th>\n",
       "    </tr>\n",
       "  </thead>\n",
       "  <tbody>\n",
       "    <tr>\n",
       "      <th>0</th>\n",
       "      <td>0</td>\n",
       "      <td>0</td>\n",
       "      <td>PAIDOFF</td>\n",
       "      <td>1000</td>\n",
       "      <td>30</td>\n",
       "      <td>2016-09-08</td>\n",
       "      <td>2016-10-07</td>\n",
       "      <td>45</td>\n",
       "      <td>High School or Below</td>\n",
       "      <td>male</td>\n",
       "      <td>3</td>\n",
       "      <td>0</td>\n",
       "    </tr>\n",
       "    <tr>\n",
       "      <th>1</th>\n",
       "      <td>2</td>\n",
       "      <td>2</td>\n",
       "      <td>PAIDOFF</td>\n",
       "      <td>1000</td>\n",
       "      <td>30</td>\n",
       "      <td>2016-09-08</td>\n",
       "      <td>2016-10-07</td>\n",
       "      <td>33</td>\n",
       "      <td>Bechalor</td>\n",
       "      <td>female</td>\n",
       "      <td>3</td>\n",
       "      <td>0</td>\n",
       "    </tr>\n",
       "    <tr>\n",
       "      <th>2</th>\n",
       "      <td>3</td>\n",
       "      <td>3</td>\n",
       "      <td>PAIDOFF</td>\n",
       "      <td>1000</td>\n",
       "      <td>15</td>\n",
       "      <td>2016-09-08</td>\n",
       "      <td>2016-09-22</td>\n",
       "      <td>27</td>\n",
       "      <td>college</td>\n",
       "      <td>male</td>\n",
       "      <td>3</td>\n",
       "      <td>0</td>\n",
       "    </tr>\n",
       "    <tr>\n",
       "      <th>3</th>\n",
       "      <td>4</td>\n",
       "      <td>4</td>\n",
       "      <td>PAIDOFF</td>\n",
       "      <td>1000</td>\n",
       "      <td>30</td>\n",
       "      <td>2016-09-09</td>\n",
       "      <td>2016-10-08</td>\n",
       "      <td>28</td>\n",
       "      <td>college</td>\n",
       "      <td>female</td>\n",
       "      <td>4</td>\n",
       "      <td>1</td>\n",
       "    </tr>\n",
       "    <tr>\n",
       "      <th>4</th>\n",
       "      <td>6</td>\n",
       "      <td>6</td>\n",
       "      <td>PAIDOFF</td>\n",
       "      <td>1000</td>\n",
       "      <td>30</td>\n",
       "      <td>2016-09-09</td>\n",
       "      <td>2016-10-08</td>\n",
       "      <td>29</td>\n",
       "      <td>college</td>\n",
       "      <td>male</td>\n",
       "      <td>4</td>\n",
       "      <td>1</td>\n",
       "    </tr>\n",
       "  </tbody>\n",
       "</table>\n",
       "</div>"
      ],
      "text/plain": [
       "   Unnamed: 0  Unnamed: 0.1 loan_status  Principal  terms effective_date  \\\n",
       "0           0             0     PAIDOFF       1000     30     2016-09-08   \n",
       "1           2             2     PAIDOFF       1000     30     2016-09-08   \n",
       "2           3             3     PAIDOFF       1000     15     2016-09-08   \n",
       "3           4             4     PAIDOFF       1000     30     2016-09-09   \n",
       "4           6             6     PAIDOFF       1000     30     2016-09-09   \n",
       "\n",
       "    due_date  age             education  Gender  dayofweek  weekend  \n",
       "0 2016-10-07   45  High School or Below    male          3        0  \n",
       "1 2016-10-07   33              Bechalor  female          3        0  \n",
       "2 2016-09-22   27               college    male          3        0  \n",
       "3 2016-10-08   28               college  female          4        1  \n",
       "4 2016-10-08   29               college    male          4        1  "
      ]
     },
     "execution_count": 11,
     "metadata": {},
     "output_type": "execute_result"
    }
   ],
   "source": [
    "df['weekend'] = df['dayofweek'].apply(lambda x: 1 if (x>3)  else 0)\n",
    "df.head()"
   ]
  },
  {
   "cell_type": "markdown",
   "metadata": {
    "button": false,
    "new_sheet": false,
    "run_control": {
     "read_only": false
    }
   },
   "source": [
    "## Convert Categorical features to numerical values"
   ]
  },
  {
   "cell_type": "markdown",
   "metadata": {
    "button": false,
    "new_sheet": false,
    "run_control": {
     "read_only": false
    }
   },
   "source": [
    "Lets look at gender:"
   ]
  },
  {
   "cell_type": "code",
   "execution_count": 12,
   "metadata": {
    "button": false,
    "new_sheet": false,
    "run_control": {
     "read_only": false
    }
   },
   "outputs": [
    {
     "data": {
      "text/plain": [
       "Gender  loan_status\n",
       "female  PAIDOFF        0.865385\n",
       "        COLLECTION     0.134615\n",
       "male    PAIDOFF        0.731293\n",
       "        COLLECTION     0.268707\n",
       "Name: loan_status, dtype: float64"
      ]
     },
     "execution_count": 12,
     "metadata": {},
     "output_type": "execute_result"
    }
   ],
   "source": [
    "df.groupby(['Gender'])['loan_status'].value_counts(normalize=True)"
   ]
  },
  {
   "cell_type": "markdown",
   "metadata": {
    "button": false,
    "new_sheet": false,
    "run_control": {
     "read_only": false
    }
   },
   "source": [
    "86 % of female pay there loans while only 73 % of males pay there loan\n"
   ]
  },
  {
   "cell_type": "markdown",
   "metadata": {
    "button": false,
    "new_sheet": false,
    "run_control": {
     "read_only": false
    }
   },
   "source": [
    "Lets convert male to 0 and female to 1:\n"
   ]
  },
  {
   "cell_type": "code",
   "execution_count": 13,
   "metadata": {
    "button": false,
    "new_sheet": false,
    "run_control": {
     "read_only": false
    }
   },
   "outputs": [
    {
     "data": {
      "text/html": [
       "<div>\n",
       "<style scoped>\n",
       "    .dataframe tbody tr th:only-of-type {\n",
       "        vertical-align: middle;\n",
       "    }\n",
       "\n",
       "    .dataframe tbody tr th {\n",
       "        vertical-align: top;\n",
       "    }\n",
       "\n",
       "    .dataframe thead th {\n",
       "        text-align: right;\n",
       "    }\n",
       "</style>\n",
       "<table border=\"1\" class=\"dataframe\">\n",
       "  <thead>\n",
       "    <tr style=\"text-align: right;\">\n",
       "      <th></th>\n",
       "      <th>Unnamed: 0</th>\n",
       "      <th>Unnamed: 0.1</th>\n",
       "      <th>loan_status</th>\n",
       "      <th>Principal</th>\n",
       "      <th>terms</th>\n",
       "      <th>effective_date</th>\n",
       "      <th>due_date</th>\n",
       "      <th>age</th>\n",
       "      <th>education</th>\n",
       "      <th>Gender</th>\n",
       "      <th>dayofweek</th>\n",
       "      <th>weekend</th>\n",
       "    </tr>\n",
       "  </thead>\n",
       "  <tbody>\n",
       "    <tr>\n",
       "      <th>0</th>\n",
       "      <td>0</td>\n",
       "      <td>0</td>\n",
       "      <td>PAIDOFF</td>\n",
       "      <td>1000</td>\n",
       "      <td>30</td>\n",
       "      <td>2016-09-08</td>\n",
       "      <td>2016-10-07</td>\n",
       "      <td>45</td>\n",
       "      <td>High School or Below</td>\n",
       "      <td>1</td>\n",
       "      <td>3</td>\n",
       "      <td>0</td>\n",
       "    </tr>\n",
       "    <tr>\n",
       "      <th>1</th>\n",
       "      <td>2</td>\n",
       "      <td>2</td>\n",
       "      <td>PAIDOFF</td>\n",
       "      <td>1000</td>\n",
       "      <td>30</td>\n",
       "      <td>2016-09-08</td>\n",
       "      <td>2016-10-07</td>\n",
       "      <td>33</td>\n",
       "      <td>Bechalor</td>\n",
       "      <td>0</td>\n",
       "      <td>3</td>\n",
       "      <td>0</td>\n",
       "    </tr>\n",
       "    <tr>\n",
       "      <th>2</th>\n",
       "      <td>3</td>\n",
       "      <td>3</td>\n",
       "      <td>PAIDOFF</td>\n",
       "      <td>1000</td>\n",
       "      <td>15</td>\n",
       "      <td>2016-09-08</td>\n",
       "      <td>2016-09-22</td>\n",
       "      <td>27</td>\n",
       "      <td>college</td>\n",
       "      <td>1</td>\n",
       "      <td>3</td>\n",
       "      <td>0</td>\n",
       "    </tr>\n",
       "    <tr>\n",
       "      <th>3</th>\n",
       "      <td>4</td>\n",
       "      <td>4</td>\n",
       "      <td>PAIDOFF</td>\n",
       "      <td>1000</td>\n",
       "      <td>30</td>\n",
       "      <td>2016-09-09</td>\n",
       "      <td>2016-10-08</td>\n",
       "      <td>28</td>\n",
       "      <td>college</td>\n",
       "      <td>0</td>\n",
       "      <td>4</td>\n",
       "      <td>1</td>\n",
       "    </tr>\n",
       "    <tr>\n",
       "      <th>4</th>\n",
       "      <td>6</td>\n",
       "      <td>6</td>\n",
       "      <td>PAIDOFF</td>\n",
       "      <td>1000</td>\n",
       "      <td>30</td>\n",
       "      <td>2016-09-09</td>\n",
       "      <td>2016-10-08</td>\n",
       "      <td>29</td>\n",
       "      <td>college</td>\n",
       "      <td>1</td>\n",
       "      <td>4</td>\n",
       "      <td>1</td>\n",
       "    </tr>\n",
       "  </tbody>\n",
       "</table>\n",
       "</div>"
      ],
      "text/plain": [
       "   Unnamed: 0  Unnamed: 0.1 loan_status  Principal  terms effective_date  \\\n",
       "0           0             0     PAIDOFF       1000     30     2016-09-08   \n",
       "1           2             2     PAIDOFF       1000     30     2016-09-08   \n",
       "2           3             3     PAIDOFF       1000     15     2016-09-08   \n",
       "3           4             4     PAIDOFF       1000     30     2016-09-09   \n",
       "4           6             6     PAIDOFF       1000     30     2016-09-09   \n",
       "\n",
       "    due_date  age             education  Gender  dayofweek  weekend  \n",
       "0 2016-10-07   45  High School or Below       1          3        0  \n",
       "1 2016-10-07   33              Bechalor       0          3        0  \n",
       "2 2016-09-22   27               college       1          3        0  \n",
       "3 2016-10-08   28               college       0          4        1  \n",
       "4 2016-10-08   29               college       1          4        1  "
      ]
     },
     "execution_count": 13,
     "metadata": {},
     "output_type": "execute_result"
    }
   ],
   "source": [
    "df['Gender'].replace('female', 0, inplace=True)\n",
    "df['Gender'].replace('male', 1, inplace=True)\n",
    "df.head()"
   ]
  },
  {
   "cell_type": "markdown",
   "metadata": {
    "button": false,
    "new_sheet": false,
    "run_control": {
     "read_only": false
    }
   },
   "source": [
    "## One Hot Encoding  \n",
    "### How about education?"
   ]
  },
  {
   "cell_type": "code",
   "execution_count": 14,
   "metadata": {
    "button": false,
    "new_sheet": false,
    "run_control": {
     "read_only": false
    }
   },
   "outputs": [
    {
     "data": {
      "text/plain": [
       "education             loan_status\n",
       "Bechalor              PAIDOFF        0.750000\n",
       "                      COLLECTION     0.250000\n",
       "High School or Below  PAIDOFF        0.741722\n",
       "                      COLLECTION     0.258278\n",
       "Master or Above       COLLECTION     0.500000\n",
       "                      PAIDOFF        0.500000\n",
       "college               PAIDOFF        0.765101\n",
       "                      COLLECTION     0.234899\n",
       "Name: loan_status, dtype: float64"
      ]
     },
     "execution_count": 14,
     "metadata": {},
     "output_type": "execute_result"
    }
   ],
   "source": [
    "df.groupby(['education'])['loan_status'].value_counts(normalize=True)"
   ]
  },
  {
   "cell_type": "markdown",
   "metadata": {
    "button": false,
    "new_sheet": false,
    "run_control": {
     "read_only": false
    }
   },
   "source": [
    "### Feature before One Hot Encoding"
   ]
  },
  {
   "cell_type": "code",
   "execution_count": 15,
   "metadata": {
    "button": false,
    "new_sheet": false,
    "run_control": {
     "read_only": false
    }
   },
   "outputs": [
    {
     "data": {
      "text/html": [
       "<div>\n",
       "<style scoped>\n",
       "    .dataframe tbody tr th:only-of-type {\n",
       "        vertical-align: middle;\n",
       "    }\n",
       "\n",
       "    .dataframe tbody tr th {\n",
       "        vertical-align: top;\n",
       "    }\n",
       "\n",
       "    .dataframe thead th {\n",
       "        text-align: right;\n",
       "    }\n",
       "</style>\n",
       "<table border=\"1\" class=\"dataframe\">\n",
       "  <thead>\n",
       "    <tr style=\"text-align: right;\">\n",
       "      <th></th>\n",
       "      <th>Principal</th>\n",
       "      <th>terms</th>\n",
       "      <th>age</th>\n",
       "      <th>Gender</th>\n",
       "      <th>education</th>\n",
       "    </tr>\n",
       "  </thead>\n",
       "  <tbody>\n",
       "    <tr>\n",
       "      <th>0</th>\n",
       "      <td>1000</td>\n",
       "      <td>30</td>\n",
       "      <td>45</td>\n",
       "      <td>1</td>\n",
       "      <td>High School or Below</td>\n",
       "    </tr>\n",
       "    <tr>\n",
       "      <th>1</th>\n",
       "      <td>1000</td>\n",
       "      <td>30</td>\n",
       "      <td>33</td>\n",
       "      <td>0</td>\n",
       "      <td>Bechalor</td>\n",
       "    </tr>\n",
       "    <tr>\n",
       "      <th>2</th>\n",
       "      <td>1000</td>\n",
       "      <td>15</td>\n",
       "      <td>27</td>\n",
       "      <td>1</td>\n",
       "      <td>college</td>\n",
       "    </tr>\n",
       "    <tr>\n",
       "      <th>3</th>\n",
       "      <td>1000</td>\n",
       "      <td>30</td>\n",
       "      <td>28</td>\n",
       "      <td>0</td>\n",
       "      <td>college</td>\n",
       "    </tr>\n",
       "    <tr>\n",
       "      <th>4</th>\n",
       "      <td>1000</td>\n",
       "      <td>30</td>\n",
       "      <td>29</td>\n",
       "      <td>1</td>\n",
       "      <td>college</td>\n",
       "    </tr>\n",
       "  </tbody>\n",
       "</table>\n",
       "</div>"
      ],
      "text/plain": [
       "   Principal  terms  age  Gender             education\n",
       "0       1000     30   45       1  High School or Below\n",
       "1       1000     30   33       0              Bechalor\n",
       "2       1000     15   27       1               college\n",
       "3       1000     30   28       0               college\n",
       "4       1000     30   29       1               college"
      ]
     },
     "execution_count": 15,
     "metadata": {},
     "output_type": "execute_result"
    }
   ],
   "source": [
    "df[['Principal','terms','age','Gender','education']].head()"
   ]
  },
  {
   "cell_type": "markdown",
   "metadata": {
    "button": false,
    "new_sheet": false,
    "run_control": {
     "read_only": false
    }
   },
   "source": [
    "### Use one hot encoding technique to conver categorical varables to binary variables and append them to the feature Data Frame "
   ]
  },
  {
   "cell_type": "code",
   "execution_count": 16,
   "metadata": {
    "button": false,
    "new_sheet": false,
    "run_control": {
     "read_only": false
    }
   },
   "outputs": [
    {
     "data": {
      "text/html": [
       "<div>\n",
       "<style scoped>\n",
       "    .dataframe tbody tr th:only-of-type {\n",
       "        vertical-align: middle;\n",
       "    }\n",
       "\n",
       "    .dataframe tbody tr th {\n",
       "        vertical-align: top;\n",
       "    }\n",
       "\n",
       "    .dataframe thead th {\n",
       "        text-align: right;\n",
       "    }\n",
       "</style>\n",
       "<table border=\"1\" class=\"dataframe\">\n",
       "  <thead>\n",
       "    <tr style=\"text-align: right;\">\n",
       "      <th></th>\n",
       "      <th>Principal</th>\n",
       "      <th>terms</th>\n",
       "      <th>age</th>\n",
       "      <th>Gender</th>\n",
       "      <th>weekend</th>\n",
       "      <th>dayofweek</th>\n",
       "      <th>Bechalor</th>\n",
       "      <th>High School or Below</th>\n",
       "      <th>college</th>\n",
       "    </tr>\n",
       "  </thead>\n",
       "  <tbody>\n",
       "    <tr>\n",
       "      <th>0</th>\n",
       "      <td>1000</td>\n",
       "      <td>30</td>\n",
       "      <td>45</td>\n",
       "      <td>1</td>\n",
       "      <td>0</td>\n",
       "      <td>3</td>\n",
       "      <td>0</td>\n",
       "      <td>1</td>\n",
       "      <td>0</td>\n",
       "    </tr>\n",
       "    <tr>\n",
       "      <th>1</th>\n",
       "      <td>1000</td>\n",
       "      <td>30</td>\n",
       "      <td>33</td>\n",
       "      <td>0</td>\n",
       "      <td>0</td>\n",
       "      <td>3</td>\n",
       "      <td>1</td>\n",
       "      <td>0</td>\n",
       "      <td>0</td>\n",
       "    </tr>\n",
       "    <tr>\n",
       "      <th>2</th>\n",
       "      <td>1000</td>\n",
       "      <td>15</td>\n",
       "      <td>27</td>\n",
       "      <td>1</td>\n",
       "      <td>0</td>\n",
       "      <td>3</td>\n",
       "      <td>0</td>\n",
       "      <td>0</td>\n",
       "      <td>1</td>\n",
       "    </tr>\n",
       "    <tr>\n",
       "      <th>3</th>\n",
       "      <td>1000</td>\n",
       "      <td>30</td>\n",
       "      <td>28</td>\n",
       "      <td>0</td>\n",
       "      <td>1</td>\n",
       "      <td>4</td>\n",
       "      <td>0</td>\n",
       "      <td>0</td>\n",
       "      <td>1</td>\n",
       "    </tr>\n",
       "    <tr>\n",
       "      <th>4</th>\n",
       "      <td>1000</td>\n",
       "      <td>30</td>\n",
       "      <td>29</td>\n",
       "      <td>1</td>\n",
       "      <td>1</td>\n",
       "      <td>4</td>\n",
       "      <td>0</td>\n",
       "      <td>0</td>\n",
       "      <td>1</td>\n",
       "    </tr>\n",
       "  </tbody>\n",
       "</table>\n",
       "</div>"
      ],
      "text/plain": [
       "   Principal  terms  age  Gender  weekend  dayofweek  Bechalor  \\\n",
       "0       1000     30   45       1        0          3         0   \n",
       "1       1000     30   33       0        0          3         1   \n",
       "2       1000     15   27       1        0          3         0   \n",
       "3       1000     30   28       0        1          4         0   \n",
       "4       1000     30   29       1        1          4         0   \n",
       "\n",
       "   High School or Below  college  \n",
       "0                     1        0  \n",
       "1                     0        0  \n",
       "2                     0        1  \n",
       "3                     0        1  \n",
       "4                     0        1  "
      ]
     },
     "execution_count": 16,
     "metadata": {},
     "output_type": "execute_result"
    }
   ],
   "source": [
    "Feature = df[['Principal','terms','age','Gender','weekend','dayofweek']]\n",
    "Feature = pd.concat([Feature,pd.get_dummies(df['education'])], axis=1)\n",
    "Feature.drop(['Master or Above'], axis = 1,inplace=True)\n",
    "Feature.head()"
   ]
  },
  {
   "cell_type": "markdown",
   "metadata": {
    "button": false,
    "new_sheet": false,
    "run_control": {
     "read_only": false
    }
   },
   "source": [
    "## Feature selection"
   ]
  },
  {
   "cell_type": "markdown",
   "metadata": {
    "button": false,
    "new_sheet": false,
    "run_control": {
     "read_only": false
    }
   },
   "source": [
    "#### Lets defind feature sets, X:"
   ]
  },
  {
   "cell_type": "code",
   "execution_count": 17,
   "metadata": {
    "button": false,
    "new_sheet": false,
    "run_control": {
     "read_only": false
    }
   },
   "outputs": [
    {
     "data": {
      "text/html": [
       "<div>\n",
       "<style scoped>\n",
       "    .dataframe tbody tr th:only-of-type {\n",
       "        vertical-align: middle;\n",
       "    }\n",
       "\n",
       "    .dataframe tbody tr th {\n",
       "        vertical-align: top;\n",
       "    }\n",
       "\n",
       "    .dataframe thead th {\n",
       "        text-align: right;\n",
       "    }\n",
       "</style>\n",
       "<table border=\"1\" class=\"dataframe\">\n",
       "  <thead>\n",
       "    <tr style=\"text-align: right;\">\n",
       "      <th></th>\n",
       "      <th>Principal</th>\n",
       "      <th>terms</th>\n",
       "      <th>age</th>\n",
       "      <th>Gender</th>\n",
       "      <th>weekend</th>\n",
       "      <th>dayofweek</th>\n",
       "      <th>Bechalor</th>\n",
       "      <th>High School or Below</th>\n",
       "      <th>college</th>\n",
       "    </tr>\n",
       "  </thead>\n",
       "  <tbody>\n",
       "    <tr>\n",
       "      <th>0</th>\n",
       "      <td>1000</td>\n",
       "      <td>30</td>\n",
       "      <td>45</td>\n",
       "      <td>1</td>\n",
       "      <td>0</td>\n",
       "      <td>3</td>\n",
       "      <td>0</td>\n",
       "      <td>1</td>\n",
       "      <td>0</td>\n",
       "    </tr>\n",
       "    <tr>\n",
       "      <th>1</th>\n",
       "      <td>1000</td>\n",
       "      <td>30</td>\n",
       "      <td>33</td>\n",
       "      <td>0</td>\n",
       "      <td>0</td>\n",
       "      <td>3</td>\n",
       "      <td>1</td>\n",
       "      <td>0</td>\n",
       "      <td>0</td>\n",
       "    </tr>\n",
       "    <tr>\n",
       "      <th>2</th>\n",
       "      <td>1000</td>\n",
       "      <td>15</td>\n",
       "      <td>27</td>\n",
       "      <td>1</td>\n",
       "      <td>0</td>\n",
       "      <td>3</td>\n",
       "      <td>0</td>\n",
       "      <td>0</td>\n",
       "      <td>1</td>\n",
       "    </tr>\n",
       "    <tr>\n",
       "      <th>3</th>\n",
       "      <td>1000</td>\n",
       "      <td>30</td>\n",
       "      <td>28</td>\n",
       "      <td>0</td>\n",
       "      <td>1</td>\n",
       "      <td>4</td>\n",
       "      <td>0</td>\n",
       "      <td>0</td>\n",
       "      <td>1</td>\n",
       "    </tr>\n",
       "    <tr>\n",
       "      <th>4</th>\n",
       "      <td>1000</td>\n",
       "      <td>30</td>\n",
       "      <td>29</td>\n",
       "      <td>1</td>\n",
       "      <td>1</td>\n",
       "      <td>4</td>\n",
       "      <td>0</td>\n",
       "      <td>0</td>\n",
       "      <td>1</td>\n",
       "    </tr>\n",
       "  </tbody>\n",
       "</table>\n",
       "</div>"
      ],
      "text/plain": [
       "   Principal  terms  age  Gender  weekend  dayofweek  Bechalor  \\\n",
       "0       1000     30   45       1        0          3         0   \n",
       "1       1000     30   33       0        0          3         1   \n",
       "2       1000     15   27       1        0          3         0   \n",
       "3       1000     30   28       0        1          4         0   \n",
       "4       1000     30   29       1        1          4         0   \n",
       "\n",
       "   High School or Below  college  \n",
       "0                     1        0  \n",
       "1                     0        0  \n",
       "2                     0        1  \n",
       "3                     0        1  \n",
       "4                     0        1  "
      ]
     },
     "execution_count": 17,
     "metadata": {},
     "output_type": "execute_result"
    }
   ],
   "source": [
    "X = Feature\n",
    "X[0:5]"
   ]
  },
  {
   "cell_type": "markdown",
   "metadata": {
    "button": false,
    "new_sheet": false,
    "run_control": {
     "read_only": false
    }
   },
   "source": [
    "#### What are our lables?"
   ]
  },
  {
   "cell_type": "code",
   "execution_count": 18,
   "metadata": {
    "button": false,
    "new_sheet": false,
    "run_control": {
     "read_only": false
    }
   },
   "outputs": [],
   "source": [
    "Y= df['loan_status']\n",
    "Y.replace('PAIDOFF', 0, inplace=True)\n",
    "Y.replace('COLLECTION', 1, inplace=True)"
   ]
  },
  {
   "cell_type": "markdown",
   "metadata": {
    "button": false,
    "new_sheet": false,
    "run_control": {
     "read_only": false
    }
   },
   "source": [
    "## Normalize Data "
   ]
  },
  {
   "cell_type": "markdown",
   "metadata": {
    "button": false,
    "new_sheet": false,
    "run_control": {
     "read_only": false
    }
   },
   "source": [
    "Data Standardization give data zero mean and unit variance (technically should be done after train test split )"
   ]
  },
  {
   "cell_type": "code",
   "execution_count": 19,
   "metadata": {
    "button": false,
    "new_sheet": false,
    "run_control": {
     "read_only": false
    }
   },
   "outputs": [
    {
     "name": "stderr",
     "output_type": "stream",
     "text": [
      "/opt/conda/envs/Python36/lib/python3.6/site-packages/sklearn/preprocessing/data.py:645: DataConversionWarning: Data with input dtype uint8, int64 were all converted to float64 by StandardScaler.\n",
      "  return self.partial_fit(X, y)\n",
      "/opt/conda/envs/Python36/lib/python3.6/site-packages/ipykernel/__main__.py:1: DataConversionWarning: Data with input dtype uint8, int64 were all converted to float64 by StandardScaler.\n",
      "  if __name__ == '__main__':\n"
     ]
    }
   ],
   "source": [
    "X = preprocessing.StandardScaler().fit(X).transform(X)"
   ]
  },
  {
   "cell_type": "markdown",
   "metadata": {
    "button": false,
    "new_sheet": false,
    "run_control": {
     "read_only": false
    }
   },
   "source": [
    "# Classification "
   ]
  },
  {
   "cell_type": "markdown",
   "metadata": {
    "button": false,
    "new_sheet": false,
    "run_control": {
     "read_only": false
    }
   },
   "source": [
    "- K Nearest Neighbor(KNN)\n",
    "- Decision Tree\n",
    "- Support Vector Machine\n",
    "- Logistic Regression"
   ]
  },
  {
   "cell_type": "code",
   "execution_count": 20,
   "metadata": {},
   "outputs": [],
   "source": [
    "from sklearn.metrics import jaccard_similarity_score\n",
    "from sklearn.metrics import f1_score\n",
    "from sklearn.metrics import log_loss"
   ]
  },
  {
   "cell_type": "code",
   "execution_count": 21,
   "metadata": {},
   "outputs": [],
   "source": [
    "# a dictionary for keeping all scores of the classifiers\n",
    "trainScores={}"
   ]
  },
  {
   "cell_type": "markdown",
   "metadata": {},
   "source": [
    "## K Nearest Neighbor(KNN)"
   ]
  },
  {
   "cell_type": "code",
   "execution_count": 22,
   "metadata": {},
   "outputs": [],
   "source": [
    "from sklearn.neighbors import KNeighborsClassifier\n",
    "from sklearn.model_selection import cross_val_score"
   ]
  },
  {
   "cell_type": "code",
   "execution_count": 23,
   "metadata": {},
   "outputs": [
    {
     "data": {
      "image/png": "[encoded data removed]",
      "text/plain": [
       "<Figure size 432x288 with 1 Axes>"
      ]
     },
     "metadata": {
      "needs_background": "light"
     },
     "output_type": "display_data"
    },
    {
     "name": "stdout",
     "output_type": "stream",
     "text": [
      "Best K is : 8\n",
      "Cross validation Accuracy : 0.7522689075630252\n"
     ]
    }
   ],
   "source": [
    "# Find the best K\n",
    "bestScore=0.0\n",
    "accList=[]\n",
    "\n",
    "for k in range(3,12):\n",
    "    \n",
    "    clf_knn = KNeighborsClassifier(n_neighbors=k,algorithm='auto')\n",
    "\n",
    "    scores = cross_val_score(clf_knn, X, Y, cv=10)\n",
    "    score=scores.mean()\n",
    "    accList.append(score)\n",
    "    \n",
    "    if score > bestScore:\n",
    "        bestScore=score\n",
    "        best_clf=clf_knn\n",
    "        bestK=k\n",
    "        \n",
    "\n",
    "plt.plot(range(3,12),accList)\n",
    "plt.xlabel('K')\n",
    "plt.ylabel('CV Accuracy')\n",
    "plt.show()\n",
    "        \n",
    "print(\"Best K is :\",bestK)\n",
    "print(\"Cross validation Accuracy :\",bestScore)\n",
    "clf_knn=best_clf"
   ]
  },
  {
   "cell_type": "code",
   "execution_count": 24,
   "metadata": {},
   "outputs": [],
   "source": [
    "KNN_model = clf_knn.fit(X, Y)"
   ]
  },
  {
   "cell_type": "code",
   "execution_count": 25,
   "metadata": {},
   "outputs": [
    {
     "data": {
      "text/plain": [
       "{'KNN-jaccard': 0.7947976878612717, 'KNN-f1-score': 0.7701843558681992}"
      ]
     },
     "execution_count": 25,
     "metadata": {},
     "output_type": "execute_result"
    }
   ],
   "source": [
    "# Keep track the train score\n",
    "y_pred = KNN_model.predict(X)\n",
    "trainScores['KNN-jaccard'] = jaccard_similarity_score(Y, y_pred)\n",
    "trainScores['KNN-f1-score'] = f1_score(Y, y_pred, average='weighted')\n",
    "trainScores"
   ]
  },
  {
   "cell_type": "markdown",
   "metadata": {},
   "source": [
    "## Decision Tree"
   ]
  },
  {
   "cell_type": "code",
   "execution_count": 26,
   "metadata": {},
   "outputs": [],
   "source": [
    "from sklearn import tree"
   ]
  },
  {
   "cell_type": "code",
   "execution_count": 27,
   "metadata": {},
   "outputs": [],
   "source": [
    "DT_model = tree.DecisionTreeClassifier(criterion=\"entropy\", max_depth = 8).fit(X, Y)"
   ]
  },
  {
   "cell_type": "code",
   "execution_count": 28,
   "metadata": {},
   "outputs": [
    {
     "data": {
      "text/plain": [
       "{'KNN-jaccard': 0.7947976878612717,\n",
       " 'KNN-f1-score': 0.7701843558681992,\n",
       " 'DT-jaccard': 0.8121387283236994,\n",
       " 'DT-f1-score': 0.8004728751552592}"
      ]
     },
     "execution_count": 28,
     "metadata": {},
     "output_type": "execute_result"
    }
   ],
   "source": [
    "# Keep track the train score\n",
    "y_pred = DT_model.predict(X)\n",
    "trainScores['DT-jaccard'] = jaccard_similarity_score(Y, y_pred)\n",
    "trainScores['DT-f1-score'] = f1_score(Y, y_pred, average='weighted')\n",
    "trainScores"
   ]
  },
  {
   "cell_type": "markdown",
   "metadata": {},
   "source": [
    "### Visualizng the tree"
   ]
  },
  {
   "cell_type": "code",
   "execution_count": 29,
   "metadata": {},
   "outputs": [],
   "source": [
    "import graphviz \n",
    "import pydotplus"
   ]
  },
  {
   "cell_type": "code",
   "execution_count": 30,
   "metadata": {},
   "outputs": [
    {
     "data": {
      "image/svg+xml": [
       "<?xml version=\"1.0\" encoding=\"UTF-8\" standalone=\"no\"?>\n",
       "<!DOCTYPE svg PUBLIC \"-//W3C//DTD SVG 1.1//EN\"\n",
       " \"http://www.w3.org/Graphics/SVG/1.1/DTD/svg11.dtd\">\n",
       "<!-- Generated by graphviz version 2.40.1 (20161225.0304)\n",
       " -->\n",
       "<!-- Title: Tree Pages: 1 -->\n",
       "<svg width=\"864pt\" height=\"317pt\"\n",
       " viewBox=\"0.00 0.00 864.00 317.45\" xmlns=\"http://www.w3.org/2000/svg\" xmlns:xlink=\"http://www.w3.org/1999/xlink\">\n",
       "<g id=\"graph0\" class=\"graph\" transform=\"scale(.3213 .3213) rotate(0) translate(4 984)\">\n",
       "<title>Tree</title>\n",
       "<polygon fill=\"#ffffff\" stroke=\"transparent\" points=\"-4,4 -4,-984 2685,-984 2685,4 -4,4\"/>\n",
       "<!-- 0 -->\n",
       "<g id=\"node1\" class=\"node\">\n",
       "<title>0</title>\n",
       "<path fill=\"#e58139\" fill-opacity=\"0.670588\" stroke=\"#000000\" d=\"M663.5,-980C663.5,-980 546.5,-980 546.5,-980 540.5,-980 534.5,-974 534.5,-968 534.5,-968 534.5,-914 534.5,-914 534.5,-908 540.5,-902 546.5,-902 546.5,-902 663.5,-902 663.5,-902 669.5,-902 675.5,-908 675.5,-914 675.5,-914 675.5,-968 675.5,-968 675.5,-974 669.5,-980 663.5,-980\"/>\n",
       "<text text-anchor=\"start\" x=\"567\" y=\"-965.8\" font-family=\"Helvetica,sans-Serif\" font-size=\"14.00\" fill=\"#000000\">X</text>\n",
       "<text text-anchor=\"start\" x=\"577\" y=\"-965.8\" font-family=\"Helvetica,sans-Serif\" baseline-shift=\"sub\" font-size=\"14.00\" fill=\"#000000\">5</text>\n",
       "<text text-anchor=\"start\" x=\"585\" y=\"-965.8\" font-family=\"Helvetica,sans-Serif\" font-size=\"14.00\" fill=\"#000000\"> ≤ &#45;0.07</text>\n",
       "<text text-anchor=\"start\" x=\"546\" y=\"-951.8\" font-family=\"Helvetica,sans-Serif\" font-size=\"14.00\" fill=\"#000000\">entropy = 0.809</text>\n",
       "<text text-anchor=\"start\" x=\"550.5\" y=\"-937.8\" font-family=\"Helvetica,sans-Serif\" font-size=\"14.00\" fill=\"#000000\">samples = 346</text>\n",
       "<text text-anchor=\"start\" x=\"542.5\" y=\"-923.8\" font-family=\"Helvetica,sans-Serif\" font-size=\"14.00\" fill=\"#000000\">value = [260, 86]</text>\n",
       "<text text-anchor=\"start\" x=\"574.5\" y=\"-909.8\" font-family=\"Helvetica,sans-Serif\" font-size=\"14.00\" fill=\"#000000\">class = l</text>\n",
       "</g>\n",
       "<!-- 1 -->\n",
       "<g id=\"node2\" class=\"node\">\n",
       "<title>1</title>\n",
       "<path fill=\"#e58139\" fill-opacity=\"0.976471\" stroke=\"#000000\" d=\"M582,-866C582,-866 472,-866 472,-866 466,-866 460,-860 460,-854 460,-854 460,-800 460,-800 460,-794 466,-788 472,-788 472,-788 582,-788 582,-788 588,-788 594,-794 594,-800 594,-800 594,-854 594,-854 594,-860 588,-866 582,-866\"/>\n",
       "<text text-anchor=\"start\" x=\"491.5\" y=\"-851.8\" font-family=\"Helvetica,sans-Serif\" font-size=\"14.00\" fill=\"#000000\">X</text>\n",
       "<text text-anchor=\"start\" x=\"501.5\" y=\"-851.8\" font-family=\"Helvetica,sans-Serif\" baseline-shift=\"sub\" font-size=\"14.00\" fill=\"#000000\">8</text>\n",
       "<text text-anchor=\"start\" x=\"509.5\" y=\"-851.8\" font-family=\"Helvetica,sans-Serif\" font-size=\"14.00\" fill=\"#000000\"> ≤ 0.14</text>\n",
       "<text text-anchor=\"start\" x=\"468\" y=\"-837.8\" font-family=\"Helvetica,sans-Serif\" font-size=\"14.00\" fill=\"#000000\">entropy = 0.149</text>\n",
       "<text text-anchor=\"start\" x=\"472.5\" y=\"-823.8\" font-family=\"Helvetica,sans-Serif\" font-size=\"14.00\" fill=\"#000000\">samples = 141</text>\n",
       "<text text-anchor=\"start\" x=\"469\" y=\"-809.8\" font-family=\"Helvetica,sans-Serif\" font-size=\"14.00\" fill=\"#000000\">value = [138, 3]</text>\n",
       "<text text-anchor=\"start\" x=\"496.5\" y=\"-795.8\" font-family=\"Helvetica,sans-Serif\" font-size=\"14.00\" fill=\"#000000\">class = l</text>\n",
       "</g>\n",
       "<!-- 0&#45;&gt;1 -->\n",
       "<g id=\"edge1\" class=\"edge\">\n",
       "<title>0&#45;&gt;1</title>\n",
       "<path fill=\"none\" stroke=\"#000000\" d=\"M578.1568,-901.7677C572.2125,-893.0798 565.8496,-883.7801 559.7011,-874.794\"/>\n",
       "<polygon fill=\"#000000\" stroke=\"#000000\" points=\"562.4281,-872.5813 553.8927,-866.3046 556.651,-876.5341 562.4281,-872.5813\"/>\n",
       "<text text-anchor=\"middle\" x=\"549.2854\" y=\"-887.1765\" font-family=\"Helvetica,sans-Serif\" font-size=\"14.00\" fill=\"#000000\">True</text>\n",
       "</g>\n",
       "<!-- 22 -->\n",
       "<g id=\"node23\" class=\"node\">\n",
       "<title>22</title>\n",
       "<path fill=\"#e58139\" fill-opacity=\"0.321569\" stroke=\"#000000\" d=\"M748.5,-866C748.5,-866 631.5,-866 631.5,-866 625.5,-866 619.5,-860 619.5,-854 619.5,-854 619.5,-800 619.5,-800 619.5,-794 625.5,-788 631.5,-788 631.5,-788 748.5,-788 748.5,-788 754.5,-788 760.5,-794 760.5,-800 760.5,-800 760.5,-854 760.5,-854 760.5,-860 754.5,-866 748.5,-866\"/>\n",
       "<text text-anchor=\"start\" x=\"652\" y=\"-851.8\" font-family=\"Helvetica,sans-Serif\" font-size=\"14.00\" fill=\"#000000\">X</text>\n",
       "<text text-anchor=\"start\" x=\"662\" y=\"-851.8\" font-family=\"Helvetica,sans-Serif\" baseline-shift=\"sub\" font-size=\"14.00\" fill=\"#000000\">1</text>\n",
       "<text text-anchor=\"start\" x=\"670\" y=\"-851.8\" font-family=\"Helvetica,sans-Serif\" font-size=\"14.00\" fill=\"#000000\"> ≤ &#45;1.46</text>\n",
       "<text text-anchor=\"start\" x=\"631\" y=\"-837.8\" font-family=\"Helvetica,sans-Serif\" font-size=\"14.00\" fill=\"#000000\">entropy = 0.974</text>\n",
       "<text text-anchor=\"start\" x=\"635.5\" y=\"-823.8\" font-family=\"Helvetica,sans-Serif\" font-size=\"14.00\" fill=\"#000000\">samples = 205</text>\n",
       "<text text-anchor=\"start\" x=\"627.5\" y=\"-809.8\" font-family=\"Helvetica,sans-Serif\" font-size=\"14.00\" fill=\"#000000\">value = [122, 83]</text>\n",
       "<text text-anchor=\"start\" x=\"659.5\" y=\"-795.8\" font-family=\"Helvetica,sans-Serif\" font-size=\"14.00\" fill=\"#000000\">class = l</text>\n",
       "</g>\n",
       "<!-- 0&#45;&gt;22 -->\n",
       "<g id=\"edge22\" class=\"edge\">\n",
       "<title>0&#45;&gt;22</title>\n",
       "<path fill=\"none\" stroke=\"#000000\" d=\"M634.2522,-901.7677C640.7967,-892.9903 647.807,-883.5883 654.5713,-874.5161\"/>\n",
       "<polygon fill=\"#000000\" stroke=\"#000000\" points=\"657.5223,-876.4136 660.6939,-866.3046 651.9105,-872.2294 657.5223,-876.4136\"/>\n",
       "<text text-anchor=\"middle\" x=\"664.299\" y=\"-887.3433\" font-family=\"Helvetica,sans-Serif\" font-size=\"14.00\" fill=\"#000000\">False</text>\n",
       "</g>\n",
       "<!-- 2 -->\n",
       "<g id=\"node3\" class=\"node\">\n",
       "<title>2</title>\n",
       "<path fill=\"#e58139\" stroke=\"#000000\" d=\"M429.5,-747C429.5,-747 330.5,-747 330.5,-747 324.5,-747 318.5,-741 318.5,-735 318.5,-735 318.5,-691 318.5,-691 318.5,-685 324.5,-679 330.5,-679 330.5,-679 429.5,-679 429.5,-679 435.5,-679 441.5,-685 441.5,-691 441.5,-691 441.5,-735 441.5,-735 441.5,-741 435.5,-747 429.5,-747\"/>\n",
       "<text text-anchor=\"start\" x=\"330\" y=\"-731.8\" font-family=\"Helvetica,sans-Serif\" font-size=\"14.00\" fill=\"#000000\">entropy = 0.0</text>\n",
       "<text text-anchor=\"start\" x=\"330\" y=\"-716.8\" font-family=\"Helvetica,sans-Serif\" font-size=\"14.00\" fill=\"#000000\">samples = 84</text>\n",
       "<text text-anchor=\"start\" x=\"326.5\" y=\"-701.8\" font-family=\"Helvetica,sans-Serif\" font-size=\"14.00\" fill=\"#000000\">value = [84, 0]</text>\n",
       "<text text-anchor=\"start\" x=\"349.5\" y=\"-686.8\" font-family=\"Helvetica,sans-Serif\" font-size=\"14.00\" fill=\"#000000\">class = l</text>\n",
       "</g>\n",
       "<!-- 1&#45;&gt;2 -->\n",
       "<g id=\"edge2\" class=\"edge\">\n",
       "<title>1&#45;&gt;2</title>\n",
       "<path fill=\"none\" stroke=\"#000000\" d=\"M476.4109,-787.7677C462.2482,-776.7843 446.8245,-764.8231 432.5509,-753.7538\"/>\n",
       "<polygon fill=\"#000000\" stroke=\"#000000\" points=\"434.3451,-750.716 424.298,-747.3535 430.0553,-756.2476 434.3451,-750.716\"/>\n",
       "</g>\n",
       "<!-- 3 -->\n",
       "<g id=\"node4\" class=\"node\">\n",
       "<title>3</title>\n",
       "<path fill=\"#e58139\" fill-opacity=\"0.945098\" stroke=\"#000000\" d=\"M582,-752C582,-752 472,-752 472,-752 466,-752 460,-746 460,-740 460,-740 460,-686 460,-686 460,-680 466,-674 472,-674 472,-674 582,-674 582,-674 588,-674 594,-680 594,-686 594,-686 594,-740 594,-740 594,-746 588,-752 582,-752\"/>\n",
       "<text text-anchor=\"start\" x=\"484.5\" y=\"-737.8\" font-family=\"Helvetica,sans-Serif\" font-size=\"14.00\" fill=\"#000000\">X</text>\n",
       "<text text-anchor=\"start\" x=\"494.5\" y=\"-737.8\" font-family=\"Helvetica,sans-Serif\" baseline-shift=\"sub\" font-size=\"14.00\" fill=\"#000000\">5</text>\n",
       "<text text-anchor=\"start\" x=\"502.5\" y=\"-737.8\" font-family=\"Helvetica,sans-Serif\" font-size=\"14.00\" fill=\"#000000\"> ≤ &#45;1.219</text>\n",
       "<text text-anchor=\"start\" x=\"468\" y=\"-723.8\" font-family=\"Helvetica,sans-Serif\" font-size=\"14.00\" fill=\"#000000\">entropy = 0.297</text>\n",
       "<text text-anchor=\"start\" x=\"477\" y=\"-709.8\" font-family=\"Helvetica,sans-Serif\" font-size=\"14.00\" fill=\"#000000\">samples = 57</text>\n",
       "<text text-anchor=\"start\" x=\"473.5\" y=\"-695.8\" font-family=\"Helvetica,sans-Serif\" font-size=\"14.00\" fill=\"#000000\">value = [54, 3]</text>\n",
       "<text text-anchor=\"start\" x=\"496.5\" y=\"-681.8\" font-family=\"Helvetica,sans-Serif\" font-size=\"14.00\" fill=\"#000000\">class = l</text>\n",
       "</g>\n",
       "<!-- 1&#45;&gt;3 -->\n",
       "<g id=\"edge3\" class=\"edge\">\n",
       "<title>1&#45;&gt;3</title>\n",
       "<path fill=\"none\" stroke=\"#000000\" d=\"M527,-787.7677C527,-779.6172 527,-770.9283 527,-762.4649\"/>\n",
       "<polygon fill=\"#000000\" stroke=\"#000000\" points=\"530.5001,-762.3046 527,-752.3046 523.5001,-762.3047 530.5001,-762.3046\"/>\n",
       "</g>\n",
       "<!-- 4 -->\n",
       "<g id=\"node5\" class=\"node\">\n",
       "<title>4</title>\n",
       "<path fill=\"#e58139\" fill-opacity=\"0.901961\" stroke=\"#000000\" d=\"M407,-638C407,-638 297,-638 297,-638 291,-638 285,-632 285,-626 285,-626 285,-572 285,-572 285,-566 291,-560 297,-560 297,-560 407,-560 407,-560 413,-560 419,-566 419,-572 419,-572 419,-626 419,-626 419,-632 413,-638 407,-638\"/>\n",
       "<text text-anchor=\"start\" x=\"309.5\" y=\"-623.8\" font-family=\"Helvetica,sans-Serif\" font-size=\"14.00\" fill=\"#000000\">X</text>\n",
       "<text text-anchor=\"start\" x=\"319.5\" y=\"-623.8\" font-family=\"Helvetica,sans-Serif\" baseline-shift=\"sub\" font-size=\"14.00\" fill=\"#000000\">2</text>\n",
       "<text text-anchor=\"start\" x=\"327.5\" y=\"-623.8\" font-family=\"Helvetica,sans-Serif\" font-size=\"14.00\" fill=\"#000000\"> ≤ &#45;0.902</text>\n",
       "<text text-anchor=\"start\" x=\"293\" y=\"-609.8\" font-family=\"Helvetica,sans-Serif\" font-size=\"14.00\" fill=\"#000000\">entropy = 0.439</text>\n",
       "<text text-anchor=\"start\" x=\"302\" y=\"-595.8\" font-family=\"Helvetica,sans-Serif\" font-size=\"14.00\" fill=\"#000000\">samples = 33</text>\n",
       "<text text-anchor=\"start\" x=\"298.5\" y=\"-581.8\" font-family=\"Helvetica,sans-Serif\" font-size=\"14.00\" fill=\"#000000\">value = [30, 3]</text>\n",
       "<text text-anchor=\"start\" x=\"321.5\" y=\"-567.8\" font-family=\"Helvetica,sans-Serif\" font-size=\"14.00\" fill=\"#000000\">class = l</text>\n",
       "</g>\n",
       "<!-- 3&#45;&gt;4 -->\n",
       "<g id=\"edge4\" class=\"edge\">\n",
       "<title>3&#45;&gt;4</title>\n",
       "<path fill=\"none\" stroke=\"#000000\" d=\"M466.7749,-673.7677C451.8425,-664.0403 435.7326,-653.5458 420.4392,-643.5832\"/>\n",
       "<polygon fill=\"#000000\" stroke=\"#000000\" points=\"422.3289,-640.6372 412.0395,-638.1115 418.5081,-646.5024 422.3289,-640.6372\"/>\n",
       "</g>\n",
       "<!-- 21 -->\n",
       "<g id=\"node22\" class=\"node\">\n",
       "<title>21</title>\n",
       "<path fill=\"#e58139\" stroke=\"#000000\" d=\"M576.5,-633C576.5,-633 477.5,-633 477.5,-633 471.5,-633 465.5,-627 465.5,-621 465.5,-621 465.5,-577 465.5,-577 465.5,-571 471.5,-565 477.5,-565 477.5,-565 576.5,-565 576.5,-565 582.5,-565 588.5,-571 588.5,-577 588.5,-577 588.5,-621 588.5,-621 588.5,-627 582.5,-633 576.5,-633\"/>\n",
       "<text text-anchor=\"start\" x=\"477\" y=\"-617.8\" font-family=\"Helvetica,sans-Serif\" font-size=\"14.00\" fill=\"#000000\">entropy = 0.0</text>\n",
       "<text text-anchor=\"start\" x=\"477\" y=\"-602.8\" font-family=\"Helvetica,sans-Serif\" font-size=\"14.00\" fill=\"#000000\">samples = 24</text>\n",
       "<text text-anchor=\"start\" x=\"473.5\" y=\"-587.8\" font-family=\"Helvetica,sans-Serif\" font-size=\"14.00\" fill=\"#000000\">value = [24, 0]</text>\n",
       "<text text-anchor=\"start\" x=\"496.5\" y=\"-572.8\" font-family=\"Helvetica,sans-Serif\" font-size=\"14.00\" fill=\"#000000\">class = l</text>\n",
       "</g>\n",
       "<!-- 3&#45;&gt;21 -->\n",
       "<g id=\"edge21\" class=\"edge\">\n",
       "<title>3&#45;&gt;21</title>\n",
       "<path fill=\"none\" stroke=\"#000000\" d=\"M527,-673.7677C527,-664.0161 527,-653.4937 527,-643.509\"/>\n",
       "<polygon fill=\"#000000\" stroke=\"#000000\" points=\"530.5001,-643.3535 527,-633.3535 523.5001,-643.3536 530.5001,-643.3535\"/>\n",
       "</g>\n",
       "<!-- 5 -->\n",
       "<g id=\"node6\" class=\"node\">\n",
       "<title>5</title>\n",
       "<path fill=\"#e58139\" stroke=\"#000000\" d=\"M255,-519C255,-519 163,-519 163,-519 157,-519 151,-513 151,-507 151,-507 151,-463 151,-463 151,-457 157,-451 163,-451 163,-451 255,-451 255,-451 261,-451 267,-457 267,-463 267,-463 267,-507 267,-507 267,-513 261,-519 255,-519\"/>\n",
       "<text text-anchor=\"start\" x=\"159\" y=\"-503.8\" font-family=\"Helvetica,sans-Serif\" font-size=\"14.00\" fill=\"#000000\">entropy = 0.0</text>\n",
       "<text text-anchor=\"start\" x=\"163.5\" y=\"-488.8\" font-family=\"Helvetica,sans-Serif\" font-size=\"14.00\" fill=\"#000000\">samples = 7</text>\n",
       "<text text-anchor=\"start\" x=\"160\" y=\"-473.8\" font-family=\"Helvetica,sans-Serif\" font-size=\"14.00\" fill=\"#000000\">value = [7, 0]</text>\n",
       "<text text-anchor=\"start\" x=\"178.5\" y=\"-458.8\" font-family=\"Helvetica,sans-Serif\" font-size=\"14.00\" fill=\"#000000\">class = l</text>\n",
       "</g>\n",
       "<!-- 4&#45;&gt;5 -->\n",
       "<g id=\"edge5\" class=\"edge\">\n",
       "<title>4&#45;&gt;5</title>\n",
       "<path fill=\"none\" stroke=\"#000000\" d=\"M302.7875,-559.7677C289.0102,-548.7843 274.0062,-536.8231 260.121,-525.7538\"/>\n",
       "<polygon fill=\"#000000\" stroke=\"#000000\" points=\"262.0937,-522.8504 252.0926,-519.3535 257.7302,-528.3239 262.0937,-522.8504\"/>\n",
       "</g>\n",
       "<!-- 6 -->\n",
       "<g id=\"node7\" class=\"node\">\n",
       "<title>6</title>\n",
       "<path fill=\"#e58139\" fill-opacity=\"0.870588\" stroke=\"#000000\" d=\"M407,-524C407,-524 297,-524 297,-524 291,-524 285,-518 285,-512 285,-512 285,-458 285,-458 285,-452 291,-446 297,-446 297,-446 407,-446 407,-446 413,-446 419,-452 419,-458 419,-458 419,-512 419,-512 419,-518 413,-524 407,-524\"/>\n",
       "<text text-anchor=\"start\" x=\"309.5\" y=\"-509.8\" font-family=\"Helvetica,sans-Serif\" font-size=\"14.00\" fill=\"#000000\">X</text>\n",
       "<text text-anchor=\"start\" x=\"319.5\" y=\"-509.8\" font-family=\"Helvetica,sans-Serif\" baseline-shift=\"sub\" font-size=\"14.00\" fill=\"#000000\">2</text>\n",
       "<text text-anchor=\"start\" x=\"327.5\" y=\"-509.8\" font-family=\"Helvetica,sans-Serif\" font-size=\"14.00\" fill=\"#000000\"> ≤ &#45;0.736</text>\n",
       "<text text-anchor=\"start\" x=\"293\" y=\"-495.8\" font-family=\"Helvetica,sans-Serif\" font-size=\"14.00\" fill=\"#000000\">entropy = 0.516</text>\n",
       "<text text-anchor=\"start\" x=\"302\" y=\"-481.8\" font-family=\"Helvetica,sans-Serif\" font-size=\"14.00\" fill=\"#000000\">samples = 26</text>\n",
       "<text text-anchor=\"start\" x=\"298.5\" y=\"-467.8\" font-family=\"Helvetica,sans-Serif\" font-size=\"14.00\" fill=\"#000000\">value = [23, 3]</text>\n",
       "<text text-anchor=\"start\" x=\"321.5\" y=\"-453.8\" font-family=\"Helvetica,sans-Serif\" font-size=\"14.00\" fill=\"#000000\">class = l</text>\n",
       "</g>\n",
       "<!-- 4&#45;&gt;6 -->\n",
       "<g id=\"edge6\" class=\"edge\">\n",
       "<title>4&#45;&gt;6</title>\n",
       "<path fill=\"none\" stroke=\"#000000\" d=\"M352,-559.7677C352,-551.6172 352,-542.9283 352,-534.4649\"/>\n",
       "<polygon fill=\"#000000\" stroke=\"#000000\" points=\"355.5001,-534.3046 352,-524.3046 348.5001,-534.3047 355.5001,-534.3046\"/>\n",
       "</g>\n",
       "<!-- 7 -->\n",
       "<g id=\"node8\" class=\"node\">\n",
       "<title>7</title>\n",
       "<path fill=\"#e58139\" fill-opacity=\"0.498039\" stroke=\"#000000\" d=\"M247,-410C247,-410 137,-410 137,-410 131,-410 125,-404 125,-398 125,-398 125,-344 125,-344 125,-338 131,-332 137,-332 137,-332 247,-332 247,-332 253,-332 259,-338 259,-344 259,-344 259,-398 259,-398 259,-404 253,-410 247,-410\"/>\n",
       "<text text-anchor=\"start\" x=\"149.5\" y=\"-395.8\" font-family=\"Helvetica,sans-Serif\" font-size=\"14.00\" fill=\"#000000\">X</text>\n",
       "<text text-anchor=\"start\" x=\"159.5\" y=\"-395.8\" font-family=\"Helvetica,sans-Serif\" baseline-shift=\"sub\" font-size=\"14.00\" fill=\"#000000\">1</text>\n",
       "<text text-anchor=\"start\" x=\"167.5\" y=\"-395.8\" font-family=\"Helvetica,sans-Serif\" font-size=\"14.00\" fill=\"#000000\"> ≤ &#45;0.019</text>\n",
       "<text text-anchor=\"start\" x=\"133\" y=\"-381.8\" font-family=\"Helvetica,sans-Serif\" font-size=\"14.00\" fill=\"#000000\">entropy = 0.918</text>\n",
       "<text text-anchor=\"start\" x=\"146.5\" y=\"-367.8\" font-family=\"Helvetica,sans-Serif\" font-size=\"14.00\" fill=\"#000000\">samples = 3</text>\n",
       "<text text-anchor=\"start\" x=\"143\" y=\"-353.8\" font-family=\"Helvetica,sans-Serif\" font-size=\"14.00\" fill=\"#000000\">value = [2, 1]</text>\n",
       "<text text-anchor=\"start\" x=\"161.5\" y=\"-339.8\" font-family=\"Helvetica,sans-Serif\" font-size=\"14.00\" fill=\"#000000\">class = l</text>\n",
       "</g>\n",
       "<!-- 6&#45;&gt;7 -->\n",
       "<g id=\"edge7\" class=\"edge\">\n",
       "<title>6&#45;&gt;7</title>\n",
       "<path fill=\"none\" stroke=\"#000000\" d=\"M296.9371,-445.7677C283.5374,-436.2204 269.1007,-425.9342 255.3505,-416.1373\"/>\n",
       "<polygon fill=\"#000000\" stroke=\"#000000\" points=\"257.0685,-413.0638 246.8933,-410.1115 253.0065,-418.7647 257.0685,-413.0638\"/>\n",
       "</g>\n",
       "<!-- 10 -->\n",
       "<g id=\"node11\" class=\"node\">\n",
       "<title>10</title>\n",
       "<path fill=\"#e58139\" fill-opacity=\"0.905882\" stroke=\"#000000\" d=\"M407,-410C407,-410 297,-410 297,-410 291,-410 285,-404 285,-398 285,-398 285,-344 285,-344 285,-338 291,-332 297,-332 297,-332 407,-332 407,-332 413,-332 419,-338 419,-344 419,-344 419,-398 419,-398 419,-404 413,-410 407,-410\"/>\n",
       "<text text-anchor=\"start\" x=\"309.5\" y=\"-395.8\" font-family=\"Helvetica,sans-Serif\" font-size=\"14.00\" fill=\"#000000\">X</text>\n",
       "<text text-anchor=\"start\" x=\"319.5\" y=\"-395.8\" font-family=\"Helvetica,sans-Serif\" baseline-shift=\"sub\" font-size=\"14.00\" fill=\"#000000\">0</text>\n",
       "<text text-anchor=\"start\" x=\"327.5\" y=\"-395.8\" font-family=\"Helvetica,sans-Serif\" font-size=\"14.00\" fill=\"#000000\"> ≤ &#45;0.399</text>\n",
       "<text text-anchor=\"start\" x=\"293\" y=\"-381.8\" font-family=\"Helvetica,sans-Serif\" font-size=\"14.00\" fill=\"#000000\">entropy = 0.426</text>\n",
       "<text text-anchor=\"start\" x=\"302\" y=\"-367.8\" font-family=\"Helvetica,sans-Serif\" font-size=\"14.00\" fill=\"#000000\">samples = 23</text>\n",
       "<text text-anchor=\"start\" x=\"298.5\" y=\"-353.8\" font-family=\"Helvetica,sans-Serif\" font-size=\"14.00\" fill=\"#000000\">value = [21, 2]</text>\n",
       "<text text-anchor=\"start\" x=\"321.5\" y=\"-339.8\" font-family=\"Helvetica,sans-Serif\" font-size=\"14.00\" fill=\"#000000\">class = l</text>\n",
       "</g>\n",
       "<!-- 6&#45;&gt;10 -->\n",
       "<g id=\"edge10\" class=\"edge\">\n",
       "<title>6&#45;&gt;10</title>\n",
       "<path fill=\"none\" stroke=\"#000000\" d=\"M352,-445.7677C352,-437.6172 352,-428.9283 352,-420.4649\"/>\n",
       "<polygon fill=\"#000000\" stroke=\"#000000\" points=\"355.5001,-420.3046 352,-410.3046 348.5001,-420.3047 355.5001,-420.3046\"/>\n",
       "</g>\n",
       "<!-- 8 -->\n",
       "<g id=\"node9\" class=\"node\">\n",
       "<title>8</title>\n",
       "<path fill=\"#e58139\" stroke=\"#000000\" d=\"M104,-291C104,-291 12,-291 12,-291 6,-291 0,-285 0,-279 0,-279 0,-235 0,-235 0,-229 6,-223 12,-223 12,-223 104,-223 104,-223 110,-223 116,-229 116,-235 116,-235 116,-279 116,-279 116,-285 110,-291 104,-291\"/>\n",
       "<text text-anchor=\"start\" x=\"8\" y=\"-275.8\" font-family=\"Helvetica,sans-Serif\" font-size=\"14.00\" fill=\"#000000\">entropy = 0.0</text>\n",
       "<text text-anchor=\"start\" x=\"12.5\" y=\"-260.8\" font-family=\"Helvetica,sans-Serif\" font-size=\"14.00\" fill=\"#000000\">samples = 1</text>\n",
       "<text text-anchor=\"start\" x=\"9\" y=\"-245.8\" font-family=\"Helvetica,sans-Serif\" font-size=\"14.00\" fill=\"#000000\">value = [1, 0]</text>\n",
       "<text text-anchor=\"start\" x=\"27.5\" y=\"-230.8\" font-family=\"Helvetica,sans-Serif\" font-size=\"14.00\" fill=\"#000000\">class = l</text>\n",
       "</g>\n",
       "<!-- 7&#45;&gt;8 -->\n",
       "<g id=\"edge8\" class=\"edge\">\n",
       "<title>7&#45;&gt;8</title>\n",
       "<path fill=\"none\" stroke=\"#000000\" d=\"M145.8848,-331.7677C133.0952,-320.887 119.1776,-309.0466 106.2686,-298.0644\"/>\n",
       "<polygon fill=\"#000000\" stroke=\"#000000\" points=\"108.265,-295.1675 98.3805,-291.3535 103.7291,-300.4992 108.265,-295.1675\"/>\n",
       "</g>\n",
       "<!-- 9 -->\n",
       "<g id=\"node10\" class=\"node\">\n",
       "<title>9</title>\n",
       "<path fill=\"transparent\" stroke=\"#000000\" d=\"M238,-291C238,-291 146,-291 146,-291 140,-291 134,-285 134,-279 134,-279 134,-235 134,-235 134,-229 140,-223 146,-223 146,-223 238,-223 238,-223 244,-223 250,-229 250,-235 250,-235 250,-279 250,-279 250,-285 244,-291 238,-291\"/>\n",
       "<text text-anchor=\"start\" x=\"142\" y=\"-275.8\" font-family=\"Helvetica,sans-Serif\" font-size=\"14.00\" fill=\"#000000\">entropy = 1.0</text>\n",
       "<text text-anchor=\"start\" x=\"146.5\" y=\"-260.8\" font-family=\"Helvetica,sans-Serif\" font-size=\"14.00\" fill=\"#000000\">samples = 2</text>\n",
       "<text text-anchor=\"start\" x=\"143\" y=\"-245.8\" font-family=\"Helvetica,sans-Serif\" font-size=\"14.00\" fill=\"#000000\">value = [1, 1]</text>\n",
       "<text text-anchor=\"start\" x=\"161.5\" y=\"-230.8\" font-family=\"Helvetica,sans-Serif\" font-size=\"14.00\" fill=\"#000000\">class = l</text>\n",
       "</g>\n",
       "<!-- 7&#45;&gt;9 -->\n",
       "<g id=\"edge9\" class=\"edge\">\n",
       "<title>7&#45;&gt;9</title>\n",
       "<path fill=\"none\" stroke=\"#000000\" d=\"M192,-331.7677C192,-322.0161 192,-311.4937 192,-301.509\"/>\n",
       "<polygon fill=\"#000000\" stroke=\"#000000\" points=\"195.5001,-301.3535 192,-291.3535 188.5001,-301.3536 195.5001,-301.3535\"/>\n",
       "</g>\n",
       "<!-- 11 -->\n",
       "<g id=\"node12\" class=\"node\">\n",
       "<title>11</title>\n",
       "<path fill=\"#e58139\" fill-opacity=\"0.666667\" stroke=\"#000000\" d=\"M390,-296C390,-296 280,-296 280,-296 274,-296 268,-290 268,-284 268,-284 268,-230 268,-230 268,-224 274,-218 280,-218 280,-218 390,-218 390,-218 396,-218 402,-224 402,-230 402,-230 402,-284 402,-284 402,-290 396,-296 390,-296\"/>\n",
       "<text text-anchor=\"start\" x=\"295\" y=\"-281.8\" font-family=\"Helvetica,sans-Serif\" font-size=\"14.00\" fill=\"#000000\">X</text>\n",
       "<text text-anchor=\"start\" x=\"305\" y=\"-281.8\" font-family=\"Helvetica,sans-Serif\" baseline-shift=\"sub\" font-size=\"14.00\" fill=\"#000000\">2</text>\n",
       "<text text-anchor=\"start\" x=\"313\" y=\"-281.8\" font-family=\"Helvetica,sans-Serif\" font-size=\"14.00\" fill=\"#000000\"> ≤ 0.425</text>\n",
       "<text text-anchor=\"start\" x=\"276\" y=\"-267.8\" font-family=\"Helvetica,sans-Serif\" font-size=\"14.00\" fill=\"#000000\">entropy = 0.811</text>\n",
       "<text text-anchor=\"start\" x=\"289.5\" y=\"-253.8\" font-family=\"Helvetica,sans-Serif\" font-size=\"14.00\" fill=\"#000000\">samples = 4</text>\n",
       "<text text-anchor=\"start\" x=\"286\" y=\"-239.8\" font-family=\"Helvetica,sans-Serif\" font-size=\"14.00\" fill=\"#000000\">value = [3, 1]</text>\n",
       "<text text-anchor=\"start\" x=\"304.5\" y=\"-225.8\" font-family=\"Helvetica,sans-Serif\" font-size=\"14.00\" fill=\"#000000\">class = l</text>\n",
       "</g>\n",
       "<!-- 10&#45;&gt;11 -->\n",
       "<g id=\"edge11\" class=\"edge\">\n",
       "<title>10&#45;&gt;11</title>\n",
       "<path fill=\"none\" stroke=\"#000000\" d=\"M346.1496,-331.7677C344.9341,-323.6172 343.6384,-314.9283 342.3763,-306.4649\"/>\n",
       "<polygon fill=\"#000000\" stroke=\"#000000\" points=\"345.7979,-305.679 340.8612,-296.3046 338.8745,-306.7115 345.7979,-305.679\"/>\n",
       "</g>\n",
       "<!-- 16 -->\n",
       "<g id=\"node17\" class=\"node\">\n",
       "<title>16</title>\n",
       "<path fill=\"#e58139\" fill-opacity=\"0.945098\" stroke=\"#000000\" d=\"M542,-296C542,-296 432,-296 432,-296 426,-296 420,-290 420,-284 420,-284 420,-230 420,-230 420,-224 426,-218 432,-218 432,-218 542,-218 542,-218 548,-218 554,-224 554,-230 554,-230 554,-284 554,-284 554,-290 548,-296 542,-296\"/>\n",
       "<text text-anchor=\"start\" x=\"444.5\" y=\"-281.8\" font-family=\"Helvetica,sans-Serif\" font-size=\"14.00\" fill=\"#000000\">X</text>\n",
       "<text text-anchor=\"start\" x=\"454.5\" y=\"-281.8\" font-family=\"Helvetica,sans-Serif\" baseline-shift=\"sub\" font-size=\"14.00\" fill=\"#000000\">2</text>\n",
       "<text text-anchor=\"start\" x=\"462.5\" y=\"-281.8\" font-family=\"Helvetica,sans-Serif\" font-size=\"14.00\" fill=\"#000000\"> ≤ &#45;0.404</text>\n",
       "<text text-anchor=\"start\" x=\"428\" y=\"-267.8\" font-family=\"Helvetica,sans-Serif\" font-size=\"14.00\" fill=\"#000000\">entropy = 0.297</text>\n",
       "<text text-anchor=\"start\" x=\"437\" y=\"-253.8\" font-family=\"Helvetica,sans-Serif\" font-size=\"14.00\" fill=\"#000000\">samples = 19</text>\n",
       "<text text-anchor=\"start\" x=\"433.5\" y=\"-239.8\" font-family=\"Helvetica,sans-Serif\" font-size=\"14.00\" fill=\"#000000\">value = [18, 1]</text>\n",
       "<text text-anchor=\"start\" x=\"456.5\" y=\"-225.8\" font-family=\"Helvetica,sans-Serif\" font-size=\"14.00\" fill=\"#000000\">class = l</text>\n",
       "</g>\n",
       "<!-- 10&#45;&gt;16 -->\n",
       "<g id=\"edge16\" class=\"edge\">\n",
       "<title>10&#45;&gt;16</title>\n",
       "<path fill=\"none\" stroke=\"#000000\" d=\"M398.4593,-331.7677C409.49,-322.4529 421.3536,-312.4347 432.6995,-302.8538\"/>\n",
       "<polygon fill=\"#000000\" stroke=\"#000000\" points=\"435.0728,-305.4306 440.455,-296.3046 430.5566,-300.0824 435.0728,-305.4306\"/>\n",
       "</g>\n",
       "<!-- 12 -->\n",
       "<g id=\"node13\" class=\"node\">\n",
       "<title>12</title>\n",
       "<path fill=\"#e58139\" stroke=\"#000000\" d=\"M247,-177C247,-177 155,-177 155,-177 149,-177 143,-171 143,-165 143,-165 143,-121 143,-121 143,-115 149,-109 155,-109 155,-109 247,-109 247,-109 253,-109 259,-115 259,-121 259,-121 259,-165 259,-165 259,-171 253,-177 247,-177\"/>\n",
       "<text text-anchor=\"start\" x=\"151\" y=\"-161.8\" font-family=\"Helvetica,sans-Serif\" font-size=\"14.00\" fill=\"#000000\">entropy = 0.0</text>\n",
       "<text text-anchor=\"start\" x=\"155.5\" y=\"-146.8\" font-family=\"Helvetica,sans-Serif\" font-size=\"14.00\" fill=\"#000000\">samples = 2</text>\n",
       "<text text-anchor=\"start\" x=\"152\" y=\"-131.8\" font-family=\"Helvetica,sans-Serif\" font-size=\"14.00\" fill=\"#000000\">value = [2, 0]</text>\n",
       "<text text-anchor=\"start\" x=\"170.5\" y=\"-116.8\" font-family=\"Helvetica,sans-Serif\" font-size=\"14.00\" fill=\"#000000\">class = l</text>\n",
       "</g>\n",
       "<!-- 11&#45;&gt;12 -->\n",
       "<g id=\"edge12\" class=\"edge\">\n",
       "<title>11&#45;&gt;12</title>\n",
       "<path fill=\"none\" stroke=\"#000000\" d=\"M288.8848,-217.7677C276.0952,-206.887 262.1776,-195.0466 249.2686,-184.0644\"/>\n",
       "<polygon fill=\"#000000\" stroke=\"#000000\" points=\"251.265,-181.1675 241.3805,-177.3535 246.7291,-186.4992 251.265,-181.1675\"/>\n",
       "</g>\n",
       "<!-- 13 -->\n",
       "<g id=\"node14\" class=\"node\">\n",
       "<title>13</title>\n",
       "<path fill=\"transparent\" stroke=\"#000000\" d=\"M381,-182C381,-182 289,-182 289,-182 283,-182 277,-176 277,-170 277,-170 277,-116 277,-116 277,-110 283,-104 289,-104 289,-104 381,-104 381,-104 387,-104 393,-110 393,-116 393,-116 393,-170 393,-170 393,-176 387,-182 381,-182\"/>\n",
       "<text text-anchor=\"start\" x=\"295\" y=\"-167.8\" font-family=\"Helvetica,sans-Serif\" font-size=\"14.00\" fill=\"#000000\">X</text>\n",
       "<text text-anchor=\"start\" x=\"305\" y=\"-167.8\" font-family=\"Helvetica,sans-Serif\" baseline-shift=\"sub\" font-size=\"14.00\" fill=\"#000000\">2</text>\n",
       "<text text-anchor=\"start\" x=\"313\" y=\"-167.8\" font-family=\"Helvetica,sans-Serif\" font-size=\"14.00\" fill=\"#000000\"> ≤ 1.585</text>\n",
       "<text text-anchor=\"start\" x=\"285\" y=\"-153.8\" font-family=\"Helvetica,sans-Serif\" font-size=\"14.00\" fill=\"#000000\">entropy = 1.0</text>\n",
       "<text text-anchor=\"start\" x=\"289.5\" y=\"-139.8\" font-family=\"Helvetica,sans-Serif\" font-size=\"14.00\" fill=\"#000000\">samples = 2</text>\n",
       "<text text-anchor=\"start\" x=\"286\" y=\"-125.8\" font-family=\"Helvetica,sans-Serif\" font-size=\"14.00\" fill=\"#000000\">value = [1, 1]</text>\n",
       "<text text-anchor=\"start\" x=\"304.5\" y=\"-111.8\" font-family=\"Helvetica,sans-Serif\" font-size=\"14.00\" fill=\"#000000\">class = l</text>\n",
       "</g>\n",
       "<!-- 11&#45;&gt;13 -->\n",
       "<g id=\"edge13\" class=\"edge\">\n",
       "<title>11&#45;&gt;13</title>\n",
       "<path fill=\"none\" stroke=\"#000000\" d=\"M335,-217.7677C335,-209.6172 335,-200.9283 335,-192.4649\"/>\n",
       "<polygon fill=\"#000000\" stroke=\"#000000\" points=\"338.5001,-192.3046 335,-182.3046 331.5001,-192.3047 338.5001,-192.3046\"/>\n",
       "</g>\n",
       "<!-- 14 -->\n",
       "<g id=\"node15\" class=\"node\">\n",
       "<title>14</title>\n",
       "<path fill=\"#399de5\" stroke=\"#000000\" d=\"M247,-68C247,-68 155,-68 155,-68 149,-68 143,-62 143,-56 143,-56 143,-12 143,-12 143,-6 149,0 155,0 155,0 247,0 247,0 253,0 259,-6 259,-12 259,-12 259,-56 259,-56 259,-62 253,-68 247,-68\"/>\n",
       "<text text-anchor=\"start\" x=\"151\" y=\"-52.8\" font-family=\"Helvetica,sans-Serif\" font-size=\"14.00\" fill=\"#000000\">entropy = 0.0</text>\n",
       "<text text-anchor=\"start\" x=\"155.5\" y=\"-37.8\" font-family=\"Helvetica,sans-Serif\" font-size=\"14.00\" fill=\"#000000\">samples = 1</text>\n",
       "<text text-anchor=\"start\" x=\"152\" y=\"-22.8\" font-family=\"Helvetica,sans-Serif\" font-size=\"14.00\" fill=\"#000000\">value = [0, 1]</text>\n",
       "<text text-anchor=\"start\" x=\"168\" y=\"-7.8\" font-family=\"Helvetica,sans-Serif\" font-size=\"14.00\" fill=\"#000000\">class = o</text>\n",
       "</g>\n",
       "<!-- 13&#45;&gt;14 -->\n",
       "<g id=\"edge14\" class=\"edge\">\n",
       "<title>13&#45;&gt;14</title>\n",
       "<path fill=\"none\" stroke=\"#000000\" d=\"M287.0014,-103.9564C275.2862,-94.4268 262.7261,-84.21 250.9234,-74.6094\"/>\n",
       "<polygon fill=\"#000000\" stroke=\"#000000\" points=\"252.8593,-71.6724 242.8931,-68.0772 248.4421,-77.1027 252.8593,-71.6724\"/>\n",
       "</g>\n",
       "<!-- 15 -->\n",
       "<g id=\"node16\" class=\"node\">\n",
       "<title>15</title>\n",
       "<path fill=\"#e58139\" stroke=\"#000000\" d=\"M381,-68C381,-68 289,-68 289,-68 283,-68 277,-62 277,-56 277,-56 277,-12 277,-12 277,-6 283,0 289,0 289,0 381,0 381,0 387,0 393,-6 393,-12 393,-12 393,-56 393,-56 393,-62 387,-68 381,-68\"/>\n",
       "<text text-anchor=\"start\" x=\"285\" y=\"-52.8\" font-family=\"Helvetica,sans-Serif\" font-size=\"14.00\" fill=\"#000000\">entropy = 0.0</text>\n",
       "<text text-anchor=\"start\" x=\"289.5\" y=\"-37.8\" font-family=\"Helvetica,sans-Serif\" font-size=\"14.00\" fill=\"#000000\">samples = 1</text>\n",
       "<text text-anchor=\"start\" x=\"286\" y=\"-22.8\" font-family=\"Helvetica,sans-Serif\" font-size=\"14.00\" fill=\"#000000\">value = [1, 0]</text>\n",
       "<text text-anchor=\"start\" x=\"304.5\" y=\"-7.8\" font-family=\"Helvetica,sans-Serif\" font-size=\"14.00\" fill=\"#000000\">class = l</text>\n",
       "</g>\n",
       "<!-- 13&#45;&gt;15 -->\n",
       "<g id=\"edge15\" class=\"edge\">\n",
       "<title>13&#45;&gt;15</title>\n",
       "<path fill=\"none\" stroke=\"#000000\" d=\"M335,-103.9564C335,-95.618 335,-86.7535 335,-78.2359\"/>\n",
       "<polygon fill=\"#000000\" stroke=\"#000000\" points=\"338.5001,-78.0772 335,-68.0772 331.5001,-78.0773 338.5001,-78.0772\"/>\n",
       "</g>\n",
       "<!-- 17 -->\n",
       "<g id=\"node18\" class=\"node\">\n",
       "<title>17</title>\n",
       "<path fill=\"#e58139\" fill-opacity=\"0.800000\" stroke=\"#000000\" d=\"M526.5,-182C526.5,-182 425.5,-182 425.5,-182 419.5,-182 413.5,-176 413.5,-170 413.5,-170 413.5,-116 413.5,-116 413.5,-110 419.5,-104 425.5,-104 425.5,-104 526.5,-104 526.5,-104 532.5,-104 538.5,-110 538.5,-116 538.5,-116 538.5,-170 538.5,-170 538.5,-176 532.5,-182 526.5,-182\"/>\n",
       "<text text-anchor=\"start\" x=\"438\" y=\"-167.8\" font-family=\"Helvetica,sans-Serif\" font-size=\"14.00\" fill=\"#000000\">X</text>\n",
       "<text text-anchor=\"start\" x=\"448\" y=\"-167.8\" font-family=\"Helvetica,sans-Serif\" baseline-shift=\"sub\" font-size=\"14.00\" fill=\"#000000\">2</text>\n",
       "<text text-anchor=\"start\" x=\"456\" y=\"-167.8\" font-family=\"Helvetica,sans-Serif\" font-size=\"14.00\" fill=\"#000000\"> ≤ &#45;0.57</text>\n",
       "<text text-anchor=\"start\" x=\"421.5\" y=\"-153.8\" font-family=\"Helvetica,sans-Serif\" font-size=\"14.00\" fill=\"#000000\">entropy = 0.65</text>\n",
       "<text text-anchor=\"start\" x=\"430.5\" y=\"-139.8\" font-family=\"Helvetica,sans-Serif\" font-size=\"14.00\" fill=\"#000000\">samples = 6</text>\n",
       "<text text-anchor=\"start\" x=\"427\" y=\"-125.8\" font-family=\"Helvetica,sans-Serif\" font-size=\"14.00\" fill=\"#000000\">value = [5, 1]</text>\n",
       "<text text-anchor=\"start\" x=\"445.5\" y=\"-111.8\" font-family=\"Helvetica,sans-Serif\" font-size=\"14.00\" fill=\"#000000\">class = l</text>\n",
       "</g>\n",
       "<!-- 16&#45;&gt;17 -->\n",
       "<g id=\"edge17\" class=\"edge\">\n",
       "<title>16&#45;&gt;17</title>\n",
       "<path fill=\"none\" stroke=\"#000000\" d=\"M483.2144,-217.7677C482.428,-209.6172 481.5896,-200.9283 480.7729,-192.4649\"/>\n",
       "<polygon fill=\"#000000\" stroke=\"#000000\" points=\"484.2369,-191.9222 479.7926,-182.3046 477.2693,-192.5946 484.2369,-191.9222\"/>\n",
       "</g>\n",
       "<!-- 20 -->\n",
       "<g id=\"node21\" class=\"node\">\n",
       "<title>20</title>\n",
       "<path fill=\"#e58139\" stroke=\"#000000\" d=\"M667.5,-177C667.5,-177 568.5,-177 568.5,-177 562.5,-177 556.5,-171 556.5,-165 556.5,-165 556.5,-121 556.5,-121 556.5,-115 562.5,-109 568.5,-109 568.5,-109 667.5,-109 667.5,-109 673.5,-109 679.5,-115 679.5,-121 679.5,-121 679.5,-165 679.5,-165 679.5,-171 673.5,-177 667.5,-177\"/>\n",
       "<text text-anchor=\"start\" x=\"568\" y=\"-161.8\" font-family=\"Helvetica,sans-Serif\" font-size=\"14.00\" fill=\"#000000\">entropy = 0.0</text>\n",
       "<text text-anchor=\"start\" x=\"568\" y=\"-146.8\" font-family=\"Helvetica,sans-Serif\" font-size=\"14.00\" fill=\"#000000\">samples = 13</text>\n",
       "<text text-anchor=\"start\" x=\"564.5\" y=\"-131.8\" font-family=\"Helvetica,sans-Serif\" font-size=\"14.00\" fill=\"#000000\">value = [13, 0]</text>\n",
       "<text text-anchor=\"start\" x=\"587.5\" y=\"-116.8\" font-family=\"Helvetica,sans-Serif\" font-size=\"14.00\" fill=\"#000000\">class = l</text>\n",
       "</g>\n",
       "<!-- 16&#45;&gt;20 -->\n",
       "<g id=\"edge20\" class=\"edge\">\n",
       "<title>16&#45;&gt;20</title>\n",
       "<path fill=\"none\" stroke=\"#000000\" d=\"M532.0828,-217.7677C544.586,-206.887 558.1921,-195.0466 570.812,-184.0644\"/>\n",
       "<polygon fill=\"#000000\" stroke=\"#000000\" points=\"573.2776,-186.5585 578.5236,-177.3535 568.6824,-181.2779 573.2776,-186.5585\"/>\n",
       "</g>\n",
       "<!-- 18 -->\n",
       "<g id=\"node19\" class=\"node\">\n",
       "<title>18</title>\n",
       "<path fill=\"#e58139\" stroke=\"#000000\" d=\"M515,-68C515,-68 423,-68 423,-68 417,-68 411,-62 411,-56 411,-56 411,-12 411,-12 411,-6 417,0 423,0 423,0 515,0 515,0 521,0 527,-6 527,-12 527,-12 527,-56 527,-56 527,-62 521,-68 515,-68\"/>\n",
       "<text text-anchor=\"start\" x=\"419\" y=\"-52.8\" font-family=\"Helvetica,sans-Serif\" font-size=\"14.00\" fill=\"#000000\">entropy = 0.0</text>\n",
       "<text text-anchor=\"start\" x=\"423.5\" y=\"-37.8\" font-family=\"Helvetica,sans-Serif\" font-size=\"14.00\" fill=\"#000000\">samples = 3</text>\n",
       "<text text-anchor=\"start\" x=\"420\" y=\"-22.8\" font-family=\"Helvetica,sans-Serif\" font-size=\"14.00\" fill=\"#000000\">value = [3, 0]</text>\n",
       "<text text-anchor=\"start\" x=\"438.5\" y=\"-7.8\" font-family=\"Helvetica,sans-Serif\" font-size=\"14.00\" fill=\"#000000\">class = l</text>\n",
       "</g>\n",
       "<!-- 17&#45;&gt;18 -->\n",
       "<g id=\"edge18\" class=\"edge\">\n",
       "<title>17&#45;&gt;18</title>\n",
       "<path fill=\"none\" stroke=\"#000000\" d=\"M473.4926,-103.9564C472.9571,-95.618 472.3878,-86.7535 471.8408,-78.2359\"/>\n",
       "<polygon fill=\"#000000\" stroke=\"#000000\" points=\"475.3222,-77.8323 471.1884,-68.0772 468.3366,-78.281 475.3222,-77.8323\"/>\n",
       "</g>\n",
       "<!-- 19 -->\n",
       "<g id=\"node20\" class=\"node\">\n",
       "<title>19</title>\n",
       "<path fill=\"#e58139\" fill-opacity=\"0.498039\" stroke=\"#000000\" d=\"M667,-68C667,-68 557,-68 557,-68 551,-68 545,-62 545,-56 545,-56 545,-12 545,-12 545,-6 551,0 557,0 557,0 667,0 667,0 673,0 679,-6 679,-12 679,-12 679,-56 679,-56 679,-62 673,-68 667,-68\"/>\n",
       "<text text-anchor=\"start\" x=\"553\" y=\"-52.8\" font-family=\"Helvetica,sans-Serif\" font-size=\"14.00\" fill=\"#000000\">entropy = 0.918</text>\n",
       "<text text-anchor=\"start\" x=\"566.5\" y=\"-37.8\" font-family=\"Helvetica,sans-Serif\" font-size=\"14.00\" fill=\"#000000\">samples = 3</text>\n",
       "<text text-anchor=\"start\" x=\"563\" y=\"-22.8\" font-family=\"Helvetica,sans-Serif\" font-size=\"14.00\" fill=\"#000000\">value = [2, 1]</text>\n",
       "<text text-anchor=\"start\" x=\"581.5\" y=\"-7.8\" font-family=\"Helvetica,sans-Serif\" font-size=\"14.00\" fill=\"#000000\">class = l</text>\n",
       "</g>\n",
       "<!-- 17&#45;&gt;19 -->\n",
       "<g id=\"edge19\" class=\"edge\">\n",
       "<title>17&#45;&gt;19</title>\n",
       "<path fill=\"none\" stroke=\"#000000\" d=\"M524.715,-103.9564C536.7194,-94.3352 549.5979,-84.0135 561.6768,-74.3326\"/>\n",
       "<polygon fill=\"#000000\" stroke=\"#000000\" points=\"563.8674,-77.0623 569.4816,-68.0772 559.4896,-71.6001 563.8674,-77.0623\"/>\n",
       "</g>\n",
       "<!-- 23 -->\n",
       "<g id=\"node24\" class=\"node\">\n",
       "<title>23</title>\n",
       "<path fill=\"#e58139\" stroke=\"#000000\" d=\"M736,-747C736,-747 644,-747 644,-747 638,-747 632,-741 632,-735 632,-735 632,-691 632,-691 632,-685 638,-679 644,-679 644,-679 736,-679 736,-679 742,-679 748,-685 748,-691 748,-691 748,-735 748,-735 748,-741 742,-747 736,-747\"/>\n",
       "<text text-anchor=\"start\" x=\"640\" y=\"-731.8\" font-family=\"Helvetica,sans-Serif\" font-size=\"14.00\" fill=\"#000000\">entropy = 0.0</text>\n",
       "<text text-anchor=\"start\" x=\"644.5\" y=\"-716.8\" font-family=\"Helvetica,sans-Serif\" font-size=\"14.00\" fill=\"#000000\">samples = 7</text>\n",
       "<text text-anchor=\"start\" x=\"641\" y=\"-701.8\" font-family=\"Helvetica,sans-Serif\" font-size=\"14.00\" fill=\"#000000\">value = [7, 0]</text>\n",
       "<text text-anchor=\"start\" x=\"659.5\" y=\"-686.8\" font-family=\"Helvetica,sans-Serif\" font-size=\"14.00\" fill=\"#000000\">class = l</text>\n",
       "</g>\n",
       "<!-- 22&#45;&gt;23 -->\n",
       "<g id=\"edge23\" class=\"edge\">\n",
       "<title>22&#45;&gt;23</title>\n",
       "<path fill=\"none\" stroke=\"#000000\" d=\"M690,-787.7677C690,-778.0161 690,-767.4937 690,-757.509\"/>\n",
       "<polygon fill=\"#000000\" stroke=\"#000000\" points=\"693.5001,-757.3535 690,-747.3535 686.5001,-757.3536 693.5001,-757.3535\"/>\n",
       "</g>\n",
       "<!-- 24 -->\n",
       "<g id=\"node25\" class=\"node\">\n",
       "<title>24</title>\n",
       "<path fill=\"#e58139\" fill-opacity=\"0.278431\" stroke=\"#000000\" d=\"M909.5,-752C909.5,-752 792.5,-752 792.5,-752 786.5,-752 780.5,-746 780.5,-740 780.5,-740 780.5,-686 780.5,-686 780.5,-680 786.5,-674 792.5,-674 792.5,-674 909.5,-674 909.5,-674 915.5,-674 921.5,-680 921.5,-686 921.5,-686 921.5,-740 921.5,-740 921.5,-746 915.5,-752 909.5,-752\"/>\n",
       "<text text-anchor=\"start\" x=\"808.5\" y=\"-737.8\" font-family=\"Helvetica,sans-Serif\" font-size=\"14.00\" fill=\"#000000\">X</text>\n",
       "<text text-anchor=\"start\" x=\"818.5\" y=\"-737.8\" font-family=\"Helvetica,sans-Serif\" baseline-shift=\"sub\" font-size=\"14.00\" fill=\"#000000\">3</text>\n",
       "<text text-anchor=\"start\" x=\"826.5\" y=\"-737.8\" font-family=\"Helvetica,sans-Serif\" font-size=\"14.00\" fill=\"#000000\"> ≤ &#45;0.979</text>\n",
       "<text text-anchor=\"start\" x=\"792\" y=\"-723.8\" font-family=\"Helvetica,sans-Serif\" font-size=\"14.00\" fill=\"#000000\">entropy = 0.981</text>\n",
       "<text text-anchor=\"start\" x=\"796.5\" y=\"-709.8\" font-family=\"Helvetica,sans-Serif\" font-size=\"14.00\" fill=\"#000000\">samples = 198</text>\n",
       "<text text-anchor=\"start\" x=\"788.5\" y=\"-695.8\" font-family=\"Helvetica,sans-Serif\" font-size=\"14.00\" fill=\"#000000\">value = [115, 83]</text>\n",
       "<text text-anchor=\"start\" x=\"820.5\" y=\"-681.8\" font-family=\"Helvetica,sans-Serif\" font-size=\"14.00\" fill=\"#000000\">class = l</text>\n",
       "</g>\n",
       "<!-- 22&#45;&gt;24 -->\n",
       "<g id=\"edge24\" class=\"edge\">\n",
       "<title>22&#45;&gt;24</title>\n",
       "<path fill=\"none\" stroke=\"#000000\" d=\"M745.4071,-787.7677C758.8905,-778.2204 773.4175,-767.9342 787.2535,-758.1373\"/>\n",
       "<polygon fill=\"#000000\" stroke=\"#000000\" points=\"789.625,-760.7467 795.7636,-752.1115 785.5798,-755.0338 789.625,-760.7467\"/>\n",
       "</g>\n",
       "<!-- 25 -->\n",
       "<g id=\"node26\" class=\"node\">\n",
       "<title>25</title>\n",
       "<path fill=\"#e58139\" fill-opacity=\"0.611765\" stroke=\"#000000\" d=\"M906,-638C906,-638 796,-638 796,-638 790,-638 784,-632 784,-626 784,-626 784,-572 784,-572 784,-566 790,-560 796,-560 796,-560 906,-560 906,-560 912,-560 918,-566 918,-572 918,-572 918,-626 918,-626 918,-632 912,-638 906,-638\"/>\n",
       "<text text-anchor=\"start\" x=\"808.5\" y=\"-623.8\" font-family=\"Helvetica,sans-Serif\" font-size=\"14.00\" fill=\"#000000\">X</text>\n",
       "<text text-anchor=\"start\" x=\"818.5\" y=\"-623.8\" font-family=\"Helvetica,sans-Serif\" baseline-shift=\"sub\" font-size=\"14.00\" fill=\"#000000\">2</text>\n",
       "<text text-anchor=\"start\" x=\"826.5\" y=\"-623.8\" font-family=\"Helvetica,sans-Serif\" font-size=\"14.00\" fill=\"#000000\"> ≤ &#45;0.073</text>\n",
       "<text text-anchor=\"start\" x=\"792\" y=\"-609.8\" font-family=\"Helvetica,sans-Serif\" font-size=\"14.00\" fill=\"#000000\">entropy = 0.855</text>\n",
       "<text text-anchor=\"start\" x=\"801\" y=\"-595.8\" font-family=\"Helvetica,sans-Serif\" font-size=\"14.00\" fill=\"#000000\">samples = 25</text>\n",
       "<text text-anchor=\"start\" x=\"797.5\" y=\"-581.8\" font-family=\"Helvetica,sans-Serif\" font-size=\"14.00\" fill=\"#000000\">value = [18, 7]</text>\n",
       "<text text-anchor=\"start\" x=\"820.5\" y=\"-567.8\" font-family=\"Helvetica,sans-Serif\" font-size=\"14.00\" fill=\"#000000\">class = l</text>\n",
       "</g>\n",
       "<!-- 24&#45;&gt;25 -->\n",
       "<g id=\"edge25\" class=\"edge\">\n",
       "<title>24&#45;&gt;25</title>\n",
       "<path fill=\"none\" stroke=\"#000000\" d=\"M851,-673.7677C851,-665.6172 851,-656.9283 851,-648.4649\"/>\n",
       "<polygon fill=\"#000000\" stroke=\"#000000\" points=\"854.5001,-648.3046 851,-638.3046 847.5001,-648.3047 854.5001,-648.3046\"/>\n",
       "</g>\n",
       "<!-- 40 -->\n",
       "<g id=\"node41\" class=\"node\">\n",
       "<title>40</title>\n",
       "<path fill=\"#e58139\" fill-opacity=\"0.215686\" stroke=\"#000000\" d=\"M1355,-638C1355,-638 1245,-638 1245,-638 1239,-638 1233,-632 1233,-626 1233,-626 1233,-572 1233,-572 1233,-566 1239,-560 1245,-560 1245,-560 1355,-560 1355,-560 1361,-560 1367,-566 1367,-572 1367,-572 1367,-626 1367,-626 1367,-632 1361,-638 1355,-638\"/>\n",
       "<text text-anchor=\"start\" x=\"1264.5\" y=\"-623.8\" font-family=\"Helvetica,sans-Serif\" font-size=\"14.00\" fill=\"#000000\">X</text>\n",
       "<text text-anchor=\"start\" x=\"1274.5\" y=\"-623.8\" font-family=\"Helvetica,sans-Serif\" baseline-shift=\"sub\" font-size=\"14.00\" fill=\"#000000\">8</text>\n",
       "<text text-anchor=\"start\" x=\"1282.5\" y=\"-623.8\" font-family=\"Helvetica,sans-Serif\" font-size=\"14.00\" fill=\"#000000\"> ≤ 0.14</text>\n",
       "<text text-anchor=\"start\" x=\"1241\" y=\"-609.8\" font-family=\"Helvetica,sans-Serif\" font-size=\"14.00\" fill=\"#000000\">entropy = 0.989</text>\n",
       "<text text-anchor=\"start\" x=\"1245.5\" y=\"-595.8\" font-family=\"Helvetica,sans-Serif\" font-size=\"14.00\" fill=\"#000000\">samples = 173</text>\n",
       "<text text-anchor=\"start\" x=\"1242\" y=\"-581.8\" font-family=\"Helvetica,sans-Serif\" font-size=\"14.00\" fill=\"#000000\">value = [97, 76]</text>\n",
       "<text text-anchor=\"start\" x=\"1269.5\" y=\"-567.8\" font-family=\"Helvetica,sans-Serif\" font-size=\"14.00\" fill=\"#000000\">class = l</text>\n",
       "</g>\n",
       "<!-- 24&#45;&gt;40 -->\n",
       "<g id=\"edge40\" class=\"edge\">\n",
       "<title>24&#45;&gt;40</title>\n",
       "<path fill=\"none\" stroke=\"#000000\" d=\"M921.6502,-695.0621C1003.6071,-674.2534 1138.2723,-640.0623 1222.8869,-618.5788\"/>\n",
       "<polygon fill=\"#000000\" stroke=\"#000000\" points=\"1223.8646,-621.9417 1232.6958,-616.0884 1222.1419,-615.157 1223.8646,-621.9417\"/>\n",
       "</g>\n",
       "<!-- 26 -->\n",
       "<g id=\"node27\" class=\"node\">\n",
       "<title>26</title>\n",
       "<path fill=\"transparent\" stroke=\"#000000\" d=\"M815,-524C815,-524 723,-524 723,-524 717,-524 711,-518 711,-512 711,-512 711,-458 711,-458 711,-452 717,-446 723,-446 723,-446 815,-446 815,-446 821,-446 827,-452 827,-458 827,-458 827,-512 827,-512 827,-518 821,-524 815,-524\"/>\n",
       "<text text-anchor=\"start\" x=\"726.5\" y=\"-509.8\" font-family=\"Helvetica,sans-Serif\" font-size=\"14.00\" fill=\"#000000\">X</text>\n",
       "<text text-anchor=\"start\" x=\"736.5\" y=\"-509.8\" font-family=\"Helvetica,sans-Serif\" baseline-shift=\"sub\" font-size=\"14.00\" fill=\"#000000\">2</text>\n",
       "<text text-anchor=\"start\" x=\"744.5\" y=\"-509.8\" font-family=\"Helvetica,sans-Serif\" font-size=\"14.00\" fill=\"#000000\"> ≤ &#45;0.404</text>\n",
       "<text text-anchor=\"start\" x=\"719\" y=\"-495.8\" font-family=\"Helvetica,sans-Serif\" font-size=\"14.00\" fill=\"#000000\">entropy = 1.0</text>\n",
       "<text text-anchor=\"start\" x=\"719\" y=\"-481.8\" font-family=\"Helvetica,sans-Serif\" font-size=\"14.00\" fill=\"#000000\">samples = 12</text>\n",
       "<text text-anchor=\"start\" x=\"720\" y=\"-467.8\" font-family=\"Helvetica,sans-Serif\" font-size=\"14.00\" fill=\"#000000\">value = [6, 6]</text>\n",
       "<text text-anchor=\"start\" x=\"738.5\" y=\"-453.8\" font-family=\"Helvetica,sans-Serif\" font-size=\"14.00\" fill=\"#000000\">class = l</text>\n",
       "</g>\n",
       "<!-- 25&#45;&gt;26 -->\n",
       "<g id=\"edge26\" class=\"edge\">\n",
       "<title>25&#45;&gt;26</title>\n",
       "<path fill=\"none\" stroke=\"#000000\" d=\"M822.7803,-559.7677C816.4667,-550.9903 809.7039,-541.5883 803.1783,-532.5161\"/>\n",
       "<polygon fill=\"#000000\" stroke=\"#000000\" points=\"805.9524,-530.3789 797.2718,-524.3046 800.2698,-534.4665 805.9524,-530.3789\"/>\n",
       "</g>\n",
       "<!-- 35 -->\n",
       "<g id=\"node36\" class=\"node\">\n",
       "<title>35</title>\n",
       "<path fill=\"#e58139\" fill-opacity=\"0.917647\" stroke=\"#000000\" d=\"M967,-524C967,-524 857,-524 857,-524 851,-524 845,-518 845,-512 845,-512 845,-458 845,-458 845,-452 851,-446 857,-446 857,-446 967,-446 967,-446 973,-446 979,-452 979,-458 979,-458 979,-512 979,-512 979,-518 973,-524 967,-524\"/>\n",
       "<text text-anchor=\"start\" x=\"872\" y=\"-509.8\" font-family=\"Helvetica,sans-Serif\" font-size=\"14.00\" fill=\"#000000\">X</text>\n",
       "<text text-anchor=\"start\" x=\"882\" y=\"-509.8\" font-family=\"Helvetica,sans-Serif\" baseline-shift=\"sub\" font-size=\"14.00\" fill=\"#000000\">2</text>\n",
       "<text text-anchor=\"start\" x=\"890\" y=\"-509.8\" font-family=\"Helvetica,sans-Serif\" font-size=\"14.00\" fill=\"#000000\"> ≤ 0.922</text>\n",
       "<text text-anchor=\"start\" x=\"853\" y=\"-495.8\" font-family=\"Helvetica,sans-Serif\" font-size=\"14.00\" fill=\"#000000\">entropy = 0.391</text>\n",
       "<text text-anchor=\"start\" x=\"862\" y=\"-481.8\" font-family=\"Helvetica,sans-Serif\" font-size=\"14.00\" fill=\"#000000\">samples = 13</text>\n",
       "<text text-anchor=\"start\" x=\"858.5\" y=\"-467.8\" font-family=\"Helvetica,sans-Serif\" font-size=\"14.00\" fill=\"#000000\">value = [12, 1]</text>\n",
       "<text text-anchor=\"start\" x=\"881.5\" y=\"-453.8\" font-family=\"Helvetica,sans-Serif\" font-size=\"14.00\" fill=\"#000000\">class = l</text>\n",
       "</g>\n",
       "<!-- 25&#45;&gt;35 -->\n",
       "<g id=\"edge35\" class=\"edge\">\n",
       "<title>25&#45;&gt;35</title>\n",
       "<path fill=\"none\" stroke=\"#000000\" d=\"M871.9927,-559.7677C876.5456,-551.259 881.4126,-542.1634 886.1284,-533.3502\"/>\n",
       "<polygon fill=\"#000000\" stroke=\"#000000\" points=\"889.3366,-534.773 890.9686,-524.3046 883.1646,-531.4705 889.3366,-534.773\"/>\n",
       "</g>\n",
       "<!-- 27 -->\n",
       "<g id=\"node28\" class=\"node\">\n",
       "<title>27</title>\n",
       "<path fill=\"#e58139\" fill-opacity=\"0.498039\" stroke=\"#000000\" d=\"M685,-410C685,-410 575,-410 575,-410 569,-410 563,-404 563,-398 563,-398 563,-344 563,-344 563,-338 569,-332 575,-332 575,-332 685,-332 685,-332 691,-332 697,-338 697,-344 697,-344 697,-398 697,-398 697,-404 691,-410 685,-410\"/>\n",
       "<text text-anchor=\"start\" x=\"587.5\" y=\"-395.8\" font-family=\"Helvetica,sans-Serif\" font-size=\"14.00\" fill=\"#000000\">X</text>\n",
       "<text text-anchor=\"start\" x=\"597.5\" y=\"-395.8\" font-family=\"Helvetica,sans-Serif\" baseline-shift=\"sub\" font-size=\"14.00\" fill=\"#000000\">0</text>\n",
       "<text text-anchor=\"start\" x=\"605.5\" y=\"-395.8\" font-family=\"Helvetica,sans-Serif\" font-size=\"14.00\" fill=\"#000000\"> ≤ &#45;0.399</text>\n",
       "<text text-anchor=\"start\" x=\"571\" y=\"-381.8\" font-family=\"Helvetica,sans-Serif\" font-size=\"14.00\" fill=\"#000000\">entropy = 0.918</text>\n",
       "<text text-anchor=\"start\" x=\"584.5\" y=\"-367.8\" font-family=\"Helvetica,sans-Serif\" font-size=\"14.00\" fill=\"#000000\">samples = 9</text>\n",
       "<text text-anchor=\"start\" x=\"581\" y=\"-353.8\" font-family=\"Helvetica,sans-Serif\" font-size=\"14.00\" fill=\"#000000\">value = [6, 3]</text>\n",
       "<text text-anchor=\"start\" x=\"599.5\" y=\"-339.8\" font-family=\"Helvetica,sans-Serif\" font-size=\"14.00\" fill=\"#000000\">class = l</text>\n",
       "</g>\n",
       "<!-- 26&#45;&gt;27 -->\n",
       "<g id=\"edge27\" class=\"edge\">\n",
       "<title>26&#45;&gt;27</title>\n",
       "<path fill=\"none\" stroke=\"#000000\" d=\"M721.1641,-445.7677C709.8066,-436.4529 697.5914,-426.4347 685.9094,-416.8538\"/>\n",
       "<polygon fill=\"#000000\" stroke=\"#000000\" points=\"687.8758,-413.9399 677.9241,-410.3046 683.4367,-419.3524 687.8758,-413.9399\"/>\n",
       "</g>\n",
       "<!-- 34 -->\n",
       "<g id=\"node35\" class=\"node\">\n",
       "<title>34</title>\n",
       "<path fill=\"#399de5\" stroke=\"#000000\" d=\"M819,-405C819,-405 727,-405 727,-405 721,-405 715,-399 715,-393 715,-393 715,-349 715,-349 715,-343 721,-337 727,-337 727,-337 819,-337 819,-337 825,-337 831,-343 831,-349 831,-349 831,-393 831,-393 831,-399 825,-405 819,-405\"/>\n",
       "<text text-anchor=\"start\" x=\"723\" y=\"-389.8\" font-family=\"Helvetica,sans-Serif\" font-size=\"14.00\" fill=\"#000000\">entropy = 0.0</text>\n",
       "<text text-anchor=\"start\" x=\"727.5\" y=\"-374.8\" font-family=\"Helvetica,sans-Serif\" font-size=\"14.00\" fill=\"#000000\">samples = 3</text>\n",
       "<text text-anchor=\"start\" x=\"724\" y=\"-359.8\" font-family=\"Helvetica,sans-Serif\" font-size=\"14.00\" fill=\"#000000\">value = [0, 3]</text>\n",
       "<text text-anchor=\"start\" x=\"740\" y=\"-344.8\" font-family=\"Helvetica,sans-Serif\" font-size=\"14.00\" fill=\"#000000\">class = o</text>\n",
       "</g>\n",
       "<!-- 26&#45;&gt;34 -->\n",
       "<g id=\"edge34\" class=\"edge\">\n",
       "<title>26&#45;&gt;34</title>\n",
       "<path fill=\"none\" stroke=\"#000000\" d=\"M770.3766,-445.7677C770.7187,-436.0161 771.0879,-425.4937 771.4383,-415.509\"/>\n",
       "<polygon fill=\"#000000\" stroke=\"#000000\" points=\"774.9417,-415.4701 771.7946,-405.3535 767.946,-415.2246 774.9417,-415.4701\"/>\n",
       "</g>\n",
       "<!-- 28 -->\n",
       "<g id=\"node29\" class=\"node\">\n",
       "<title>28</title>\n",
       "<path fill=\"#399de5\" stroke=\"#000000\" d=\"M676,-291C676,-291 584,-291 584,-291 578,-291 572,-285 572,-279 572,-279 572,-235 572,-235 572,-229 578,-223 584,-223 584,-223 676,-223 676,-223 682,-223 688,-229 688,-235 688,-235 688,-279 688,-279 688,-285 682,-291 676,-291\"/>\n",
       "<text text-anchor=\"start\" x=\"580\" y=\"-275.8\" font-family=\"Helvetica,sans-Serif\" font-size=\"14.00\" fill=\"#000000\">entropy = 0.0</text>\n",
       "<text text-anchor=\"start\" x=\"584.5\" y=\"-260.8\" font-family=\"Helvetica,sans-Serif\" font-size=\"14.00\" fill=\"#000000\">samples = 1</text>\n",
       "<text text-anchor=\"start\" x=\"581\" y=\"-245.8\" font-family=\"Helvetica,sans-Serif\" font-size=\"14.00\" fill=\"#000000\">value = [0, 1]</text>\n",
       "<text text-anchor=\"start\" x=\"597\" y=\"-230.8\" font-family=\"Helvetica,sans-Serif\" font-size=\"14.00\" fill=\"#000000\">class = o</text>\n",
       "</g>\n",
       "<!-- 27&#45;&gt;28 -->\n",
       "<g id=\"edge28\" class=\"edge\">\n",
       "<title>27&#45;&gt;28</title>\n",
       "<path fill=\"none\" stroke=\"#000000\" d=\"M630,-331.7677C630,-322.0161 630,-311.4937 630,-301.509\"/>\n",
       "<polygon fill=\"#000000\" stroke=\"#000000\" points=\"633.5001,-301.3535 630,-291.3535 626.5001,-301.3536 633.5001,-301.3535\"/>\n",
       "</g>\n",
       "<!-- 29 -->\n",
       "<g id=\"node30\" class=\"node\">\n",
       "<title>29</title>\n",
       "<path fill=\"#e58139\" fill-opacity=\"0.666667\" stroke=\"#000000\" d=\"M828,-296C828,-296 718,-296 718,-296 712,-296 706,-290 706,-284 706,-284 706,-230 706,-230 706,-224 712,-218 718,-218 718,-218 828,-218 828,-218 834,-218 840,-224 840,-230 840,-230 840,-284 840,-284 840,-290 834,-296 828,-296\"/>\n",
       "<text text-anchor=\"start\" x=\"730.5\" y=\"-281.8\" font-family=\"Helvetica,sans-Serif\" font-size=\"14.00\" fill=\"#000000\">X</text>\n",
       "<text text-anchor=\"start\" x=\"740.5\" y=\"-281.8\" font-family=\"Helvetica,sans-Serif\" baseline-shift=\"sub\" font-size=\"14.00\" fill=\"#000000\">2</text>\n",
       "<text text-anchor=\"start\" x=\"748.5\" y=\"-281.8\" font-family=\"Helvetica,sans-Serif\" font-size=\"14.00\" fill=\"#000000\"> ≤ &#45;0.736</text>\n",
       "<text text-anchor=\"start\" x=\"714\" y=\"-267.8\" font-family=\"Helvetica,sans-Serif\" font-size=\"14.00\" fill=\"#000000\">entropy = 0.811</text>\n",
       "<text text-anchor=\"start\" x=\"727.5\" y=\"-253.8\" font-family=\"Helvetica,sans-Serif\" font-size=\"14.00\" fill=\"#000000\">samples = 8</text>\n",
       "<text text-anchor=\"start\" x=\"724\" y=\"-239.8\" font-family=\"Helvetica,sans-Serif\" font-size=\"14.00\" fill=\"#000000\">value = [6, 2]</text>\n",
       "<text text-anchor=\"start\" x=\"742.5\" y=\"-225.8\" font-family=\"Helvetica,sans-Serif\" font-size=\"14.00\" fill=\"#000000\">class = l</text>\n",
       "</g>\n",
       "<!-- 27&#45;&gt;29 -->\n",
       "<g id=\"edge29\" class=\"edge\">\n",
       "<title>27&#45;&gt;29</title>\n",
       "<path fill=\"none\" stroke=\"#000000\" d=\"M679.2125,-331.7677C691.0092,-322.3633 703.7052,-312.242 715.8282,-302.5775\"/>\n",
       "<polygon fill=\"#000000\" stroke=\"#000000\" points=\"718.0592,-305.2751 723.6968,-296.3046 713.6957,-299.8015 718.0592,-305.2751\"/>\n",
       "</g>\n",
       "<!-- 30 -->\n",
       "<g id=\"node31\" class=\"node\">\n",
       "<title>30</title>\n",
       "<path fill=\"#e58139\" stroke=\"#000000\" d=\"M807,-177C807,-177 715,-177 715,-177 709,-177 703,-171 703,-165 703,-165 703,-121 703,-121 703,-115 709,-109 715,-109 715,-109 807,-109 807,-109 813,-109 819,-115 819,-121 819,-121 819,-165 819,-165 819,-171 813,-177 807,-177\"/>\n",
       "<text text-anchor=\"start\" x=\"711\" y=\"-161.8\" font-family=\"Helvetica,sans-Serif\" font-size=\"14.00\" fill=\"#000000\">entropy = 0.0</text>\n",
       "<text text-anchor=\"start\" x=\"715.5\" y=\"-146.8\" font-family=\"Helvetica,sans-Serif\" font-size=\"14.00\" fill=\"#000000\">samples = 3</text>\n",
       "<text text-anchor=\"start\" x=\"712\" y=\"-131.8\" font-family=\"Helvetica,sans-Serif\" font-size=\"14.00\" fill=\"#000000\">value = [3, 0]</text>\n",
       "<text text-anchor=\"start\" x=\"730.5\" y=\"-116.8\" font-family=\"Helvetica,sans-Serif\" font-size=\"14.00\" fill=\"#000000\">class = l</text>\n",
       "</g>\n",
       "<!-- 29&#45;&gt;30 -->\n",
       "<g id=\"edge30\" class=\"edge\">\n",
       "<title>29&#45;&gt;30</title>\n",
       "<path fill=\"none\" stroke=\"#000000\" d=\"M768.8703,-217.7677C767.8438,-208.0161 766.7362,-197.4937 765.6852,-187.509\"/>\n",
       "<polygon fill=\"#000000\" stroke=\"#000000\" points=\"769.1439,-186.9321 764.6162,-177.3535 762.1823,-187.665 769.1439,-186.9321\"/>\n",
       "</g>\n",
       "<!-- 31 -->\n",
       "<g id=\"node32\" class=\"node\">\n",
       "<title>31</title>\n",
       "<path fill=\"#e58139\" fill-opacity=\"0.333333\" stroke=\"#000000\" d=\"M959,-182C959,-182 849,-182 849,-182 843,-182 837,-176 837,-170 837,-170 837,-116 837,-116 837,-110 843,-104 849,-104 849,-104 959,-104 959,-104 965,-104 971,-110 971,-116 971,-116 971,-170 971,-170 971,-176 965,-182 959,-182\"/>\n",
       "<text text-anchor=\"start\" x=\"864\" y=\"-167.8\" font-family=\"Helvetica,sans-Serif\" font-size=\"14.00\" fill=\"#000000\">X</text>\n",
       "<text text-anchor=\"start\" x=\"874\" y=\"-167.8\" font-family=\"Helvetica,sans-Serif\" baseline-shift=\"sub\" font-size=\"14.00\" fill=\"#000000\">7</text>\n",
       "<text text-anchor=\"start\" x=\"882\" y=\"-167.8\" font-family=\"Helvetica,sans-Serif\" font-size=\"14.00\" fill=\"#000000\"> ≤ 0.128</text>\n",
       "<text text-anchor=\"start\" x=\"845\" y=\"-153.8\" font-family=\"Helvetica,sans-Serif\" font-size=\"14.00\" fill=\"#000000\">entropy = 0.971</text>\n",
       "<text text-anchor=\"start\" x=\"858.5\" y=\"-139.8\" font-family=\"Helvetica,sans-Serif\" font-size=\"14.00\" fill=\"#000000\">samples = 5</text>\n",
       "<text text-anchor=\"start\" x=\"855\" y=\"-125.8\" font-family=\"Helvetica,sans-Serif\" font-size=\"14.00\" fill=\"#000000\">value = [3, 2]</text>\n",
       "<text text-anchor=\"start\" x=\"873.5\" y=\"-111.8\" font-family=\"Helvetica,sans-Serif\" font-size=\"14.00\" fill=\"#000000\">class = l</text>\n",
       "</g>\n",
       "<!-- 29&#45;&gt;31 -->\n",
       "<g id=\"edge31\" class=\"edge\">\n",
       "<title>29&#45;&gt;31</title>\n",
       "<path fill=\"none\" stroke=\"#000000\" d=\"M818.0828,-217.7677C828.6837,-208.5424 840.0774,-198.6273 850.9907,-189.1302\"/>\n",
       "<polygon fill=\"#000000\" stroke=\"#000000\" points=\"853.5882,-191.5096 858.8341,-182.3046 848.9929,-186.2291 853.5882,-191.5096\"/>\n",
       "</g>\n",
       "<!-- 32 -->\n",
       "<g id=\"node33\" class=\"node\">\n",
       "<title>32</title>\n",
       "<path fill=\"#e58139\" fill-opacity=\"0.666667\" stroke=\"#000000\" d=\"M819,-68C819,-68 709,-68 709,-68 703,-68 697,-62 697,-56 697,-56 697,-12 697,-12 697,-6 703,0 709,0 709,0 819,0 819,0 825,0 831,-6 831,-12 831,-12 831,-56 831,-56 831,-62 825,-68 819,-68\"/>\n",
       "<text text-anchor=\"start\" x=\"705\" y=\"-52.8\" font-family=\"Helvetica,sans-Serif\" font-size=\"14.00\" fill=\"#000000\">entropy = 0.811</text>\n",
       "<text text-anchor=\"start\" x=\"718.5\" y=\"-37.8\" font-family=\"Helvetica,sans-Serif\" font-size=\"14.00\" fill=\"#000000\">samples = 4</text>\n",
       "<text text-anchor=\"start\" x=\"715\" y=\"-22.8\" font-family=\"Helvetica,sans-Serif\" font-size=\"14.00\" fill=\"#000000\">value = [3, 1]</text>\n",
       "<text text-anchor=\"start\" x=\"733.5\" y=\"-7.8\" font-family=\"Helvetica,sans-Serif\" font-size=\"14.00\" fill=\"#000000\">class = l</text>\n",
       "</g>\n",
       "<!-- 31&#45;&gt;32 -->\n",
       "<g id=\"edge32\" class=\"edge\">\n",
       "<title>31&#45;&gt;32</title>\n",
       "<path fill=\"none\" stroke=\"#000000\" d=\"M853.8522,-103.9564C841.4948,-94.3352 828.2375,-84.0135 815.8033,-74.3326\"/>\n",
       "<polygon fill=\"#000000\" stroke=\"#000000\" points=\"817.8096,-71.4589 807.7689,-68.0772 813.5093,-76.9823 817.8096,-71.4589\"/>\n",
       "</g>\n",
       "<!-- 33 -->\n",
       "<g id=\"node34\" class=\"node\">\n",
       "<title>33</title>\n",
       "<path fill=\"#399de5\" stroke=\"#000000\" d=\"M953,-68C953,-68 861,-68 861,-68 855,-68 849,-62 849,-56 849,-56 849,-12 849,-12 849,-6 855,0 861,0 861,0 953,0 953,0 959,0 965,-6 965,-12 965,-12 965,-56 965,-56 965,-62 959,-68 953,-68\"/>\n",
       "<text text-anchor=\"start\" x=\"857\" y=\"-52.8\" font-family=\"Helvetica,sans-Serif\" font-size=\"14.00\" fill=\"#000000\">entropy = 0.0</text>\n",
       "<text text-anchor=\"start\" x=\"861.5\" y=\"-37.8\" font-family=\"Helvetica,sans-Serif\" font-size=\"14.00\" fill=\"#000000\">samples = 1</text>\n",
       "<text text-anchor=\"start\" x=\"858\" y=\"-22.8\" font-family=\"Helvetica,sans-Serif\" font-size=\"14.00\" fill=\"#000000\">value = [0, 1]</text>\n",
       "<text text-anchor=\"start\" x=\"874\" y=\"-7.8\" font-family=\"Helvetica,sans-Serif\" font-size=\"14.00\" fill=\"#000000\">class = o</text>\n",
       "</g>\n",
       "<!-- 31&#45;&gt;33 -->\n",
       "<g id=\"edge33\" class=\"edge\">\n",
       "<title>31&#45;&gt;33</title>\n",
       "<path fill=\"none\" stroke=\"#000000\" d=\"M905.0746,-103.9564C905.3041,-95.618 905.5481,-86.7535 905.7825,-78.2359\"/>\n",
       "<polygon fill=\"#000000\" stroke=\"#000000\" points=\"909.2855,-78.1698 906.0621,-68.0772 902.2882,-77.9771 909.2855,-78.1698\"/>\n",
       "</g>\n",
       "<!-- 36 -->\n",
       "<g id=\"node37\" class=\"node\">\n",
       "<title>36</title>\n",
       "<path fill=\"#e58139\" stroke=\"#000000\" d=\"M953,-405C953,-405 861,-405 861,-405 855,-405 849,-399 849,-393 849,-393 849,-349 849,-349 849,-343 855,-337 861,-337 861,-337 953,-337 953,-337 959,-337 965,-343 965,-349 965,-349 965,-393 965,-393 965,-399 959,-405 953,-405\"/>\n",
       "<text text-anchor=\"start\" x=\"857\" y=\"-389.8\" font-family=\"Helvetica,sans-Serif\" font-size=\"14.00\" fill=\"#000000\">entropy = 0.0</text>\n",
       "<text text-anchor=\"start\" x=\"861.5\" y=\"-374.8\" font-family=\"Helvetica,sans-Serif\" font-size=\"14.00\" fill=\"#000000\">samples = 9</text>\n",
       "<text text-anchor=\"start\" x=\"858\" y=\"-359.8\" font-family=\"Helvetica,sans-Serif\" font-size=\"14.00\" fill=\"#000000\">value = [9, 0]</text>\n",
       "<text text-anchor=\"start\" x=\"876.5\" y=\"-344.8\" font-family=\"Helvetica,sans-Serif\" font-size=\"14.00\" fill=\"#000000\">class = l</text>\n",
       "</g>\n",
       "<!-- 35&#45;&gt;36 -->\n",
       "<g id=\"edge36\" class=\"edge\">\n",
       "<title>35&#45;&gt;36</title>\n",
       "<path fill=\"none\" stroke=\"#000000\" d=\"M910.2793,-445.7677C909.8516,-436.0161 909.3901,-425.4937 908.9522,-415.509\"/>\n",
       "<polygon fill=\"#000000\" stroke=\"#000000\" points=\"912.4416,-415.1905 908.5067,-405.3535 905.4484,-415.4973 912.4416,-415.1905\"/>\n",
       "</g>\n",
       "<!-- 37 -->\n",
       "<g id=\"node38\" class=\"node\">\n",
       "<title>37</title>\n",
       "<path fill=\"#e58139\" fill-opacity=\"0.666667\" stroke=\"#000000\" d=\"M1105,-410C1105,-410 995,-410 995,-410 989,-410 983,-404 983,-398 983,-398 983,-344 983,-344 983,-338 989,-332 995,-332 995,-332 1105,-332 1105,-332 1111,-332 1117,-338 1117,-344 1117,-344 1117,-398 1117,-398 1117,-404 1111,-410 1105,-410\"/>\n",
       "<text text-anchor=\"start\" x=\"1014.5\" y=\"-395.8\" font-family=\"Helvetica,sans-Serif\" font-size=\"14.00\" fill=\"#000000\">X</text>\n",
       "<text text-anchor=\"start\" x=\"1024.5\" y=\"-395.8\" font-family=\"Helvetica,sans-Serif\" baseline-shift=\"sub\" font-size=\"14.00\" fill=\"#000000\">8</text>\n",
       "<text text-anchor=\"start\" x=\"1032.5\" y=\"-395.8\" font-family=\"Helvetica,sans-Serif\" font-size=\"14.00\" fill=\"#000000\"> ≤ 0.14</text>\n",
       "<text text-anchor=\"start\" x=\"991\" y=\"-381.8\" font-family=\"Helvetica,sans-Serif\" font-size=\"14.00\" fill=\"#000000\">entropy = 0.811</text>\n",
       "<text text-anchor=\"start\" x=\"1004.5\" y=\"-367.8\" font-family=\"Helvetica,sans-Serif\" font-size=\"14.00\" fill=\"#000000\">samples = 4</text>\n",
       "<text text-anchor=\"start\" x=\"1001\" y=\"-353.8\" font-family=\"Helvetica,sans-Serif\" font-size=\"14.00\" fill=\"#000000\">value = [3, 1]</text>\n",
       "<text text-anchor=\"start\" x=\"1019.5\" y=\"-339.8\" font-family=\"Helvetica,sans-Serif\" font-size=\"14.00\" fill=\"#000000\">class = l</text>\n",
       "</g>\n",
       "<!-- 35&#45;&gt;37 -->\n",
       "<g id=\"edge37\" class=\"edge\">\n",
       "<title>35&#45;&gt;37</title>\n",
       "<path fill=\"none\" stroke=\"#000000\" d=\"M959.4918,-445.7677C970.7676,-436.4529 982.8948,-426.4347 994.4928,-416.8538\"/>\n",
       "<polygon fill=\"#000000\" stroke=\"#000000\" points=\"996.9401,-419.3719 1002.4207,-410.3046 992.482,-413.9751 996.9401,-419.3719\"/>\n",
       "</g>\n",
       "<!-- 38 -->\n",
       "<g id=\"node39\" class=\"node\">\n",
       "<title>38</title>\n",
       "<path fill=\"#e58139\" stroke=\"#000000\" d=\"M962,-291C962,-291 870,-291 870,-291 864,-291 858,-285 858,-279 858,-279 858,-235 858,-235 858,-229 864,-223 870,-223 870,-223 962,-223 962,-223 968,-223 974,-229 974,-235 974,-235 974,-279 974,-279 974,-285 968,-291 962,-291\"/>\n",
       "<text text-anchor=\"start\" x=\"866\" y=\"-275.8\" font-family=\"Helvetica,sans-Serif\" font-size=\"14.00\" fill=\"#000000\">entropy = 0.0</text>\n",
       "<text text-anchor=\"start\" x=\"870.5\" y=\"-260.8\" font-family=\"Helvetica,sans-Serif\" font-size=\"14.00\" fill=\"#000000\">samples = 3</text>\n",
       "<text text-anchor=\"start\" x=\"867\" y=\"-245.8\" font-family=\"Helvetica,sans-Serif\" font-size=\"14.00\" fill=\"#000000\">value = [3, 0]</text>\n",
       "<text text-anchor=\"start\" x=\"885.5\" y=\"-230.8\" font-family=\"Helvetica,sans-Serif\" font-size=\"14.00\" fill=\"#000000\">class = l</text>\n",
       "</g>\n",
       "<!-- 37&#45;&gt;38 -->\n",
       "<g id=\"edge38\" class=\"edge\">\n",
       "<title>37&#45;&gt;38</title>\n",
       "<path fill=\"none\" stroke=\"#000000\" d=\"M1003.8848,-331.7677C991.0952,-320.887 977.1776,-309.0466 964.2686,-298.0644\"/>\n",
       "<polygon fill=\"#000000\" stroke=\"#000000\" points=\"966.265,-295.1675 956.3805,-291.3535 961.7291,-300.4992 966.265,-295.1675\"/>\n",
       "</g>\n",
       "<!-- 39 -->\n",
       "<g id=\"node40\" class=\"node\">\n",
       "<title>39</title>\n",
       "<path fill=\"#399de5\" stroke=\"#000000\" d=\"M1096,-291C1096,-291 1004,-291 1004,-291 998,-291 992,-285 992,-279 992,-279 992,-235 992,-235 992,-229 998,-223 1004,-223 1004,-223 1096,-223 1096,-223 1102,-223 1108,-229 1108,-235 1108,-235 1108,-279 1108,-279 1108,-285 1102,-291 1096,-291\"/>\n",
       "<text text-anchor=\"start\" x=\"1000\" y=\"-275.8\" font-family=\"Helvetica,sans-Serif\" font-size=\"14.00\" fill=\"#000000\">entropy = 0.0</text>\n",
       "<text text-anchor=\"start\" x=\"1004.5\" y=\"-260.8\" font-family=\"Helvetica,sans-Serif\" font-size=\"14.00\" fill=\"#000000\">samples = 1</text>\n",
       "<text text-anchor=\"start\" x=\"1001\" y=\"-245.8\" font-family=\"Helvetica,sans-Serif\" font-size=\"14.00\" fill=\"#000000\">value = [0, 1]</text>\n",
       "<text text-anchor=\"start\" x=\"1017\" y=\"-230.8\" font-family=\"Helvetica,sans-Serif\" font-size=\"14.00\" fill=\"#000000\">class = o</text>\n",
       "</g>\n",
       "<!-- 37&#45;&gt;39 -->\n",
       "<g id=\"edge39\" class=\"edge\">\n",
       "<title>37&#45;&gt;39</title>\n",
       "<path fill=\"none\" stroke=\"#000000\" d=\"M1050,-331.7677C1050,-322.0161 1050,-311.4937 1050,-301.509\"/>\n",
       "<polygon fill=\"#000000\" stroke=\"#000000\" points=\"1053.5001,-301.3535 1050,-291.3535 1046.5001,-301.3536 1053.5001,-301.3535\"/>\n",
       "</g>\n",
       "<!-- 41 -->\n",
       "<g id=\"node42\" class=\"node\">\n",
       "<title>41</title>\n",
       "<path fill=\"#e58139\" fill-opacity=\"0.039216\" stroke=\"#000000\" d=\"M1354,-524C1354,-524 1246,-524 1246,-524 1240,-524 1234,-518 1234,-512 1234,-512 1234,-458 1234,-458 1234,-452 1240,-446 1246,-446 1246,-446 1354,-446 1354,-446 1360,-446 1366,-452 1366,-458 1366,-458 1366,-512 1366,-512 1366,-518 1360,-524 1354,-524\"/>\n",
       "<text text-anchor=\"start\" x=\"1260\" y=\"-509.8\" font-family=\"Helvetica,sans-Serif\" font-size=\"14.00\" fill=\"#000000\">X</text>\n",
       "<text text-anchor=\"start\" x=\"1270\" y=\"-509.8\" font-family=\"Helvetica,sans-Serif\" baseline-shift=\"sub\" font-size=\"14.00\" fill=\"#000000\">5</text>\n",
       "<text text-anchor=\"start\" x=\"1278\" y=\"-509.8\" font-family=\"Helvetica,sans-Serif\" font-size=\"14.00\" fill=\"#000000\"> ≤ 0.313</text>\n",
       "<text text-anchor=\"start\" x=\"1250\" y=\"-495.8\" font-family=\"Helvetica,sans-Serif\" font-size=\"14.00\" fill=\"#000000\">entropy = 1.0</text>\n",
       "<text text-anchor=\"start\" x=\"1250\" y=\"-481.8\" font-family=\"Helvetica,sans-Serif\" font-size=\"14.00\" fill=\"#000000\">samples = 96</text>\n",
       "<text text-anchor=\"start\" x=\"1242\" y=\"-467.8\" font-family=\"Helvetica,sans-Serif\" font-size=\"14.00\" fill=\"#000000\">value = [49, 47]</text>\n",
       "<text text-anchor=\"start\" x=\"1269.5\" y=\"-453.8\" font-family=\"Helvetica,sans-Serif\" font-size=\"14.00\" fill=\"#000000\">class = l</text>\n",
       "</g>\n",
       "<!-- 40&#45;&gt;41 -->\n",
       "<g id=\"edge41\" class=\"edge\">\n",
       "<title>40&#45;&gt;41</title>\n",
       "<path fill=\"none\" stroke=\"#000000\" d=\"M1300,-559.7677C1300,-551.6172 1300,-542.9283 1300,-534.4649\"/>\n",
       "<polygon fill=\"#000000\" stroke=\"#000000\" points=\"1303.5001,-534.3046 1300,-524.3046 1296.5001,-534.3047 1303.5001,-534.3046\"/>\n",
       "</g>\n",
       "<!-- 56 -->\n",
       "<g id=\"node57\" class=\"node\">\n",
       "<title>56</title>\n",
       "<path fill=\"#e58139\" fill-opacity=\"0.396078\" stroke=\"#000000\" d=\"M2038,-524C2038,-524 1928,-524 1928,-524 1922,-524 1916,-518 1916,-512 1916,-512 1916,-458 1916,-458 1916,-452 1922,-446 1928,-446 1928,-446 2038,-446 2038,-446 2044,-446 2050,-452 2050,-458 2050,-458 2050,-512 2050,-512 2050,-518 2044,-524 2038,-524\"/>\n",
       "<text text-anchor=\"start\" x=\"1947.5\" y=\"-509.8\" font-family=\"Helvetica,sans-Serif\" font-size=\"14.00\" fill=\"#000000\">X</text>\n",
       "<text text-anchor=\"start\" x=\"1957.5\" y=\"-509.8\" font-family=\"Helvetica,sans-Serif\" baseline-shift=\"sub\" font-size=\"14.00\" fill=\"#000000\">2</text>\n",
       "<text text-anchor=\"start\" x=\"1965.5\" y=\"-509.8\" font-family=\"Helvetica,sans-Serif\" font-size=\"14.00\" fill=\"#000000\"> ≤ 0.59</text>\n",
       "<text text-anchor=\"start\" x=\"1924\" y=\"-495.8\" font-family=\"Helvetica,sans-Serif\" font-size=\"14.00\" fill=\"#000000\">entropy = 0.956</text>\n",
       "<text text-anchor=\"start\" x=\"1933\" y=\"-481.8\" font-family=\"Helvetica,sans-Serif\" font-size=\"14.00\" fill=\"#000000\">samples = 77</text>\n",
       "<text text-anchor=\"start\" x=\"1925\" y=\"-467.8\" font-family=\"Helvetica,sans-Serif\" font-size=\"14.00\" fill=\"#000000\">value = [48, 29]</text>\n",
       "<text text-anchor=\"start\" x=\"1952.5\" y=\"-453.8\" font-family=\"Helvetica,sans-Serif\" font-size=\"14.00\" fill=\"#000000\">class = l</text>\n",
       "</g>\n",
       "<!-- 40&#45;&gt;56 -->\n",
       "<g id=\"edge56\" class=\"edge\">\n",
       "<title>40&#45;&gt;56</title>\n",
       "<path fill=\"none\" stroke=\"#000000\" d=\"M1367.0449,-587.8095C1494.3883,-566.5545 1770.5597,-520.4586 1905.561,-497.9254\"/>\n",
       "<polygon fill=\"#000000\" stroke=\"#000000\" points=\"1906.5323,-501.3118 1915.8196,-496.2131 1905.3798,-494.4073 1906.5323,-501.3118\"/>\n",
       "</g>\n",
       "<!-- 42 -->\n",
       "<g id=\"node43\" class=\"node\">\n",
       "<title>42</title>\n",
       "<path fill=\"#399de5\" stroke=\"#000000\" d=\"M1275,-405C1275,-405 1183,-405 1183,-405 1177,-405 1171,-399 1171,-393 1171,-393 1171,-349 1171,-349 1171,-343 1177,-337 1183,-337 1183,-337 1275,-337 1275,-337 1281,-337 1287,-343 1287,-349 1287,-349 1287,-393 1287,-393 1287,-399 1281,-405 1275,-405\"/>\n",
       "<text text-anchor=\"start\" x=\"1179\" y=\"-389.8\" font-family=\"Helvetica,sans-Serif\" font-size=\"14.00\" fill=\"#000000\">entropy = 0.0</text>\n",
       "<text text-anchor=\"start\" x=\"1183.5\" y=\"-374.8\" font-family=\"Helvetica,sans-Serif\" font-size=\"14.00\" fill=\"#000000\">samples = 2</text>\n",
       "<text text-anchor=\"start\" x=\"1180\" y=\"-359.8\" font-family=\"Helvetica,sans-Serif\" font-size=\"14.00\" fill=\"#000000\">value = [0, 2]</text>\n",
       "<text text-anchor=\"start\" x=\"1196\" y=\"-344.8\" font-family=\"Helvetica,sans-Serif\" font-size=\"14.00\" fill=\"#000000\">class = o</text>\n",
       "</g>\n",
       "<!-- 41&#45;&gt;42 -->\n",
       "<g id=\"edge42\" class=\"edge\">\n",
       "<title>41&#45;&gt;42</title>\n",
       "<path fill=\"none\" stroke=\"#000000\" d=\"M1275.5658,-445.7677C1269.1728,-435.5029 1262.2479,-424.3839 1255.7416,-413.9372\"/>\n",
       "<polygon fill=\"#000000\" stroke=\"#000000\" points=\"1258.6532,-411.9915 1250.3956,-405.3535 1252.7113,-415.6922 1258.6532,-411.9915\"/>\n",
       "</g>\n",
       "<!-- 43 -->\n",
       "<g id=\"node44\" class=\"node\">\n",
       "<title>43</title>\n",
       "<path fill=\"#e58139\" fill-opacity=\"0.082353\" stroke=\"#000000\" d=\"M1427,-410C1427,-410 1317,-410 1317,-410 1311,-410 1305,-404 1305,-398 1305,-398 1305,-344 1305,-344 1305,-338 1311,-332 1317,-332 1317,-332 1427,-332 1427,-332 1433,-332 1439,-338 1439,-344 1439,-344 1439,-398 1439,-398 1439,-404 1433,-410 1427,-410\"/>\n",
       "<text text-anchor=\"start\" x=\"1329.5\" y=\"-395.8\" font-family=\"Helvetica,sans-Serif\" font-size=\"14.00\" fill=\"#000000\">X</text>\n",
       "<text text-anchor=\"start\" x=\"1339.5\" y=\"-395.8\" font-family=\"Helvetica,sans-Serif\" baseline-shift=\"sub\" font-size=\"14.00\" fill=\"#000000\">2</text>\n",
       "<text text-anchor=\"start\" x=\"1347.5\" y=\"-395.8\" font-family=\"Helvetica,sans-Serif\" font-size=\"14.00\" fill=\"#000000\"> ≤ &#45;1.399</text>\n",
       "<text text-anchor=\"start\" x=\"1313\" y=\"-381.8\" font-family=\"Helvetica,sans-Serif\" font-size=\"14.00\" fill=\"#000000\">entropy = 0.999</text>\n",
       "<text text-anchor=\"start\" x=\"1322\" y=\"-367.8\" font-family=\"Helvetica,sans-Serif\" font-size=\"14.00\" fill=\"#000000\">samples = 94</text>\n",
       "<text text-anchor=\"start\" x=\"1314\" y=\"-353.8\" font-family=\"Helvetica,sans-Serif\" font-size=\"14.00\" fill=\"#000000\">value = [49, 45]</text>\n",
       "<text text-anchor=\"start\" x=\"1341.5\" y=\"-339.8\" font-family=\"Helvetica,sans-Serif\" font-size=\"14.00\" fill=\"#000000\">class = l</text>\n",
       "</g>\n",
       "<!-- 41&#45;&gt;43 -->\n",
       "<g id=\"edge43\" class=\"edge\">\n",
       "<title>41&#45;&gt;43</title>\n",
       "<path fill=\"none\" stroke=\"#000000\" d=\"M1324.7783,-445.7677C1330.2654,-437.0798 1336.1389,-427.7801 1341.8143,-418.794\"/>\n",
       "<polygon fill=\"#000000\" stroke=\"#000000\" points=\"1344.7953,-420.6285 1347.176,-410.3046 1338.8768,-416.8906 1344.7953,-420.6285\"/>\n",
       "</g>\n",
       "<!-- 44 -->\n",
       "<g id=\"node45\" class=\"node\">\n",
       "<title>44</title>\n",
       "<path fill=\"#e58139\" fill-opacity=\"0.666667\" stroke=\"#000000\" d=\"M1248,-296C1248,-296 1138,-296 1138,-296 1132,-296 1126,-290 1126,-284 1126,-284 1126,-230 1126,-230 1126,-224 1132,-218 1138,-218 1138,-218 1248,-218 1248,-218 1254,-218 1260,-224 1260,-230 1260,-230 1260,-284 1260,-284 1260,-290 1254,-296 1248,-296\"/>\n",
       "<text text-anchor=\"start\" x=\"1153\" y=\"-281.8\" font-family=\"Helvetica,sans-Serif\" font-size=\"14.00\" fill=\"#000000\">X</text>\n",
       "<text text-anchor=\"start\" x=\"1163\" y=\"-281.8\" font-family=\"Helvetica,sans-Serif\" baseline-shift=\"sub\" font-size=\"14.00\" fill=\"#000000\">5</text>\n",
       "<text text-anchor=\"start\" x=\"1171\" y=\"-281.8\" font-family=\"Helvetica,sans-Serif\" font-size=\"14.00\" fill=\"#000000\"> ≤ 0.696</text>\n",
       "<text text-anchor=\"start\" x=\"1134\" y=\"-267.8\" font-family=\"Helvetica,sans-Serif\" font-size=\"14.00\" fill=\"#000000\">entropy = 0.811</text>\n",
       "<text text-anchor=\"start\" x=\"1147.5\" y=\"-253.8\" font-family=\"Helvetica,sans-Serif\" font-size=\"14.00\" fill=\"#000000\">samples = 8</text>\n",
       "<text text-anchor=\"start\" x=\"1144\" y=\"-239.8\" font-family=\"Helvetica,sans-Serif\" font-size=\"14.00\" fill=\"#000000\">value = [6, 2]</text>\n",
       "<text text-anchor=\"start\" x=\"1162.5\" y=\"-225.8\" font-family=\"Helvetica,sans-Serif\" font-size=\"14.00\" fill=\"#000000\">class = l</text>\n",
       "</g>\n",
       "<!-- 43&#45;&gt;44 -->\n",
       "<g id=\"edge44\" class=\"edge\">\n",
       "<title>43&#45;&gt;44</title>\n",
       "<path fill=\"none\" stroke=\"#000000\" d=\"M1310.6488,-331.9272C1295.2783,-322.1381 1278.6746,-311.5637 1262.9218,-301.5312\"/>\n",
       "<polygon fill=\"#000000\" stroke=\"#000000\" points=\"1264.5859,-298.4415 1254.271,-296.0218 1260.8256,-304.3458 1264.5859,-298.4415\"/>\n",
       "</g>\n",
       "<!-- 49 -->\n",
       "<g id=\"node50\" class=\"node\">\n",
       "<title>49</title>\n",
       "<path fill=\"transparent\" stroke=\"#000000\" d=\"M1461,-296C1461,-296 1353,-296 1353,-296 1347,-296 1341,-290 1341,-284 1341,-284 1341,-230 1341,-230 1341,-224 1347,-218 1353,-218 1353,-218 1461,-218 1461,-218 1467,-218 1473,-224 1473,-230 1473,-230 1473,-284 1473,-284 1473,-290 1467,-296 1461,-296\"/>\n",
       "<text text-anchor=\"start\" x=\"1364.5\" y=\"-281.8\" font-family=\"Helvetica,sans-Serif\" font-size=\"14.00\" fill=\"#000000\">X</text>\n",
       "<text text-anchor=\"start\" x=\"1374.5\" y=\"-281.8\" font-family=\"Helvetica,sans-Serif\" baseline-shift=\"sub\" font-size=\"14.00\" fill=\"#000000\">2</text>\n",
       "<text text-anchor=\"start\" x=\"1382.5\" y=\"-281.8\" font-family=\"Helvetica,sans-Serif\" font-size=\"14.00\" fill=\"#000000\"> ≤ &#45;0.736</text>\n",
       "<text text-anchor=\"start\" x=\"1357\" y=\"-267.8\" font-family=\"Helvetica,sans-Serif\" font-size=\"14.00\" fill=\"#000000\">entropy = 1.0</text>\n",
       "<text text-anchor=\"start\" x=\"1357\" y=\"-253.8\" font-family=\"Helvetica,sans-Serif\" font-size=\"14.00\" fill=\"#000000\">samples = 86</text>\n",
       "<text text-anchor=\"start\" x=\"1349\" y=\"-239.8\" font-family=\"Helvetica,sans-Serif\" font-size=\"14.00\" fill=\"#000000\">value = [43, 43]</text>\n",
       "<text text-anchor=\"start\" x=\"1376.5\" y=\"-225.8\" font-family=\"Helvetica,sans-Serif\" font-size=\"14.00\" fill=\"#000000\">class = l</text>\n",
       "</g>\n",
       "<!-- 43&#45;&gt;49 -->\n",
       "<g id=\"edge49\" class=\"edge\">\n",
       "<title>43&#45;&gt;49</title>\n",
       "<path fill=\"none\" stroke=\"#000000\" d=\"M1384.045,-331.7677C1386.6023,-323.4381 1389.3323,-314.5461 1391.9846,-305.9072\"/>\n",
       "<polygon fill=\"#000000\" stroke=\"#000000\" points=\"1395.3436,-306.8915 1394.9328,-296.3046 1388.6519,-304.837 1395.3436,-306.8915\"/>\n",
       "</g>\n",
       "<!-- 45 -->\n",
       "<g id=\"node46\" class=\"node\">\n",
       "<title>45</title>\n",
       "<path fill=\"#399de5\" stroke=\"#000000\" d=\"M1096,-177C1096,-177 1004,-177 1004,-177 998,-177 992,-171 992,-165 992,-165 992,-121 992,-121 992,-115 998,-109 1004,-109 1004,-109 1096,-109 1096,-109 1102,-109 1108,-115 1108,-121 1108,-121 1108,-165 1108,-165 1108,-171 1102,-177 1096,-177\"/>\n",
       "<text text-anchor=\"start\" x=\"1000\" y=\"-161.8\" font-family=\"Helvetica,sans-Serif\" font-size=\"14.00\" fill=\"#000000\">entropy = 0.0</text>\n",
       "<text text-anchor=\"start\" x=\"1004.5\" y=\"-146.8\" font-family=\"Helvetica,sans-Serif\" font-size=\"14.00\" fill=\"#000000\">samples = 1</text>\n",
       "<text text-anchor=\"start\" x=\"1001\" y=\"-131.8\" font-family=\"Helvetica,sans-Serif\" font-size=\"14.00\" fill=\"#000000\">value = [0, 1]</text>\n",
       "<text text-anchor=\"start\" x=\"1017\" y=\"-116.8\" font-family=\"Helvetica,sans-Serif\" font-size=\"14.00\" fill=\"#000000\">class = o</text>\n",
       "</g>\n",
       "<!-- 44&#45;&gt;45 -->\n",
       "<g id=\"edge45\" class=\"edge\">\n",
       "<title>44&#45;&gt;45</title>\n",
       "<path fill=\"none\" stroke=\"#000000\" d=\"M1143.7875,-217.7677C1130.0102,-206.7843 1115.0062,-194.8231 1101.121,-183.7538\"/>\n",
       "<polygon fill=\"#000000\" stroke=\"#000000\" points=\"1103.0937,-180.8504 1093.0926,-177.3535 1098.7302,-186.3239 1103.0937,-180.8504\"/>\n",
       "</g>\n",
       "<!-- 46 -->\n",
       "<g id=\"node47\" class=\"node\">\n",
       "<title>46</title>\n",
       "<path fill=\"#e58139\" fill-opacity=\"0.831373\" stroke=\"#000000\" d=\"M1248,-182C1248,-182 1138,-182 1138,-182 1132,-182 1126,-176 1126,-170 1126,-170 1126,-116 1126,-116 1126,-110 1132,-104 1138,-104 1138,-104 1248,-104 1248,-104 1254,-104 1260,-110 1260,-116 1260,-116 1260,-170 1260,-170 1260,-176 1254,-182 1248,-182\"/>\n",
       "<text text-anchor=\"start\" x=\"1150.5\" y=\"-167.8\" font-family=\"Helvetica,sans-Serif\" font-size=\"14.00\" fill=\"#000000\">X</text>\n",
       "<text text-anchor=\"start\" x=\"1160.5\" y=\"-167.8\" font-family=\"Helvetica,sans-Serif\" baseline-shift=\"sub\" font-size=\"14.00\" fill=\"#000000\">2</text>\n",
       "<text text-anchor=\"start\" x=\"1168.5\" y=\"-167.8\" font-family=\"Helvetica,sans-Serif\" font-size=\"14.00\" fill=\"#000000\"> ≤ &#45;1.565</text>\n",
       "<text text-anchor=\"start\" x=\"1134\" y=\"-153.8\" font-family=\"Helvetica,sans-Serif\" font-size=\"14.00\" fill=\"#000000\">entropy = 0.592</text>\n",
       "<text text-anchor=\"start\" x=\"1147.5\" y=\"-139.8\" font-family=\"Helvetica,sans-Serif\" font-size=\"14.00\" fill=\"#000000\">samples = 7</text>\n",
       "<text text-anchor=\"start\" x=\"1144\" y=\"-125.8\" font-family=\"Helvetica,sans-Serif\" font-size=\"14.00\" fill=\"#000000\">value = [6, 1]</text>\n",
       "<text text-anchor=\"start\" x=\"1162.5\" y=\"-111.8\" font-family=\"Helvetica,sans-Serif\" font-size=\"14.00\" fill=\"#000000\">class = l</text>\n",
       "</g>\n",
       "<!-- 44&#45;&gt;46 -->\n",
       "<g id=\"edge46\" class=\"edge\">\n",
       "<title>44&#45;&gt;46</title>\n",
       "<path fill=\"none\" stroke=\"#000000\" d=\"M1193,-217.7677C1193,-209.6172 1193,-200.9283 1193,-192.4649\"/>\n",
       "<polygon fill=\"#000000\" stroke=\"#000000\" points=\"1196.5001,-192.3046 1193,-182.3046 1189.5001,-192.3047 1196.5001,-192.3046\"/>\n",
       "</g>\n",
       "<!-- 47 -->\n",
       "<g id=\"node48\" class=\"node\">\n",
       "<title>47</title>\n",
       "<path fill=\"#e58139\" fill-opacity=\"0.666667\" stroke=\"#000000\" d=\"M1105,-68C1105,-68 995,-68 995,-68 989,-68 983,-62 983,-56 983,-56 983,-12 983,-12 983,-6 989,0 995,0 995,0 1105,0 1105,0 1111,0 1117,-6 1117,-12 1117,-12 1117,-56 1117,-56 1117,-62 1111,-68 1105,-68\"/>\n",
       "<text text-anchor=\"start\" x=\"991\" y=\"-52.8\" font-family=\"Helvetica,sans-Serif\" font-size=\"14.00\" fill=\"#000000\">entropy = 0.811</text>\n",
       "<text text-anchor=\"start\" x=\"1004.5\" y=\"-37.8\" font-family=\"Helvetica,sans-Serif\" font-size=\"14.00\" fill=\"#000000\">samples = 4</text>\n",
       "<text text-anchor=\"start\" x=\"1001\" y=\"-22.8\" font-family=\"Helvetica,sans-Serif\" font-size=\"14.00\" fill=\"#000000\">value = [3, 1]</text>\n",
       "<text text-anchor=\"start\" x=\"1019.5\" y=\"-7.8\" font-family=\"Helvetica,sans-Serif\" font-size=\"14.00\" fill=\"#000000\">class = l</text>\n",
       "</g>\n",
       "<!-- 46&#45;&gt;47 -->\n",
       "<g id=\"edge47\" class=\"edge\">\n",
       "<title>46&#45;&gt;47</title>\n",
       "<path fill=\"none\" stroke=\"#000000\" d=\"M1141.7776,-103.9564C1129.1554,-94.3352 1115.614,-84.0135 1102.9134,-74.3326\"/>\n",
       "<polygon fill=\"#000000\" stroke=\"#000000\" points=\"1104.7816,-71.3558 1094.7068,-68.0772 1100.5381,-76.9229 1104.7816,-71.3558\"/>\n",
       "</g>\n",
       "<!-- 48 -->\n",
       "<g id=\"node49\" class=\"node\">\n",
       "<title>48</title>\n",
       "<path fill=\"#e58139\" stroke=\"#000000\" d=\"M1239,-68C1239,-68 1147,-68 1147,-68 1141,-68 1135,-62 1135,-56 1135,-56 1135,-12 1135,-12 1135,-6 1141,0 1147,0 1147,0 1239,0 1239,0 1245,0 1251,-6 1251,-12 1251,-12 1251,-56 1251,-56 1251,-62 1245,-68 1239,-68\"/>\n",
       "<text text-anchor=\"start\" x=\"1143\" y=\"-52.8\" font-family=\"Helvetica,sans-Serif\" font-size=\"14.00\" fill=\"#000000\">entropy = 0.0</text>\n",
       "<text text-anchor=\"start\" x=\"1147.5\" y=\"-37.8\" font-family=\"Helvetica,sans-Serif\" font-size=\"14.00\" fill=\"#000000\">samples = 3</text>\n",
       "<text text-anchor=\"start\" x=\"1144\" y=\"-22.8\" font-family=\"Helvetica,sans-Serif\" font-size=\"14.00\" fill=\"#000000\">value = [3, 0]</text>\n",
       "<text text-anchor=\"start\" x=\"1162.5\" y=\"-7.8\" font-family=\"Helvetica,sans-Serif\" font-size=\"14.00\" fill=\"#000000\">class = l</text>\n",
       "</g>\n",
       "<!-- 46&#45;&gt;48 -->\n",
       "<g id=\"edge48\" class=\"edge\">\n",
       "<title>46&#45;&gt;48</title>\n",
       "<path fill=\"none\" stroke=\"#000000\" d=\"M1193,-103.9564C1193,-95.618 1193,-86.7535 1193,-78.2359\"/>\n",
       "<polygon fill=\"#000000\" stroke=\"#000000\" points=\"1196.5001,-78.0772 1193,-68.0772 1189.5001,-78.0773 1196.5001,-78.0772\"/>\n",
       "</g>\n",
       "<!-- 50 -->\n",
       "<g id=\"node51\" class=\"node\">\n",
       "<title>50</title>\n",
       "<path fill=\"#399de5\" fill-opacity=\"0.454902\" stroke=\"#000000\" d=\"M1462,-182C1462,-182 1352,-182 1352,-182 1346,-182 1340,-176 1340,-170 1340,-170 1340,-116 1340,-116 1340,-110 1346,-104 1352,-104 1352,-104 1462,-104 1462,-104 1468,-104 1474,-110 1474,-116 1474,-116 1474,-170 1474,-170 1474,-176 1468,-182 1462,-182\"/>\n",
       "<text text-anchor=\"start\" x=\"1364.5\" y=\"-167.8\" font-family=\"Helvetica,sans-Serif\" font-size=\"14.00\" fill=\"#000000\">X</text>\n",
       "<text text-anchor=\"start\" x=\"1374.5\" y=\"-167.8\" font-family=\"Helvetica,sans-Serif\" baseline-shift=\"sub\" font-size=\"14.00\" fill=\"#000000\">0</text>\n",
       "<text text-anchor=\"start\" x=\"1382.5\" y=\"-167.8\" font-family=\"Helvetica,sans-Serif\" font-size=\"14.00\" fill=\"#000000\"> ≤ &#45;0.399</text>\n",
       "<text text-anchor=\"start\" x=\"1348\" y=\"-153.8\" font-family=\"Helvetica,sans-Serif\" font-size=\"14.00\" fill=\"#000000\">entropy = 0.937</text>\n",
       "<text text-anchor=\"start\" x=\"1357\" y=\"-139.8\" font-family=\"Helvetica,sans-Serif\" font-size=\"14.00\" fill=\"#000000\">samples = 17</text>\n",
       "<text text-anchor=\"start\" x=\"1353.5\" y=\"-125.8\" font-family=\"Helvetica,sans-Serif\" font-size=\"14.00\" fill=\"#000000\">value = [6, 11]</text>\n",
       "<text text-anchor=\"start\" x=\"1374\" y=\"-111.8\" font-family=\"Helvetica,sans-Serif\" font-size=\"14.00\" fill=\"#000000\">class = o</text>\n",
       "</g>\n",
       "<!-- 49&#45;&gt;50 -->\n",
       "<g id=\"edge50\" class=\"edge\">\n",
       "<title>49&#45;&gt;50</title>\n",
       "<path fill=\"none\" stroke=\"#000000\" d=\"M1407,-217.7677C1407,-209.6172 1407,-200.9283 1407,-192.4649\"/>\n",
       "<polygon fill=\"#000000\" stroke=\"#000000\" points=\"1410.5001,-192.3046 1407,-182.3046 1403.5001,-192.3047 1410.5001,-192.3046\"/>\n",
       "</g>\n",
       "<!-- 53 -->\n",
       "<g id=\"node54\" class=\"node\">\n",
       "<title>53</title>\n",
       "<path fill=\"#e58139\" fill-opacity=\"0.133333\" stroke=\"#000000\" d=\"M1677,-182C1677,-182 1567,-182 1567,-182 1561,-182 1555,-176 1555,-170 1555,-170 1555,-116 1555,-116 1555,-110 1561,-104 1567,-104 1567,-104 1677,-104 1677,-104 1683,-104 1689,-110 1689,-116 1689,-116 1689,-170 1689,-170 1689,-176 1683,-182 1677,-182\"/>\n",
       "<text text-anchor=\"start\" x=\"1586.5\" y=\"-167.8\" font-family=\"Helvetica,sans-Serif\" font-size=\"14.00\" fill=\"#000000\">X</text>\n",
       "<text text-anchor=\"start\" x=\"1596.5\" y=\"-167.8\" font-family=\"Helvetica,sans-Serif\" baseline-shift=\"sub\" font-size=\"14.00\" fill=\"#000000\">2</text>\n",
       "<text text-anchor=\"start\" x=\"1604.5\" y=\"-167.8\" font-family=\"Helvetica,sans-Serif\" font-size=\"14.00\" fill=\"#000000\"> ≤ 0.59</text>\n",
       "<text text-anchor=\"start\" x=\"1563\" y=\"-153.8\" font-family=\"Helvetica,sans-Serif\" font-size=\"14.00\" fill=\"#000000\">entropy = 0.996</text>\n",
       "<text text-anchor=\"start\" x=\"1572\" y=\"-139.8\" font-family=\"Helvetica,sans-Serif\" font-size=\"14.00\" fill=\"#000000\">samples = 69</text>\n",
       "<text text-anchor=\"start\" x=\"1564\" y=\"-125.8\" font-family=\"Helvetica,sans-Serif\" font-size=\"14.00\" fill=\"#000000\">value = [37, 32]</text>\n",
       "<text text-anchor=\"start\" x=\"1591.5\" y=\"-111.8\" font-family=\"Helvetica,sans-Serif\" font-size=\"14.00\" fill=\"#000000\">class = l</text>\n",
       "</g>\n",
       "<!-- 49&#45;&gt;53 -->\n",
       "<g id=\"edge53\" class=\"edge\">\n",
       "<title>49&#45;&gt;53</title>\n",
       "<path fill=\"none\" stroke=\"#000000\" d=\"M1473.2614,-221.866C1496.2367,-209.6838 1522.1741,-195.9309 1545.8801,-183.3613\"/>\n",
       "<polygon fill=\"#000000\" stroke=\"#000000\" points=\"1547.6503,-186.3843 1554.8455,-178.6075 1544.371,-180.1999 1547.6503,-186.3843\"/>\n",
       "</g>\n",
       "<!-- 51 -->\n",
       "<g id=\"node52\" class=\"node\">\n",
       "<title>51</title>\n",
       "<path fill=\"#399de5\" stroke=\"#000000\" d=\"M1373,-68C1373,-68 1281,-68 1281,-68 1275,-68 1269,-62 1269,-56 1269,-56 1269,-12 1269,-12 1269,-6 1275,0 1281,0 1281,0 1373,0 1373,0 1379,0 1385,-6 1385,-12 1385,-12 1385,-56 1385,-56 1385,-62 1379,-68 1373,-68\"/>\n",
       "<text text-anchor=\"start\" x=\"1277\" y=\"-52.8\" font-family=\"Helvetica,sans-Serif\" font-size=\"14.00\" fill=\"#000000\">entropy = 0.0</text>\n",
       "<text text-anchor=\"start\" x=\"1281.5\" y=\"-37.8\" font-family=\"Helvetica,sans-Serif\" font-size=\"14.00\" fill=\"#000000\">samples = 1</text>\n",
       "<text text-anchor=\"start\" x=\"1278\" y=\"-22.8\" font-family=\"Helvetica,sans-Serif\" font-size=\"14.00\" fill=\"#000000\">value = [0, 1]</text>\n",
       "<text text-anchor=\"start\" x=\"1294\" y=\"-7.8\" font-family=\"Helvetica,sans-Serif\" font-size=\"14.00\" fill=\"#000000\">class = o</text>\n",
       "</g>\n",
       "<!-- 50&#45;&gt;51 -->\n",
       "<g id=\"edge51\" class=\"edge\">\n",
       "<title>50&#45;&gt;51</title>\n",
       "<path fill=\"none\" stroke=\"#000000\" d=\"M1378.3441,-103.9564C1371.7535,-94.9766 1364.7149,-85.3866 1358.0289,-76.2769\"/>\n",
       "<polygon fill=\"#000000\" stroke=\"#000000\" points=\"1360.7493,-74.068 1352.0108,-68.0772 1355.1061,-78.2099 1360.7493,-74.068\"/>\n",
       "</g>\n",
       "<!-- 52 -->\n",
       "<g id=\"node53\" class=\"node\">\n",
       "<title>52</title>\n",
       "<path fill=\"#399de5\" fill-opacity=\"0.400000\" stroke=\"#000000\" d=\"M1525,-68C1525,-68 1415,-68 1415,-68 1409,-68 1403,-62 1403,-56 1403,-56 1403,-12 1403,-12 1403,-6 1409,0 1415,0 1415,0 1525,0 1525,0 1531,0 1537,-6 1537,-12 1537,-12 1537,-56 1537,-56 1537,-62 1531,-68 1525,-68\"/>\n",
       "<text text-anchor=\"start\" x=\"1411\" y=\"-52.8\" font-family=\"Helvetica,sans-Serif\" font-size=\"14.00\" fill=\"#000000\">entropy = 0.954</text>\n",
       "<text text-anchor=\"start\" x=\"1420\" y=\"-37.8\" font-family=\"Helvetica,sans-Serif\" font-size=\"14.00\" fill=\"#000000\">samples = 16</text>\n",
       "<text text-anchor=\"start\" x=\"1416.5\" y=\"-22.8\" font-family=\"Helvetica,sans-Serif\" font-size=\"14.00\" fill=\"#000000\">value = [6, 10]</text>\n",
       "<text text-anchor=\"start\" x=\"1437\" y=\"-7.8\" font-family=\"Helvetica,sans-Serif\" font-size=\"14.00\" fill=\"#000000\">class = o</text>\n",
       "</g>\n",
       "<!-- 50&#45;&gt;52 -->\n",
       "<g id=\"edge52\" class=\"edge\">\n",
       "<title>50&#45;&gt;52</title>\n",
       "<path fill=\"none\" stroke=\"#000000\" d=\"M1429.5665,-103.9564C1434.6507,-95.1599 1440.0734,-85.7778 1445.242,-76.8352\"/>\n",
       "<polygon fill=\"#000000\" stroke=\"#000000\" points=\"1448.3301,-78.4866 1450.304,-68.0772 1442.2696,-74.9837 1448.3301,-78.4866\"/>\n",
       "</g>\n",
       "<!-- 54 -->\n",
       "<g id=\"node55\" class=\"node\">\n",
       "<title>54</title>\n",
       "<path fill=\"#e58139\" fill-opacity=\"0.305882\" stroke=\"#000000\" d=\"M1677,-68C1677,-68 1567,-68 1567,-68 1561,-68 1555,-62 1555,-56 1555,-56 1555,-12 1555,-12 1555,-6 1561,0 1567,0 1567,0 1677,0 1677,0 1683,0 1689,-6 1689,-12 1689,-12 1689,-56 1689,-56 1689,-62 1683,-68 1677,-68\"/>\n",
       "<text text-anchor=\"start\" x=\"1563\" y=\"-52.8\" font-family=\"Helvetica,sans-Serif\" font-size=\"14.00\" fill=\"#000000\">entropy = 0.977</text>\n",
       "<text text-anchor=\"start\" x=\"1572\" y=\"-37.8\" font-family=\"Helvetica,sans-Serif\" font-size=\"14.00\" fill=\"#000000\">samples = 39</text>\n",
       "<text text-anchor=\"start\" x=\"1564\" y=\"-22.8\" font-family=\"Helvetica,sans-Serif\" font-size=\"14.00\" fill=\"#000000\">value = [23, 16]</text>\n",
       "<text text-anchor=\"start\" x=\"1591.5\" y=\"-7.8\" font-family=\"Helvetica,sans-Serif\" font-size=\"14.00\" fill=\"#000000\">class = l</text>\n",
       "</g>\n",
       "<!-- 53&#45;&gt;54 -->\n",
       "<g id=\"edge54\" class=\"edge\">\n",
       "<title>53&#45;&gt;54</title>\n",
       "<path fill=\"none\" stroke=\"#000000\" d=\"M1622,-103.9564C1622,-95.618 1622,-86.7535 1622,-78.2359\"/>\n",
       "<polygon fill=\"#000000\" stroke=\"#000000\" points=\"1625.5001,-78.0772 1622,-68.0772 1618.5001,-78.0773 1625.5001,-78.0772\"/>\n",
       "</g>\n",
       "<!-- 55 -->\n",
       "<g id=\"node56\" class=\"node\">\n",
       "<title>55</title>\n",
       "<path fill=\"#399de5\" fill-opacity=\"0.125490\" stroke=\"#000000\" d=\"M1829,-68C1829,-68 1719,-68 1719,-68 1713,-68 1707,-62 1707,-56 1707,-56 1707,-12 1707,-12 1707,-6 1713,0 1719,0 1719,0 1829,0 1829,0 1835,0 1841,-6 1841,-12 1841,-12 1841,-56 1841,-56 1841,-62 1835,-68 1829,-68\"/>\n",
       "<text text-anchor=\"start\" x=\"1715\" y=\"-52.8\" font-family=\"Helvetica,sans-Serif\" font-size=\"14.00\" fill=\"#000000\">entropy = 0.997</text>\n",
       "<text text-anchor=\"start\" x=\"1724\" y=\"-37.8\" font-family=\"Helvetica,sans-Serif\" font-size=\"14.00\" fill=\"#000000\">samples = 30</text>\n",
       "<text text-anchor=\"start\" x=\"1716\" y=\"-22.8\" font-family=\"Helvetica,sans-Serif\" font-size=\"14.00\" fill=\"#000000\">value = [14, 16]</text>\n",
       "<text text-anchor=\"start\" x=\"1741\" y=\"-7.8\" font-family=\"Helvetica,sans-Serif\" font-size=\"14.00\" fill=\"#000000\">class = o</text>\n",
       "</g>\n",
       "<!-- 53&#45;&gt;55 -->\n",
       "<g id=\"edge55\" class=\"edge\">\n",
       "<title>53&#45;&gt;55</title>\n",
       "<path fill=\"none\" stroke=\"#000000\" d=\"M1676.4462,-103.9564C1689.9906,-94.2436 1704.5307,-83.8168 1718.1418,-74.0562\"/>\n",
       "<polygon fill=\"#000000\" stroke=\"#000000\" points=\"1720.3926,-76.7491 1726.4795,-68.0772 1716.3133,-71.0605 1720.3926,-76.7491\"/>\n",
       "</g>\n",
       "<!-- 57 -->\n",
       "<g id=\"node58\" class=\"node\">\n",
       "<title>57</title>\n",
       "<path fill=\"#e58139\" fill-opacity=\"0.290196\" stroke=\"#000000\" d=\"M2038,-410C2038,-410 1928,-410 1928,-410 1922,-410 1916,-404 1916,-398 1916,-398 1916,-344 1916,-344 1916,-338 1922,-332 1928,-332 1928,-332 2038,-332 2038,-332 2044,-332 2050,-338 2050,-344 2050,-344 2050,-398 2050,-398 2050,-404 2044,-410 2038,-410\"/>\n",
       "<text text-anchor=\"start\" x=\"1943\" y=\"-395.8\" font-family=\"Helvetica,sans-Serif\" font-size=\"14.00\" fill=\"#000000\">X</text>\n",
       "<text text-anchor=\"start\" x=\"1953\" y=\"-395.8\" font-family=\"Helvetica,sans-Serif\" baseline-shift=\"sub\" font-size=\"14.00\" fill=\"#000000\">0</text>\n",
       "<text text-anchor=\"start\" x=\"1961\" y=\"-395.8\" font-family=\"Helvetica,sans-Serif\" font-size=\"14.00\" fill=\"#000000\"> ≤ 0.058</text>\n",
       "<text text-anchor=\"start\" x=\"1924\" y=\"-381.8\" font-family=\"Helvetica,sans-Serif\" font-size=\"14.00\" fill=\"#000000\">entropy = 0.979</text>\n",
       "<text text-anchor=\"start\" x=\"1933\" y=\"-367.8\" font-family=\"Helvetica,sans-Serif\" font-size=\"14.00\" fill=\"#000000\">samples = 65</text>\n",
       "<text text-anchor=\"start\" x=\"1925\" y=\"-353.8\" font-family=\"Helvetica,sans-Serif\" font-size=\"14.00\" fill=\"#000000\">value = [38, 27]</text>\n",
       "<text text-anchor=\"start\" x=\"1952.5\" y=\"-339.8\" font-family=\"Helvetica,sans-Serif\" font-size=\"14.00\" fill=\"#000000\">class = l</text>\n",
       "</g>\n",
       "<!-- 56&#45;&gt;57 -->\n",
       "<g id=\"edge57\" class=\"edge\">\n",
       "<title>56&#45;&gt;57</title>\n",
       "<path fill=\"none\" stroke=\"#000000\" d=\"M1983,-445.7677C1983,-437.6172 1983,-428.9283 1983,-420.4649\"/>\n",
       "<polygon fill=\"#000000\" stroke=\"#000000\" points=\"1986.5001,-420.3046 1983,-410.3046 1979.5001,-420.3047 1986.5001,-420.3046\"/>\n",
       "</g>\n",
       "<!-- 68 -->\n",
       "<g id=\"node69\" class=\"node\">\n",
       "<title>68</title>\n",
       "<path fill=\"#e58139\" fill-opacity=\"0.800000\" stroke=\"#000000\" d=\"M2255.5,-410C2255.5,-410 2154.5,-410 2154.5,-410 2148.5,-410 2142.5,-404 2142.5,-398 2142.5,-398 2142.5,-344 2142.5,-344 2142.5,-338 2148.5,-332 2154.5,-332 2154.5,-332 2255.5,-332 2255.5,-332 2261.5,-332 2267.5,-338 2267.5,-344 2267.5,-344 2267.5,-398 2267.5,-398 2267.5,-404 2261.5,-410 2255.5,-410\"/>\n",
       "<text text-anchor=\"start\" x=\"2165\" y=\"-395.8\" font-family=\"Helvetica,sans-Serif\" font-size=\"14.00\" fill=\"#000000\">X</text>\n",
       "<text text-anchor=\"start\" x=\"2175\" y=\"-395.8\" font-family=\"Helvetica,sans-Serif\" baseline-shift=\"sub\" font-size=\"14.00\" fill=\"#000000\">2</text>\n",
       "<text text-anchor=\"start\" x=\"2183\" y=\"-395.8\" font-family=\"Helvetica,sans-Serif\" font-size=\"14.00\" fill=\"#000000\"> ≤ 0.922</text>\n",
       "<text text-anchor=\"start\" x=\"2150.5\" y=\"-381.8\" font-family=\"Helvetica,sans-Serif\" font-size=\"14.00\" fill=\"#000000\">entropy = 0.65</text>\n",
       "<text text-anchor=\"start\" x=\"2155\" y=\"-367.8\" font-family=\"Helvetica,sans-Serif\" font-size=\"14.00\" fill=\"#000000\">samples = 12</text>\n",
       "<text text-anchor=\"start\" x=\"2151.5\" y=\"-353.8\" font-family=\"Helvetica,sans-Serif\" font-size=\"14.00\" fill=\"#000000\">value = [10, 2]</text>\n",
       "<text text-anchor=\"start\" x=\"2174.5\" y=\"-339.8\" font-family=\"Helvetica,sans-Serif\" font-size=\"14.00\" fill=\"#000000\">class = l</text>\n",
       "</g>\n",
       "<!-- 56&#45;&gt;68 -->\n",
       "<g id=\"edge68\" class=\"edge\">\n",
       "<title>56&#45;&gt;68</title>\n",
       "<path fill=\"none\" stroke=\"#000000\" d=\"M2050.2098,-450.4869C2076.4662,-437.0039 2106.6156,-421.5217 2133.2896,-407.8242\"/>\n",
       "<polygon fill=\"#000000\" stroke=\"#000000\" points=\"2134.8949,-410.9345 2142.1917,-403.2529 2131.6972,-404.7075 2134.8949,-410.9345\"/>\n",
       "</g>\n",
       "<!-- 58 -->\n",
       "<g id=\"node59\" class=\"node\">\n",
       "<title>58</title>\n",
       "<path fill=\"#e58139\" fill-opacity=\"0.635294\" stroke=\"#000000\" d=\"M1964,-296C1964,-296 1854,-296 1854,-296 1848,-296 1842,-290 1842,-284 1842,-284 1842,-230 1842,-230 1842,-224 1848,-218 1854,-218 1854,-218 1964,-218 1964,-218 1970,-218 1976,-224 1976,-230 1976,-230 1976,-284 1976,-284 1976,-290 1970,-296 1964,-296\"/>\n",
       "<text text-anchor=\"start\" x=\"1869\" y=\"-281.8\" font-family=\"Helvetica,sans-Serif\" font-size=\"14.00\" fill=\"#000000\">X</text>\n",
       "<text text-anchor=\"start\" x=\"1879\" y=\"-281.8\" font-family=\"Helvetica,sans-Serif\" baseline-shift=\"sub\" font-size=\"14.00\" fill=\"#000000\">5</text>\n",
       "<text text-anchor=\"start\" x=\"1887\" y=\"-281.8\" font-family=\"Helvetica,sans-Serif\" font-size=\"14.00\" fill=\"#000000\"> ≤ 0.313</text>\n",
       "<text text-anchor=\"start\" x=\"1850\" y=\"-267.8\" font-family=\"Helvetica,sans-Serif\" font-size=\"14.00\" fill=\"#000000\">entropy = 0.837</text>\n",
       "<text text-anchor=\"start\" x=\"1859\" y=\"-253.8\" font-family=\"Helvetica,sans-Serif\" font-size=\"14.00\" fill=\"#000000\">samples = 15</text>\n",
       "<text text-anchor=\"start\" x=\"1855.5\" y=\"-239.8\" font-family=\"Helvetica,sans-Serif\" font-size=\"14.00\" fill=\"#000000\">value = [11, 4]</text>\n",
       "<text text-anchor=\"start\" x=\"1878.5\" y=\"-225.8\" font-family=\"Helvetica,sans-Serif\" font-size=\"14.00\" fill=\"#000000\">class = l</text>\n",
       "</g>\n",
       "<!-- 57&#45;&gt;58 -->\n",
       "<g id=\"edge58\" class=\"edge\">\n",
       "<title>57&#45;&gt;58</title>\n",
       "<path fill=\"none\" stroke=\"#000000\" d=\"M1957.5334,-331.7677C1951.8939,-323.0798 1945.8573,-313.7801 1940.0241,-304.794\"/>\n",
       "<polygon fill=\"#000000\" stroke=\"#000000\" points=\"1942.894,-302.7868 1934.5135,-296.3046 1937.0226,-306.5981 1942.894,-302.7868\"/>\n",
       "</g>\n",
       "<!-- 63 -->\n",
       "<g id=\"node64\" class=\"node\">\n",
       "<title>63</title>\n",
       "<path fill=\"#e58139\" fill-opacity=\"0.149020\" stroke=\"#000000\" d=\"M2116,-296C2116,-296 2006,-296 2006,-296 2000,-296 1994,-290 1994,-284 1994,-284 1994,-230 1994,-230 1994,-224 2000,-218 2006,-218 2006,-218 2116,-218 2116,-218 2122,-218 2128,-224 2128,-230 2128,-230 2128,-284 2128,-284 2128,-290 2122,-296 2116,-296\"/>\n",
       "<text text-anchor=\"start\" x=\"2023\" y=\"-281.8\" font-family=\"Helvetica,sans-Serif\" font-size=\"14.00\" fill=\"#000000\">X</text>\n",
       "<text text-anchor=\"start\" x=\"2033\" y=\"-281.8\" font-family=\"Helvetica,sans-Serif\" baseline-shift=\"sub\" font-size=\"14.00\" fill=\"#000000\">2</text>\n",
       "<text text-anchor=\"start\" x=\"2041\" y=\"-281.8\" font-family=\"Helvetica,sans-Serif\" font-size=\"14.00\" fill=\"#000000\"> ≤ &#45;1.98</text>\n",
       "<text text-anchor=\"start\" x=\"2002\" y=\"-267.8\" font-family=\"Helvetica,sans-Serif\" font-size=\"14.00\" fill=\"#000000\">entropy = 0.995</text>\n",
       "<text text-anchor=\"start\" x=\"2011\" y=\"-253.8\" font-family=\"Helvetica,sans-Serif\" font-size=\"14.00\" fill=\"#000000\">samples = 50</text>\n",
       "<text text-anchor=\"start\" x=\"2003\" y=\"-239.8\" font-family=\"Helvetica,sans-Serif\" font-size=\"14.00\" fill=\"#000000\">value = [27, 23]</text>\n",
       "<text text-anchor=\"start\" x=\"2030.5\" y=\"-225.8\" font-family=\"Helvetica,sans-Serif\" font-size=\"14.00\" fill=\"#000000\">class = l</text>\n",
       "</g>\n",
       "<!-- 57&#45;&gt;63 -->\n",
       "<g id=\"edge63\" class=\"edge\">\n",
       "<title>57&#45;&gt;63</title>\n",
       "<path fill=\"none\" stroke=\"#000000\" d=\"M2009.8432,-331.7677C2015.7875,-323.0798 2022.1504,-313.7801 2028.2989,-304.794\"/>\n",
       "<polygon fill=\"#000000\" stroke=\"#000000\" points=\"2031.349,-306.5341 2034.1073,-296.3046 2025.5719,-302.5813 2031.349,-306.5341\"/>\n",
       "</g>\n",
       "<!-- 59 -->\n",
       "<g id=\"node60\" class=\"node\">\n",
       "<title>59</title>\n",
       "<path fill=\"#399de5\" stroke=\"#000000\" d=\"M1826,-177C1826,-177 1734,-177 1734,-177 1728,-177 1722,-171 1722,-165 1722,-165 1722,-121 1722,-121 1722,-115 1728,-109 1734,-109 1734,-109 1826,-109 1826,-109 1832,-109 1838,-115 1838,-121 1838,-121 1838,-165 1838,-165 1838,-171 1832,-177 1826,-177\"/>\n",
       "<text text-anchor=\"start\" x=\"1730\" y=\"-161.8\" font-family=\"Helvetica,sans-Serif\" font-size=\"14.00\" fill=\"#000000\">entropy = 0.0</text>\n",
       "<text text-anchor=\"start\" x=\"1734.5\" y=\"-146.8\" font-family=\"Helvetica,sans-Serif\" font-size=\"14.00\" fill=\"#000000\">samples = 1</text>\n",
       "<text text-anchor=\"start\" x=\"1731\" y=\"-131.8\" font-family=\"Helvetica,sans-Serif\" font-size=\"14.00\" fill=\"#000000\">value = [0, 1]</text>\n",
       "<text text-anchor=\"start\" x=\"1747\" y=\"-116.8\" font-family=\"Helvetica,sans-Serif\" font-size=\"14.00\" fill=\"#000000\">class = o</text>\n",
       "</g>\n",
       "<!-- 58&#45;&gt;59 -->\n",
       "<g id=\"edge59\" class=\"edge\">\n",
       "<title>58&#45;&gt;59</title>\n",
       "<path fill=\"none\" stroke=\"#000000\" d=\"M1864.6055,-217.7677C1852.2932,-206.887 1838.8948,-195.0466 1826.4676,-184.0644\"/>\n",
       "<polygon fill=\"#000000\" stroke=\"#000000\" points=\"1828.6847,-181.3529 1818.8737,-177.3535 1824.0493,-186.5982 1828.6847,-181.3529\"/>\n",
       "</g>\n",
       "<!-- 60 -->\n",
       "<g id=\"node61\" class=\"node\">\n",
       "<title>60</title>\n",
       "<path fill=\"#e58139\" fill-opacity=\"0.725490\" stroke=\"#000000\" d=\"M1969.5,-182C1969.5,-182 1868.5,-182 1868.5,-182 1862.5,-182 1856.5,-176 1856.5,-170 1856.5,-170 1856.5,-116 1856.5,-116 1856.5,-110 1862.5,-104 1868.5,-104 1868.5,-104 1969.5,-104 1969.5,-104 1975.5,-104 1981.5,-110 1981.5,-116 1981.5,-116 1981.5,-170 1981.5,-170 1981.5,-176 1975.5,-182 1969.5,-182\"/>\n",
       "<text text-anchor=\"start\" x=\"1876.5\" y=\"-167.8\" font-family=\"Helvetica,sans-Serif\" font-size=\"14.00\" fill=\"#000000\">X</text>\n",
       "<text text-anchor=\"start\" x=\"1886.5\" y=\"-167.8\" font-family=\"Helvetica,sans-Serif\" baseline-shift=\"sub\" font-size=\"14.00\" fill=\"#000000\">2</text>\n",
       "<text text-anchor=\"start\" x=\"1894.5\" y=\"-167.8\" font-family=\"Helvetica,sans-Serif\" font-size=\"14.00\" fill=\"#000000\"> ≤ &#45;1.316</text>\n",
       "<text text-anchor=\"start\" x=\"1864.5\" y=\"-153.8\" font-family=\"Helvetica,sans-Serif\" font-size=\"14.00\" fill=\"#000000\">entropy = 0.75</text>\n",
       "<text text-anchor=\"start\" x=\"1869\" y=\"-139.8\" font-family=\"Helvetica,sans-Serif\" font-size=\"14.00\" fill=\"#000000\">samples = 14</text>\n",
       "<text text-anchor=\"start\" x=\"1865.5\" y=\"-125.8\" font-family=\"Helvetica,sans-Serif\" font-size=\"14.00\" fill=\"#000000\">value = [11, 3]</text>\n",
       "<text text-anchor=\"start\" x=\"1888.5\" y=\"-111.8\" font-family=\"Helvetica,sans-Serif\" font-size=\"14.00\" fill=\"#000000\">class = l</text>\n",
       "</g>\n",
       "<!-- 58&#45;&gt;60 -->\n",
       "<g id=\"edge60\" class=\"edge\">\n",
       "<title>58&#45;&gt;60</title>\n",
       "<path fill=\"none\" stroke=\"#000000\" d=\"M1912.4414,-217.7677C1913.1564,-209.6172 1913.9186,-200.9283 1914.661,-192.4649\"/>\n",
       "<polygon fill=\"#000000\" stroke=\"#000000\" points=\"1918.1649,-192.5723 1915.5522,-182.3046 1911.1917,-191.9605 1918.1649,-192.5723\"/>\n",
       "</g>\n",
       "<!-- 61 -->\n",
       "<g id=\"node62\" class=\"node\">\n",
       "<title>61</title>\n",
       "<path fill=\"#399de5\" stroke=\"#000000\" d=\"M1963,-68C1963,-68 1871,-68 1871,-68 1865,-68 1859,-62 1859,-56 1859,-56 1859,-12 1859,-12 1859,-6 1865,0 1871,0 1871,0 1963,0 1963,0 1969,0 1975,-6 1975,-12 1975,-12 1975,-56 1975,-56 1975,-62 1969,-68 1963,-68\"/>\n",
       "<text text-anchor=\"start\" x=\"1867\" y=\"-52.8\" font-family=\"Helvetica,sans-Serif\" font-size=\"14.00\" fill=\"#000000\">entropy = 0.0</text>\n",
       "<text text-anchor=\"start\" x=\"1871.5\" y=\"-37.8\" font-family=\"Helvetica,sans-Serif\" font-size=\"14.00\" fill=\"#000000\">samples = 1</text>\n",
       "<text text-anchor=\"start\" x=\"1868\" y=\"-22.8\" font-family=\"Helvetica,sans-Serif\" font-size=\"14.00\" fill=\"#000000\">value = [0, 1]</text>\n",
       "<text text-anchor=\"start\" x=\"1884\" y=\"-7.8\" font-family=\"Helvetica,sans-Serif\" font-size=\"14.00\" fill=\"#000000\">class = o</text>\n",
       "</g>\n",
       "<!-- 60&#45;&gt;61 -->\n",
       "<g id=\"edge61\" class=\"edge\">\n",
       "<title>60&#45;&gt;61</title>\n",
       "<path fill=\"none\" stroke=\"#000000\" d=\"M1918.2836,-103.9564C1918.1306,-95.618 1917.968,-86.7535 1917.8117,-78.2359\"/>\n",
       "<polygon fill=\"#000000\" stroke=\"#000000\" points=\"1921.3082,-78.0113 1917.6253,-68.0772 1914.3094,-78.1398 1921.3082,-78.0113\"/>\n",
       "</g>\n",
       "<!-- 62 -->\n",
       "<g id=\"node63\" class=\"node\">\n",
       "<title>62</title>\n",
       "<path fill=\"#e58139\" fill-opacity=\"0.819608\" stroke=\"#000000\" d=\"M2115,-68C2115,-68 2005,-68 2005,-68 1999,-68 1993,-62 1993,-56 1993,-56 1993,-12 1993,-12 1993,-6 1999,0 2005,0 2005,0 2115,0 2115,0 2121,0 2127,-6 2127,-12 2127,-12 2127,-56 2127,-56 2127,-62 2121,-68 2115,-68\"/>\n",
       "<text text-anchor=\"start\" x=\"2001\" y=\"-52.8\" font-family=\"Helvetica,sans-Serif\" font-size=\"14.00\" fill=\"#000000\">entropy = 0.619</text>\n",
       "<text text-anchor=\"start\" x=\"2010\" y=\"-37.8\" font-family=\"Helvetica,sans-Serif\" font-size=\"14.00\" fill=\"#000000\">samples = 13</text>\n",
       "<text text-anchor=\"start\" x=\"2006.5\" y=\"-22.8\" font-family=\"Helvetica,sans-Serif\" font-size=\"14.00\" fill=\"#000000\">value = [11, 2]</text>\n",
       "<text text-anchor=\"start\" x=\"2029.5\" y=\"-7.8\" font-family=\"Helvetica,sans-Serif\" font-size=\"14.00\" fill=\"#000000\">class = l</text>\n",
       "</g>\n",
       "<!-- 60&#45;&gt;62 -->\n",
       "<g id=\"edge62\" class=\"edge\">\n",
       "<title>60&#45;&gt;62</title>\n",
       "<path fill=\"none\" stroke=\"#000000\" d=\"M1969.506,-103.9564C1981.9517,-94.3352 1995.3037,-84.0135 2007.8266,-74.3326\"/>\n",
       "<polygon fill=\"#000000\" stroke=\"#000000\" points=\"2010.1474,-76.9624 2015.9184,-68.0772 2005.8662,-71.4243 2010.1474,-76.9624\"/>\n",
       "</g>\n",
       "<!-- 64 -->\n",
       "<g id=\"node65\" class=\"node\">\n",
       "<title>64</title>\n",
       "<path fill=\"#399de5\" stroke=\"#000000\" d=\"M2106,-177C2106,-177 2014,-177 2014,-177 2008,-177 2002,-171 2002,-165 2002,-165 2002,-121 2002,-121 2002,-115 2008,-109 2014,-109 2014,-109 2106,-109 2106,-109 2112,-109 2118,-115 2118,-121 2118,-121 2118,-165 2118,-165 2118,-171 2112,-177 2106,-177\"/>\n",
       "<text text-anchor=\"start\" x=\"2010\" y=\"-161.8\" font-family=\"Helvetica,sans-Serif\" font-size=\"14.00\" fill=\"#000000\">entropy = 0.0</text>\n",
       "<text text-anchor=\"start\" x=\"2014.5\" y=\"-146.8\" font-family=\"Helvetica,sans-Serif\" font-size=\"14.00\" fill=\"#000000\">samples = 1</text>\n",
       "<text text-anchor=\"start\" x=\"2011\" y=\"-131.8\" font-family=\"Helvetica,sans-Serif\" font-size=\"14.00\" fill=\"#000000\">value = [0, 1]</text>\n",
       "<text text-anchor=\"start\" x=\"2027\" y=\"-116.8\" font-family=\"Helvetica,sans-Serif\" font-size=\"14.00\" fill=\"#000000\">class = o</text>\n",
       "</g>\n",
       "<!-- 63&#45;&gt;64 -->\n",
       "<g id=\"edge64\" class=\"edge\">\n",
       "<title>63&#45;&gt;64</title>\n",
       "<path fill=\"none\" stroke=\"#000000\" d=\"M2060.6559,-217.7677C2060.5703,-208.0161 2060.478,-197.4937 2060.3904,-187.509\"/>\n",
       "<polygon fill=\"#000000\" stroke=\"#000000\" points=\"2063.889,-187.3224 2060.3013,-177.3535 2056.8893,-187.3839 2063.889,-187.3224\"/>\n",
       "</g>\n",
       "<!-- 65 -->\n",
       "<g id=\"node66\" class=\"node\">\n",
       "<title>65</title>\n",
       "<path fill=\"#e58139\" fill-opacity=\"0.184314\" stroke=\"#000000\" d=\"M2258,-182C2258,-182 2148,-182 2148,-182 2142,-182 2136,-176 2136,-170 2136,-170 2136,-116 2136,-116 2136,-110 2142,-104 2148,-104 2148,-104 2258,-104 2258,-104 2264,-104 2270,-110 2270,-116 2270,-116 2270,-170 2270,-170 2270,-176 2264,-182 2258,-182\"/>\n",
       "<text text-anchor=\"start\" x=\"2160.5\" y=\"-167.8\" font-family=\"Helvetica,sans-Serif\" font-size=\"14.00\" fill=\"#000000\">X</text>\n",
       "<text text-anchor=\"start\" x=\"2170.5\" y=\"-167.8\" font-family=\"Helvetica,sans-Serif\" baseline-shift=\"sub\" font-size=\"14.00\" fill=\"#000000\">2</text>\n",
       "<text text-anchor=\"start\" x=\"2178.5\" y=\"-167.8\" font-family=\"Helvetica,sans-Serif\" font-size=\"14.00\" fill=\"#000000\"> ≤ &#45;1.234</text>\n",
       "<text text-anchor=\"start\" x=\"2144\" y=\"-153.8\" font-family=\"Helvetica,sans-Serif\" font-size=\"14.00\" fill=\"#000000\">entropy = 0.992</text>\n",
       "<text text-anchor=\"start\" x=\"2153\" y=\"-139.8\" font-family=\"Helvetica,sans-Serif\" font-size=\"14.00\" fill=\"#000000\">samples = 49</text>\n",
       "<text text-anchor=\"start\" x=\"2145\" y=\"-125.8\" font-family=\"Helvetica,sans-Serif\" font-size=\"14.00\" fill=\"#000000\">value = [27, 22]</text>\n",
       "<text text-anchor=\"start\" x=\"2172.5\" y=\"-111.8\" font-family=\"Helvetica,sans-Serif\" font-size=\"14.00\" fill=\"#000000\">class = l</text>\n",
       "</g>\n",
       "<!-- 63&#45;&gt;65 -->\n",
       "<g id=\"edge65\" class=\"edge\">\n",
       "<title>63&#45;&gt;65</title>\n",
       "<path fill=\"none\" stroke=\"#000000\" d=\"M2109.8683,-217.7677C2121.5825,-208.3633 2134.1898,-198.242 2146.228,-188.5775\"/>\n",
       "<polygon fill=\"#000000\" stroke=\"#000000\" points=\"2148.4347,-191.2943 2154.0416,-182.3046 2144.0525,-185.8357 2148.4347,-191.2943\"/>\n",
       "</g>\n",
       "<!-- 66 -->\n",
       "<g id=\"node67\" class=\"node\">\n",
       "<title>66</title>\n",
       "<path fill=\"#e58139\" stroke=\"#000000\" d=\"M2249,-68C2249,-68 2157,-68 2157,-68 2151,-68 2145,-62 2145,-56 2145,-56 2145,-12 2145,-12 2145,-6 2151,0 2157,0 2157,0 2249,0 2249,0 2255,0 2261,-6 2261,-12 2261,-12 2261,-56 2261,-56 2261,-62 2255,-68 2249,-68\"/>\n",
       "<text text-anchor=\"start\" x=\"2153\" y=\"-52.8\" font-family=\"Helvetica,sans-Serif\" font-size=\"14.00\" fill=\"#000000\">entropy = 0.0</text>\n",
       "<text text-anchor=\"start\" x=\"2157.5\" y=\"-37.8\" font-family=\"Helvetica,sans-Serif\" font-size=\"14.00\" fill=\"#000000\">samples = 3</text>\n",
       "<text text-anchor=\"start\" x=\"2154\" y=\"-22.8\" font-family=\"Helvetica,sans-Serif\" font-size=\"14.00\" fill=\"#000000\">value = [3, 0]</text>\n",
       "<text text-anchor=\"start\" x=\"2172.5\" y=\"-7.8\" font-family=\"Helvetica,sans-Serif\" font-size=\"14.00\" fill=\"#000000\">class = l</text>\n",
       "</g>\n",
       "<!-- 65&#45;&gt;66 -->\n",
       "<g id=\"edge66\" class=\"edge\">\n",
       "<title>65&#45;&gt;66</title>\n",
       "<path fill=\"none\" stroke=\"#000000\" d=\"M2203,-103.9564C2203,-95.618 2203,-86.7535 2203,-78.2359\"/>\n",
       "<polygon fill=\"#000000\" stroke=\"#000000\" points=\"2206.5001,-78.0772 2203,-68.0772 2199.5001,-78.0773 2206.5001,-78.0772\"/>\n",
       "</g>\n",
       "<!-- 67 -->\n",
       "<g id=\"node68\" class=\"node\">\n",
       "<title>67</title>\n",
       "<path fill=\"#e58139\" fill-opacity=\"0.082353\" stroke=\"#000000\" d=\"M2401,-68C2401,-68 2291,-68 2291,-68 2285,-68 2279,-62 2279,-56 2279,-56 2279,-12 2279,-12 2279,-6 2285,0 2291,0 2291,0 2401,0 2401,0 2407,0 2413,-6 2413,-12 2413,-12 2413,-56 2413,-56 2413,-62 2407,-68 2401,-68\"/>\n",
       "<text text-anchor=\"start\" x=\"2287\" y=\"-52.8\" font-family=\"Helvetica,sans-Serif\" font-size=\"14.00\" fill=\"#000000\">entropy = 0.999</text>\n",
       "<text text-anchor=\"start\" x=\"2296\" y=\"-37.8\" font-family=\"Helvetica,sans-Serif\" font-size=\"14.00\" fill=\"#000000\">samples = 46</text>\n",
       "<text text-anchor=\"start\" x=\"2288\" y=\"-22.8\" font-family=\"Helvetica,sans-Serif\" font-size=\"14.00\" fill=\"#000000\">value = [24, 22]</text>\n",
       "<text text-anchor=\"start\" x=\"2315.5\" y=\"-7.8\" font-family=\"Helvetica,sans-Serif\" font-size=\"14.00\" fill=\"#000000\">class = l</text>\n",
       "</g>\n",
       "<!-- 65&#45;&gt;67 -->\n",
       "<g id=\"edge67\" class=\"edge\">\n",
       "<title>65&#45;&gt;67</title>\n",
       "<path fill=\"none\" stroke=\"#000000\" d=\"M2254.2224,-103.9564C2266.8446,-94.3352 2280.386,-84.0135 2293.0866,-74.3326\"/>\n",
       "<polygon fill=\"#000000\" stroke=\"#000000\" points=\"2295.4619,-76.9229 2301.2932,-68.0772 2291.2184,-71.3558 2295.4619,-76.9229\"/>\n",
       "</g>\n",
       "<!-- 69 -->\n",
       "<g id=\"node70\" class=\"node\">\n",
       "<title>69</title>\n",
       "<path fill=\"#e58139\" stroke=\"#000000\" d=\"M2251,-291C2251,-291 2159,-291 2159,-291 2153,-291 2147,-285 2147,-279 2147,-279 2147,-235 2147,-235 2147,-229 2153,-223 2159,-223 2159,-223 2251,-223 2251,-223 2257,-223 2263,-229 2263,-235 2263,-235 2263,-279 2263,-279 2263,-285 2257,-291 2251,-291\"/>\n",
       "<text text-anchor=\"start\" x=\"2155\" y=\"-275.8\" font-family=\"Helvetica,sans-Serif\" font-size=\"14.00\" fill=\"#000000\">entropy = 0.0</text>\n",
       "<text text-anchor=\"start\" x=\"2159.5\" y=\"-260.8\" font-family=\"Helvetica,sans-Serif\" font-size=\"14.00\" fill=\"#000000\">samples = 5</text>\n",
       "<text text-anchor=\"start\" x=\"2156\" y=\"-245.8\" font-family=\"Helvetica,sans-Serif\" font-size=\"14.00\" fill=\"#000000\">value = [5, 0]</text>\n",
       "<text text-anchor=\"start\" x=\"2174.5\" y=\"-230.8\" font-family=\"Helvetica,sans-Serif\" font-size=\"14.00\" fill=\"#000000\">class = l</text>\n",
       "</g>\n",
       "<!-- 68&#45;&gt;69 -->\n",
       "<g id=\"edge69\" class=\"edge\">\n",
       "<title>68&#45;&gt;69</title>\n",
       "<path fill=\"none\" stroke=\"#000000\" d=\"M2205,-331.7677C2205,-322.0161 2205,-311.4937 2205,-301.509\"/>\n",
       "<polygon fill=\"#000000\" stroke=\"#000000\" points=\"2208.5001,-301.3535 2205,-291.3535 2201.5001,-301.3536 2208.5001,-301.3535\"/>\n",
       "</g>\n",
       "<!-- 70 -->\n",
       "<g id=\"node71\" class=\"node\">\n",
       "<title>70</title>\n",
       "<path fill=\"#e58139\" fill-opacity=\"0.600000\" stroke=\"#000000\" d=\"M2403,-296C2403,-296 2293,-296 2293,-296 2287,-296 2281,-290 2281,-284 2281,-284 2281,-230 2281,-230 2281,-224 2287,-218 2293,-218 2293,-218 2403,-218 2403,-218 2409,-218 2415,-224 2415,-230 2415,-230 2415,-284 2415,-284 2415,-290 2409,-296 2403,-296\"/>\n",
       "<text text-anchor=\"start\" x=\"2308\" y=\"-281.8\" font-family=\"Helvetica,sans-Serif\" font-size=\"14.00\" fill=\"#000000\">X</text>\n",
       "<text text-anchor=\"start\" x=\"2318\" y=\"-281.8\" font-family=\"Helvetica,sans-Serif\" baseline-shift=\"sub\" font-size=\"14.00\" fill=\"#000000\">5</text>\n",
       "<text text-anchor=\"start\" x=\"2326\" y=\"-281.8\" font-family=\"Helvetica,sans-Serif\" font-size=\"14.00\" fill=\"#000000\"> ≤ 0.696</text>\n",
       "<text text-anchor=\"start\" x=\"2289\" y=\"-267.8\" font-family=\"Helvetica,sans-Serif\" font-size=\"14.00\" fill=\"#000000\">entropy = 0.863</text>\n",
       "<text text-anchor=\"start\" x=\"2302.5\" y=\"-253.8\" font-family=\"Helvetica,sans-Serif\" font-size=\"14.00\" fill=\"#000000\">samples = 7</text>\n",
       "<text text-anchor=\"start\" x=\"2299\" y=\"-239.8\" font-family=\"Helvetica,sans-Serif\" font-size=\"14.00\" fill=\"#000000\">value = [5, 2]</text>\n",
       "<text text-anchor=\"start\" x=\"2317.5\" y=\"-225.8\" font-family=\"Helvetica,sans-Serif\" font-size=\"14.00\" fill=\"#000000\">class = l</text>\n",
       "</g>\n",
       "<!-- 68&#45;&gt;70 -->\n",
       "<g id=\"edge70\" class=\"edge\">\n",
       "<title>68&#45;&gt;70</title>\n",
       "<path fill=\"none\" stroke=\"#000000\" d=\"M2254.2125,-331.7677C2266.0092,-322.3633 2278.7052,-312.242 2290.8282,-302.5775\"/>\n",
       "<polygon fill=\"#000000\" stroke=\"#000000\" points=\"2293.0592,-305.2751 2298.6968,-296.3046 2288.6957,-299.8015 2293.0592,-305.2751\"/>\n",
       "</g>\n",
       "<!-- 71 -->\n",
       "<g id=\"node72\" class=\"node\">\n",
       "<title>71</title>\n",
       "<path fill=\"#399de5\" stroke=\"#000000\" d=\"M2394,-177C2394,-177 2302,-177 2302,-177 2296,-177 2290,-171 2290,-165 2290,-165 2290,-121 2290,-121 2290,-115 2296,-109 2302,-109 2302,-109 2394,-109 2394,-109 2400,-109 2406,-115 2406,-121 2406,-121 2406,-165 2406,-165 2406,-171 2400,-177 2394,-177\"/>\n",
       "<text text-anchor=\"start\" x=\"2298\" y=\"-161.8\" font-family=\"Helvetica,sans-Serif\" font-size=\"14.00\" fill=\"#000000\">entropy = 0.0</text>\n",
       "<text text-anchor=\"start\" x=\"2302.5\" y=\"-146.8\" font-family=\"Helvetica,sans-Serif\" font-size=\"14.00\" fill=\"#000000\">samples = 1</text>\n",
       "<text text-anchor=\"start\" x=\"2299\" y=\"-131.8\" font-family=\"Helvetica,sans-Serif\" font-size=\"14.00\" fill=\"#000000\">value = [0, 1]</text>\n",
       "<text text-anchor=\"start\" x=\"2315\" y=\"-116.8\" font-family=\"Helvetica,sans-Serif\" font-size=\"14.00\" fill=\"#000000\">class = o</text>\n",
       "</g>\n",
       "<!-- 70&#45;&gt;71 -->\n",
       "<g id=\"edge71\" class=\"edge\">\n",
       "<title>70&#45;&gt;71</title>\n",
       "<path fill=\"none\" stroke=\"#000000\" d=\"M2348,-217.7677C2348,-208.0161 2348,-197.4937 2348,-187.509\"/>\n",
       "<polygon fill=\"#000000\" stroke=\"#000000\" points=\"2351.5001,-187.3535 2348,-177.3535 2344.5001,-187.3536 2351.5001,-187.3535\"/>\n",
       "</g>\n",
       "<!-- 72 -->\n",
       "<g id=\"node73\" class=\"node\">\n",
       "<title>72</title>\n",
       "<path fill=\"#e58139\" fill-opacity=\"0.800000\" stroke=\"#000000\" d=\"M2539.5,-182C2539.5,-182 2438.5,-182 2438.5,-182 2432.5,-182 2426.5,-176 2426.5,-170 2426.5,-170 2426.5,-116 2426.5,-116 2426.5,-110 2432.5,-104 2438.5,-104 2438.5,-104 2539.5,-104 2539.5,-104 2545.5,-104 2551.5,-110 2551.5,-116 2551.5,-116 2551.5,-170 2551.5,-170 2551.5,-176 2545.5,-182 2539.5,-182\"/>\n",
       "<text text-anchor=\"start\" x=\"2446.5\" y=\"-167.8\" font-family=\"Helvetica,sans-Serif\" font-size=\"14.00\" fill=\"#000000\">X</text>\n",
       "<text text-anchor=\"start\" x=\"2456.5\" y=\"-167.8\" font-family=\"Helvetica,sans-Serif\" baseline-shift=\"sub\" font-size=\"14.00\" fill=\"#000000\">0</text>\n",
       "<text text-anchor=\"start\" x=\"2464.5\" y=\"-167.8\" font-family=\"Helvetica,sans-Serif\" font-size=\"14.00\" fill=\"#000000\"> ≤ &#45;0.399</text>\n",
       "<text text-anchor=\"start\" x=\"2434.5\" y=\"-153.8\" font-family=\"Helvetica,sans-Serif\" font-size=\"14.00\" fill=\"#000000\">entropy = 0.65</text>\n",
       "<text text-anchor=\"start\" x=\"2443.5\" y=\"-139.8\" font-family=\"Helvetica,sans-Serif\" font-size=\"14.00\" fill=\"#000000\">samples = 6</text>\n",
       "<text text-anchor=\"start\" x=\"2440\" y=\"-125.8\" font-family=\"Helvetica,sans-Serif\" font-size=\"14.00\" fill=\"#000000\">value = [5, 1]</text>\n",
       "<text text-anchor=\"start\" x=\"2458.5\" y=\"-111.8\" font-family=\"Helvetica,sans-Serif\" font-size=\"14.00\" fill=\"#000000\">class = l</text>\n",
       "</g>\n",
       "<!-- 70&#45;&gt;72 -->\n",
       "<g id=\"edge72\" class=\"edge\">\n",
       "<title>70&#45;&gt;72</title>\n",
       "<path fill=\"none\" stroke=\"#000000\" d=\"M2396.5242,-217.7677C2408.0451,-208.4529 2420.436,-198.4347 2432.2862,-188.8538\"/>\n",
       "<polygon fill=\"#000000\" stroke=\"#000000\" points=\"2434.8106,-191.3136 2440.3864,-182.3046 2430.4095,-185.8702 2434.8106,-191.3136\"/>\n",
       "</g>\n",
       "<!-- 73 -->\n",
       "<g id=\"node74\" class=\"node\">\n",
       "<title>73</title>\n",
       "<path fill=\"transparent\" stroke=\"#000000\" d=\"M2535,-68C2535,-68 2443,-68 2443,-68 2437,-68 2431,-62 2431,-56 2431,-56 2431,-12 2431,-12 2431,-6 2437,0 2443,0 2443,0 2535,0 2535,0 2541,0 2547,-6 2547,-12 2547,-12 2547,-56 2547,-56 2547,-62 2541,-68 2535,-68\"/>\n",
       "<text text-anchor=\"start\" x=\"2439\" y=\"-52.8\" font-family=\"Helvetica,sans-Serif\" font-size=\"14.00\" fill=\"#000000\">entropy = 1.0</text>\n",
       "<text text-anchor=\"start\" x=\"2443.5\" y=\"-37.8\" font-family=\"Helvetica,sans-Serif\" font-size=\"14.00\" fill=\"#000000\">samples = 2</text>\n",
       "<text text-anchor=\"start\" x=\"2440\" y=\"-22.8\" font-family=\"Helvetica,sans-Serif\" font-size=\"14.00\" fill=\"#000000\">value = [1, 1]</text>\n",
       "<text text-anchor=\"start\" x=\"2458.5\" y=\"-7.8\" font-family=\"Helvetica,sans-Serif\" font-size=\"14.00\" fill=\"#000000\">class = l</text>\n",
       "</g>\n",
       "<!-- 72&#45;&gt;73 -->\n",
       "<g id=\"edge73\" class=\"edge\">\n",
       "<title>72&#45;&gt;73</title>\n",
       "<path fill=\"none\" stroke=\"#000000\" d=\"M2489,-103.9564C2489,-95.618 2489,-86.7535 2489,-78.2359\"/>\n",
       "<polygon fill=\"#000000\" stroke=\"#000000\" points=\"2492.5001,-78.0772 2489,-68.0772 2485.5001,-78.0773 2492.5001,-78.0772\"/>\n",
       "</g>\n",
       "<!-- 74 -->\n",
       "<g id=\"node75\" class=\"node\">\n",
       "<title>74</title>\n",
       "<path fill=\"#e58139\" stroke=\"#000000\" d=\"M2669,-68C2669,-68 2577,-68 2577,-68 2571,-68 2565,-62 2565,-56 2565,-56 2565,-12 2565,-12 2565,-6 2571,0 2577,0 2577,0 2669,0 2669,0 2675,0 2681,-6 2681,-12 2681,-12 2681,-56 2681,-56 2681,-62 2675,-68 2669,-68\"/>\n",
       "<text text-anchor=\"start\" x=\"2573\" y=\"-52.8\" font-family=\"Helvetica,sans-Serif\" font-size=\"14.00\" fill=\"#000000\">entropy = 0.0</text>\n",
       "<text text-anchor=\"start\" x=\"2577.5\" y=\"-37.8\" font-family=\"Helvetica,sans-Serif\" font-size=\"14.00\" fill=\"#000000\">samples = 4</text>\n",
       "<text text-anchor=\"start\" x=\"2574\" y=\"-22.8\" font-family=\"Helvetica,sans-Serif\" font-size=\"14.00\" fill=\"#000000\">value = [4, 0]</text>\n",
       "<text text-anchor=\"start\" x=\"2592.5\" y=\"-7.8\" font-family=\"Helvetica,sans-Serif\" font-size=\"14.00\" fill=\"#000000\">class = l</text>\n",
       "</g>\n",
       "<!-- 72&#45;&gt;74 -->\n",
       "<g id=\"edge74\" class=\"edge\">\n",
       "<title>72&#45;&gt;74</title>\n",
       "<path fill=\"none\" stroke=\"#000000\" d=\"M2536.9986,-103.9564C2548.7138,-94.4268 2561.2739,-84.21 2573.0766,-74.6094\"/>\n",
       "<polygon fill=\"#000000\" stroke=\"#000000\" points=\"2575.5579,-77.1027 2581.1069,-68.0772 2571.1407,-71.6724 2575.5579,-77.1027\"/>\n",
       "</g>\n",
       "</g>\n",
       "</svg>\n"
      ],
      "text/plain": [
       "<graphviz.files.Source at 0x7f9d62d94dd8>"
      ]
     },
     "execution_count": 30,
     "metadata": {},
     "output_type": "execute_result"
    }
   ],
   "source": [
    "dot_data = tree.export_graphviz(DT_model, out_file=None, class_names='loan_status', filled=True, rounded=True, special_characters=True) \n",
    "\n",
    "graph = pydotplus.graph_from_dot_data(dot_data)\n",
    "graph.set_size('\"12,12!\"')\n",
    "gvz_graph = graphviz.Source(graph.to_string())\n",
    "\n",
    "gvz_graph"
   ]
  },
  {
   "cell_type": "markdown",
   "metadata": {},
   "source": [
    "## Support Vector Machine"
   ]
  },
  {
   "cell_type": "code",
   "execution_count": 31,
   "metadata": {},
   "outputs": [],
   "source": [
    "from sklearn import svm"
   ]
  },
  {
   "cell_type": "code",
   "execution_count": 32,
   "metadata": {},
   "outputs": [],
   "source": [
    "SVM_model = svm.SVC(kernel='rbf').fit(X, Y) "
   ]
  },
  {
   "cell_type": "code",
   "execution_count": 33,
   "metadata": {},
   "outputs": [
    {
     "data": {
      "text/plain": [
       "{'KNN-jaccard': 0.7947976878612717,\n",
       " 'KNN-f1-score': 0.7701843558681992,\n",
       " 'DT-jaccard': 0.8121387283236994,\n",
       " 'DT-f1-score': 0.8004728751552592,\n",
       " 'SVM-jaccard': 0.7687861271676301,\n",
       " 'SVM-f1-score': 0.683672614559772}"
      ]
     },
     "execution_count": 33,
     "metadata": {},
     "output_type": "execute_result"
    }
   ],
   "source": [
    "# Keep track the train score\n",
    "y_pred = SVM_model.predict(X)\n",
    "trainScores['SVM-jaccard'] = jaccard_similarity_score(Y, y_pred)\n",
    "trainScores['SVM-f1-score'] = f1_score(Y, y_pred, average='weighted')\n",
    "trainScores"
   ]
  },
  {
   "cell_type": "markdown",
   "metadata": {},
   "source": [
    "## Logistic Regression"
   ]
  },
  {
   "cell_type": "code",
   "execution_count": 34,
   "metadata": {},
   "outputs": [],
   "source": [
    "from sklearn.linear_model import LogisticRegression\n",
    "from sklearn.metrics import confusion_matrix"
   ]
  },
  {
   "cell_type": "code",
   "execution_count": 35,
   "metadata": {},
   "outputs": [],
   "source": [
    "LR_model = LogisticRegression(random_state=0, solver='lbfgs', multi_class='multinomial').fit(X,Y)"
   ]
  },
  {
   "cell_type": "code",
   "execution_count": 36,
   "metadata": {},
   "outputs": [
    {
     "data": {
      "text/plain": [
       "{'KNN-jaccard': 0.7947976878612717,\n",
       " 'KNN-f1-score': 0.7701843558681992,\n",
       " 'DT-jaccard': 0.8121387283236994,\n",
       " 'DT-f1-score': 0.8004728751552592,\n",
       " 'SVM-jaccard': 0.7687861271676301,\n",
       " 'SVM-f1-score': 0.683672614559772,\n",
       " 'LR-jaccard': 0.7630057803468208,\n",
       " 'LR-f1-score': 0.7088399037150602,\n",
       " 'LR-logLoss': 0.43174993676801543}"
      ]
     },
     "execution_count": 36,
     "metadata": {},
     "output_type": "execute_result"
    }
   ],
   "source": [
    "# Keep track the train score\n",
    "y_pred = LR_model.predict(X)\n",
    "y_proba = LR_model.predict_proba(X)\n",
    "trainScores['LR-jaccard'] = jaccard_similarity_score(Y, y_pred)\n",
    "trainScores['LR-f1-score'] = f1_score(Y, y_pred, average='weighted')\n",
    "trainScores['LR-logLoss'] = log_loss(Y, y_proba)\n",
    "trainScores"
   ]
  },
  {
   "cell_type": "markdown",
   "metadata": {},
   "source": [
    "# Model Evaluation using Test set"
   ]
  },
  {
   "cell_type": "markdown",
   "metadata": {},
   "source": [
    "First, download and load the test set:"
   ]
  },
  {
   "cell_type": "code",
   "execution_count": 37,
   "metadata": {},
   "outputs": [
    {
     "name": "stdout",
     "output_type": "stream",
     "text": [
      "--2020-02-04 14:29:12--  https://s3-api.us-geo.objectstorage.softlayer.net/cf-courses-data/CognitiveClass/ML0101ENv3/labs/loan_test.csv\n",
      "Resolving s3-api.us-geo.objectstorage.softlayer.net (s3-api.us-geo.objectstorage.softlayer.net)... 67.228.254.196\n",
      "Connecting to s3-api.us-geo.objectstorage.softlayer.net (s3-api.us-geo.objectstorage.softlayer.net)|67.228.254.196|:443... connected.\n",
      "HTTP request sent, awaiting response... 200 OK\n",
      "Length: 3642 (3.6K) [text/csv]\n",
      "Saving to: ‘loan_test.csv’\n",
      "\n",
      "100%[======================================>] 3,642       --.-K/s   in 0s      \n",
      "\n",
      "2020-02-04 14:29:12 (170 MB/s) - ‘loan_test.csv’ saved [3642/3642]\n",
      "\n"
     ]
    }
   ],
   "source": [
    "!wget -O loan_test.csv https://s3-api.us-geo.objectstorage.softlayer.net/cf-courses-data/CognitiveClass/ML0101ENv3/labs/loan_test.csv"
   ]
  },
  {
   "cell_type": "markdown",
   "metadata": {
    "button": false,
    "new_sheet": false,
    "run_control": {
     "read_only": false
    }
   },
   "source": [
    "## Load Test set for evaluation "
   ]
  },
  {
   "cell_type": "code",
   "execution_count": 38,
   "metadata": {
    "button": false,
    "new_sheet": false,
    "run_control": {
     "read_only": false
    }
   },
   "outputs": [
    {
     "data": {
      "text/html": [
       "<div>\n",
       "<style scoped>\n",
       "    .dataframe tbody tr th:only-of-type {\n",
       "        vertical-align: middle;\n",
       "    }\n",
       "\n",
       "    .dataframe tbody tr th {\n",
       "        vertical-align: top;\n",
       "    }\n",
       "\n",
       "    .dataframe thead th {\n",
       "        text-align: right;\n",
       "    }\n",
       "</style>\n",
       "<table border=\"1\" class=\"dataframe\">\n",
       "  <thead>\n",
       "    <tr style=\"text-align: right;\">\n",
       "      <th></th>\n",
       "      <th>Unnamed: 0</th>\n",
       "      <th>Unnamed: 0.1</th>\n",
       "      <th>loan_status</th>\n",
       "      <th>Principal</th>\n",
       "      <th>terms</th>\n",
       "      <th>effective_date</th>\n",
       "      <th>due_date</th>\n",
       "      <th>age</th>\n",
       "      <th>education</th>\n",
       "      <th>Gender</th>\n",
       "    </tr>\n",
       "  </thead>\n",
       "  <tbody>\n",
       "    <tr>\n",
       "      <th>0</th>\n",
       "      <td>1</td>\n",
       "      <td>1</td>\n",
       "      <td>PAIDOFF</td>\n",
       "      <td>1000</td>\n",
       "      <td>30</td>\n",
       "      <td>9/8/2016</td>\n",
       "      <td>10/7/2016</td>\n",
       "      <td>50</td>\n",
       "      <td>Bechalor</td>\n",
       "      <td>female</td>\n",
       "    </tr>\n",
       "    <tr>\n",
       "      <th>1</th>\n",
       "      <td>5</td>\n",
       "      <td>5</td>\n",
       "      <td>PAIDOFF</td>\n",
       "      <td>300</td>\n",
       "      <td>7</td>\n",
       "      <td>9/9/2016</td>\n",
       "      <td>9/15/2016</td>\n",
       "      <td>35</td>\n",
       "      <td>Master or Above</td>\n",
       "      <td>male</td>\n",
       "    </tr>\n",
       "    <tr>\n",
       "      <th>2</th>\n",
       "      <td>21</td>\n",
       "      <td>21</td>\n",
       "      <td>PAIDOFF</td>\n",
       "      <td>1000</td>\n",
       "      <td>30</td>\n",
       "      <td>9/10/2016</td>\n",
       "      <td>10/9/2016</td>\n",
       "      <td>43</td>\n",
       "      <td>High School or Below</td>\n",
       "      <td>female</td>\n",
       "    </tr>\n",
       "    <tr>\n",
       "      <th>3</th>\n",
       "      <td>24</td>\n",
       "      <td>24</td>\n",
       "      <td>PAIDOFF</td>\n",
       "      <td>1000</td>\n",
       "      <td>30</td>\n",
       "      <td>9/10/2016</td>\n",
       "      <td>10/9/2016</td>\n",
       "      <td>26</td>\n",
       "      <td>college</td>\n",
       "      <td>male</td>\n",
       "    </tr>\n",
       "    <tr>\n",
       "      <th>4</th>\n",
       "      <td>35</td>\n",
       "      <td>35</td>\n",
       "      <td>PAIDOFF</td>\n",
       "      <td>800</td>\n",
       "      <td>15</td>\n",
       "      <td>9/11/2016</td>\n",
       "      <td>9/25/2016</td>\n",
       "      <td>29</td>\n",
       "      <td>Bechalor</td>\n",
       "      <td>male</td>\n",
       "    </tr>\n",
       "  </tbody>\n",
       "</table>\n",
       "</div>"
      ],
      "text/plain": [
       "   Unnamed: 0  Unnamed: 0.1 loan_status  Principal  terms effective_date  \\\n",
       "0           1             1     PAIDOFF       1000     30       9/8/2016   \n",
       "1           5             5     PAIDOFF        300      7       9/9/2016   \n",
       "2          21            21     PAIDOFF       1000     30      9/10/2016   \n",
       "3          24            24     PAIDOFF       1000     30      9/10/2016   \n",
       "4          35            35     PAIDOFF        800     15      9/11/2016   \n",
       "\n",
       "    due_date  age             education  Gender  \n",
       "0  10/7/2016   50              Bechalor  female  \n",
       "1  9/15/2016   35       Master or Above    male  \n",
       "2  10/9/2016   43  High School or Below  female  \n",
       "3  10/9/2016   26               college    male  \n",
       "4  9/25/2016   29              Bechalor    male  "
      ]
     },
     "execution_count": 38,
     "metadata": {},
     "output_type": "execute_result"
    }
   ],
   "source": [
    "test_df = pd.read_csv('loan_test.csv')\n",
    "test_df.head()"
   ]
  },
  {
   "cell_type": "markdown",
   "metadata": {},
   "source": [
    "## Pre processing"
   ]
  },
  {
   "cell_type": "code",
   "execution_count": 39,
   "metadata": {},
   "outputs": [
    {
     "data": {
      "text/html": [
       "<div>\n",
       "<style scoped>\n",
       "    .dataframe tbody tr th:only-of-type {\n",
       "        vertical-align: middle;\n",
       "    }\n",
       "\n",
       "    .dataframe tbody tr th {\n",
       "        vertical-align: top;\n",
       "    }\n",
       "\n",
       "    .dataframe thead th {\n",
       "        text-align: right;\n",
       "    }\n",
       "</style>\n",
       "<table border=\"1\" class=\"dataframe\">\n",
       "  <thead>\n",
       "    <tr style=\"text-align: right;\">\n",
       "      <th></th>\n",
       "      <th>Principal</th>\n",
       "      <th>terms</th>\n",
       "      <th>age</th>\n",
       "      <th>Gender</th>\n",
       "      <th>weekend</th>\n",
       "      <th>dayofweek</th>\n",
       "      <th>Bechalor</th>\n",
       "      <th>High School or Below</th>\n",
       "      <th>college</th>\n",
       "    </tr>\n",
       "  </thead>\n",
       "  <tbody>\n",
       "    <tr>\n",
       "      <th>0</th>\n",
       "      <td>1000</td>\n",
       "      <td>30</td>\n",
       "      <td>50</td>\n",
       "      <td>0</td>\n",
       "      <td>0</td>\n",
       "      <td>3</td>\n",
       "      <td>1</td>\n",
       "      <td>0</td>\n",
       "      <td>0</td>\n",
       "    </tr>\n",
       "    <tr>\n",
       "      <th>1</th>\n",
       "      <td>300</td>\n",
       "      <td>7</td>\n",
       "      <td>35</td>\n",
       "      <td>1</td>\n",
       "      <td>1</td>\n",
       "      <td>4</td>\n",
       "      <td>0</td>\n",
       "      <td>0</td>\n",
       "      <td>0</td>\n",
       "    </tr>\n",
       "    <tr>\n",
       "      <th>2</th>\n",
       "      <td>1000</td>\n",
       "      <td>30</td>\n",
       "      <td>43</td>\n",
       "      <td>0</td>\n",
       "      <td>1</td>\n",
       "      <td>5</td>\n",
       "      <td>0</td>\n",
       "      <td>1</td>\n",
       "      <td>0</td>\n",
       "    </tr>\n",
       "    <tr>\n",
       "      <th>3</th>\n",
       "      <td>1000</td>\n",
       "      <td>30</td>\n",
       "      <td>26</td>\n",
       "      <td>1</td>\n",
       "      <td>1</td>\n",
       "      <td>5</td>\n",
       "      <td>0</td>\n",
       "      <td>0</td>\n",
       "      <td>1</td>\n",
       "    </tr>\n",
       "    <tr>\n",
       "      <th>4</th>\n",
       "      <td>800</td>\n",
       "      <td>15</td>\n",
       "      <td>29</td>\n",
       "      <td>1</td>\n",
       "      <td>1</td>\n",
       "      <td>6</td>\n",
       "      <td>1</td>\n",
       "      <td>0</td>\n",
       "      <td>0</td>\n",
       "    </tr>\n",
       "  </tbody>\n",
       "</table>\n",
       "</div>"
      ],
      "text/plain": [
       "   Principal  terms  age  Gender  weekend  dayofweek  Bechalor  \\\n",
       "0       1000     30   50       0        0          3         1   \n",
       "1        300      7   35       1        1          4         0   \n",
       "2       1000     30   43       0        1          5         0   \n",
       "3       1000     30   26       1        1          5         0   \n",
       "4        800     15   29       1        1          6         1   \n",
       "\n",
       "   High School or Below  college  \n",
       "0                     0        0  \n",
       "1                     0        0  \n",
       "2                     1        0  \n",
       "3                     0        1  \n",
       "4                     0        0  "
      ]
     },
     "execution_count": 39,
     "metadata": {},
     "output_type": "execute_result"
    }
   ],
   "source": [
    "test_df['due_date'] = pd.to_datetime(test_df['due_date'])\n",
    "test_df['effective_date'] = pd.to_datetime(test_df['effective_date'])\n",
    "test_df['dayofweek'] = test_df['effective_date'].dt.dayofweek\n",
    "test_df['weekend'] = test_df['dayofweek'].apply(lambda x: 1 if (x>3)  else 0)\n",
    "\n",
    "test_df['Gender'].replace('female', 0, inplace=True)\n",
    "test_df['Gender'].replace('male', 1, inplace=True)\n",
    "\n",
    "Feature_test = test_df[['Principal','terms','age','Gender','weekend','dayofweek']]\n",
    "Feature_test = pd.concat([Feature_test,pd.get_dummies(test_df['education'])], axis=1)\n",
    "Feature_test.drop(['Master or Above'], axis = 1,inplace=True)\n",
    "Feature_test.head()"
   ]
  },
  {
   "cell_type": "code",
   "execution_count": 40,
   "metadata": {},
   "outputs": [
    {
     "name": "stderr",
     "output_type": "stream",
     "text": [
      "/opt/conda/envs/Python36/lib/python3.6/site-packages/sklearn/preprocessing/data.py:645: DataConversionWarning: Data with input dtype uint8, int64 were all converted to float64 by StandardScaler.\n",
      "  return self.partial_fit(X, y)\n",
      "/opt/conda/envs/Python36/lib/python3.6/site-packages/ipykernel/__main__.py:8: DataConversionWarning: Data with input dtype uint8, int64 were all converted to float64 by StandardScaler.\n"
     ]
    }
   ],
   "source": [
    "# Split to X_test and Y_test\n",
    "X_test = Feature_test\n",
    "\n",
    "Y_test = test_df['loan_status']\n",
    "Y_test.replace('PAIDOFF', 0, inplace=True)\n",
    "Y_test.replace('COLLECTION', 1, inplace=True)\n",
    "\n",
    "X_test = preprocessing.StandardScaler().fit(X_test).transform(X_test)"
   ]
  },
  {
   "cell_type": "markdown",
   "metadata": {},
   "source": [
    "## Predict "
   ]
  },
  {
   "cell_type": "code",
   "execution_count": 41,
   "metadata": {},
   "outputs": [],
   "source": [
    "testScores={}\n",
    "\n",
    "y_pred = KNN_model.predict(X_test)\n",
    "testScores['KNN-jaccard'] = jaccard_similarity_score(Y_test, y_pred)\n",
    "testScores['KNN-f1-score'] = f1_score(Y_test, y_pred, average='weighted')\n",
    "testScores['KNN-logLoss'] = 'N/A'\n",
    "\n",
    "y_pred = DT_model.predict(X_test)\n",
    "testScores['DT-jaccard'] = jaccard_similarity_score(Y_test, y_pred)\n",
    "testScores['DT-f1-score'] = f1_score(Y_test, y_pred, average='weighted')\n",
    "testScores['DT-logLoss'] = 'N/A'\n",
    "\n",
    "y_pred = SVM_model.predict(X_test)\n",
    "testScores['SVM-jaccard'] = jaccard_similarity_score(Y_test, y_pred)\n",
    "testScores['SVM-f1-score'] = f1_score(Y_test, y_pred, average='weighted')\n",
    "testScores['SVM-logLoss'] = 'N/A'\n",
    "\n",
    "y_pred = LR_model.predict(X_test)\n",
    "y_proba = LR_model.predict_proba(X_test)\n",
    "testScores['LR-jaccard'] = jaccard_similarity_score(Y_test, y_pred)\n",
    "testScores['LR-f1-score'] = f1_score(Y_test, y_pred, average='weighted')\n",
    "testScores['LR-logLoss'] = log_loss(Y_test, y_proba)"
   ]
  },
  {
   "cell_type": "code",
   "execution_count": 43,
   "metadata": {},
   "outputs": [
    {
     "data": {
      "text/plain": [
       "{'KNN-jaccard': 0.7407407407407407,\n",
       " 'KNN-f1-score': 0.7144311330357843,\n",
       " 'KNN-logLoss': 'N/A',\n",
       " 'DT-jaccard': 0.8148148148148148,\n",
       " 'DT-f1-score': 0.8099506636092001,\n",
       " 'DT-logLoss': 'N/A',\n",
       " 'SVM-jaccard': 0.7222222222222222,\n",
       " 'SVM-f1-score': 0.6212664277180406,\n",
       " 'SVM-logLoss': 'N/A',\n",
       " 'LR-jaccard': 0.7777777777777778,\n",
       " 'LR-f1-score': 0.708937198067633,\n",
       " 'LR-logLoss': 0.47395785210731034}"
      ]
     },
     "execution_count": 43,
     "metadata": {},
     "output_type": "execute_result"
    }
   ],
   "source": [
    "# Show the Result\n",
    "testScores"
   ]
  },
  {
   "cell_type": "markdown",
   "metadata": {},
   "source": [
    "# Report"
   ]
  },
  {
   "cell_type": "markdown",
   "metadata": {},
   "source": [
    "| Algorithm          | Jaccard | F1-score | LogLoss |\n",
    "|--------------------|---------|----------|---------|\n",
    "| KNN                | 0.7407       | 0.7144        | N/A      |\n",
    "| Decision Tree      | 0.8148       | 0.8100        | N/A      |\n",
    "| SVM                | 0.7222       | 0.6213        | N/A      |\n",
    "| Logistic Regression | 0.7778       | 0.7089        | 0.4740      |"
   ]
  },
  {
   "cell_type": "markdown",
   "metadata": {},
   "source": [
    "#### Based on this result, we can see that the Decision Tree model has the best performance(I limit the depth of the tree to avoid the over fitting). Although the Logistic Regression does not perform well in train accuracy, it does show a great potential in the test set."
   ]
  }
 ],
 "metadata": {
  "kernelspec": {
   "display_name": "Python 3.6",
   "language": "python",
   "name": "python3"
  },
  "language_info": {
   "codemirror_mode": {
    "name": "ipython",
    "version": 3
   },
   "file_extension": ".py",
   "mimetype": "text/x-python",
   "name": "python",
   "nbconvert_exporter": "python",
   "pygments_lexer": "ipython3",
   "version": "3.6.9"
  }
 },
 "nbformat": 4,
 "nbformat_minor": 2
}
